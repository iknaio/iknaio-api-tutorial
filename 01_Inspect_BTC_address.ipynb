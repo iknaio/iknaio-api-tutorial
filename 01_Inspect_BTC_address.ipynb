{
 "cells": [
  {
   "cell_type": "markdown",
   "id": "d8cab03e",
   "metadata": {},
   "source": [
    "# Exercise 1 - Inspecting a Bitcoin address"
   ]
  },
  {
   "cell_type": "code",
   "execution_count": 1,
   "id": "faf7eaf3",
   "metadata": {},
   "outputs": [],
   "source": [
    "%load_ext autoreload\n",
    "%autoreload 2"
   ]
  },
  {
   "cell_type": "code",
   "execution_count": 2,
   "id": "consolidated-breach",
   "metadata": {},
   "outputs": [],
   "source": [
    "import json\n",
    "from pprint import pprint\n",
    "\n",
    "import graphsense\n",
    "from graphsense.api import addresses_api, bulk_api, entities_api, general_api"
   ]
  },
  {
   "cell_type": "markdown",
   "id": "2fa83f7e-7d2f-4031-abff-c83d7087935a",
   "metadata": {
    "tags": []
   },
   "source": [
    "## Notebook Setup"
   ]
  },
  {
   "cell_type": "markdown",
   "id": "feb264fa-1cc3-433e-a13c-8b523beaac9d",
   "metadata": {},
   "source": [
    "This notebook assumes that you already followed the instructions outlined in `README.md` and installed the [GraphSense Python API](https://github.com/graphsense/graphsense-python) library locally.\n",
    "\n",
    "First, we must setup our notebook and establish a connection to some hosted GraphSense instance.\n",
    "\n",
    "We connect to a GraphSense instance hosted by [Iknaio](https://www.ikna.io/) and enter our API key in the provided `config.json` configuration file. An API key will be provided during the tutorial. If you would like to get an API key later, drop an email to contact@iknaio.com"
   ]
  },
  {
   "cell_type": "markdown",
   "id": "c2b2ef98-c724-4d6a-91cd-c8c741fcc57c",
   "metadata": {},
   "source": [
    "## Load host and API key from config"
   ]
  },
  {
   "cell_type": "code",
   "execution_count": 3,
   "id": "f56228b5-c581-4076-9feb-d0c38f573dab",
   "metadata": {},
   "outputs": [
    {
     "data": {
      "text/plain": [
       "{'graphsense': {'host': 'https://api.ikna.io/',\n",
       "  'api_key': 'wnTGntS7x8SLJ7nDwyMSfHVQg0Y9XYP3'}}"
      ]
     },
     "execution_count": 3,
     "metadata": {},
     "output_type": "execute_result"
    }
   ],
   "source": [
    "f = open('config.json')\n",
    "config = json.load(f)\n",
    "f.close()\n",
    "config"
   ]
  },
  {
   "cell_type": "markdown",
   "id": "89c29226-e84e-4817-ab73-5f057fab2957",
   "metadata": {},
   "source": [
    "## Configure GraphSense client"
   ]
  },
  {
   "cell_type": "markdown",
   "id": "7b0810c9-31f2-47ab-8c71-c10e53bcc761",
   "metadata": {},
   "source": [
    "Now we configure the GraphSense Python library"
   ]
  },
  {
   "cell_type": "code",
   "execution_count": 4,
   "id": "illegal-victoria",
   "metadata": {},
   "outputs": [],
   "source": [
    "configuration = graphsense.Configuration(\n",
    "    host = config['graphsense']['host'],\n",
    "    api_key = {'api_key': config['graphsense']['api_key']})"
   ]
  },
  {
   "cell_type": "markdown",
   "id": "deab0739-6f4c-46f3-9aa2-8680d48cc4aa",
   "metadata": {},
   "source": [
    "We can test if our libary is working by retrieving summary statistics on supported ledgers."
   ]
  },
  {
   "cell_type": "code",
   "execution_count": 5,
   "id": "olympic-victory",
   "metadata": {
    "jupyter": {
     "outputs_hidden": true
    },
    "tags": []
   },
   "outputs": [
    {
     "name": "stdout",
     "output_type": "stream",
     "text": [
      "{'currencies': [{'name': 'btc',\n",
      "                 'no_address_relations': 6324455334,\n",
      "                 'no_addresses': 999362679,\n",
      "                 'no_blocks': 744618,\n",
      "                 'no_entities': 453401567,\n",
      "                 'no_labels': 989,\n",
      "                 'no_tagged_addresses': 235777372,\n",
      "                 'no_txs': 748154188,\n",
      "                 'timestamp': 1657583636},\n",
      "                {'name': 'bch',\n",
      "                 'no_address_relations': 2252085027,\n",
      "                 'no_addresses': 331665580,\n",
      "                 'no_blocks': 748221,\n",
      "                 'no_entities': 150204333,\n",
      "                 'no_labels': 84,\n",
      "                 'no_tagged_addresses': 13369862,\n",
      "                 'no_txs': 360726433,\n",
      "                 'timestamp': 1657495979},\n",
      "                {'name': 'ltc',\n",
      "                 'no_address_relations': 1273105685,\n",
      "                 'no_addresses': 140510180,\n",
      "                 'no_blocks': 2273844,\n",
      "                 'no_entities': 61175737,\n",
      "                 'no_labels': 64,\n",
      "                 'no_tagged_addresses': 15617993,\n",
      "                 'no_txs': 117408415,\n",
      "                 'timestamp': 1654213858},\n",
      "                {'name': 'zec',\n",
      "                 'no_address_relations': 103938716,\n",
      "                 'no_addresses': 7137233,\n",
      "                 'no_blocks': 1733232,\n",
      "                 'no_entities': 3532632,\n",
      "                 'no_labels': 8,\n",
      "                 'no_tagged_addresses': 651617,\n",
      "                 'no_txs': 11054107,\n",
      "                 'timestamp': 1657497577},\n",
      "                {'name': 'eth',\n",
      "                 'no_address_relations': 514678378,\n",
      "                 'no_addresses': 223139803,\n",
      "                 'no_blocks': 15130977,\n",
      "                 'no_entities': 0,\n",
      "                 'no_labels': 35461,\n",
      "                 'no_tagged_addresses': 41580,\n",
      "                 'no_txs': 1637450490,\n",
      "                 'timestamp': 1657670389}],\n",
      " 'request_timestamp': '2022-07-25 06:33:51',\n",
      " 'version': '1.0.0'}\n"
     ]
    }
   ],
   "source": [
    "with graphsense.ApiClient(configuration) as api_client:\n",
    "    api_instance = general_api.GeneralApi(api_client)\n",
    "    api_response = api_instance.get_statistics()\n",
    "    pprint(api_response)"
   ]
  },
  {
   "cell_type": "markdown",
   "id": "critical-apparel",
   "metadata": {},
   "source": [
    "# Address API"
   ]
  },
  {
   "cell_type": "markdown",
   "id": "9a08b89f",
   "metadata": {},
   "source": [
    "We start by retrieving some summary statistics on the Internet Archive's donation address. The response basically corresponds to the data shown in the property box of the GraphSense dashboard."
   ]
  },
  {
   "cell_type": "code",
   "execution_count": 6,
   "id": "35595780-4e81-4068-a760-74aac7f63d8e",
   "metadata": {
    "jupyter": {
     "outputs_hidden": true
    },
    "tags": []
   },
   "outputs": [
    {
     "name": "stdout",
     "output_type": "stream",
     "text": [
      "{'address': '1Archive1n2C579dMsAu3iC6tWzuQJz8dN',\n",
      " 'balance': {'fiat_values': [{'code': 'eur', 'value': 25160.42},\n",
      "                             {'code': 'usd', 'value': 25407.0}],\n",
      "             'value': 127222273},\n",
      " 'currency': 'btc',\n",
      " 'entity': 2647117,\n",
      " 'first_tx': {'height': 256314,\n",
      "              'timestamp': 1378415426,\n",
      "              'tx_hash': '04d92601677d62a985310b61a301e74870fa942c8be0648e16b1db23b996a8cd'},\n",
      " 'in_degree': 6396,\n",
      " 'last_tx': {'height': 744585,\n",
      "             'timestamp': 1657555640,\n",
      "             'tx_hash': 'b90126f8c685191330d230a512eaaba2c4a6890bbbb16040b5721e62c80f2431'},\n",
      " 'no_incoming_txs': 4850,\n",
      " 'no_outgoing_txs': 274,\n",
      " 'out_degree': 293,\n",
      " 'total_received': {'fiat_values': [{'code': 'eur', 'value': 2485713.0},\n",
      "                                    {'code': 'usd', 'value': 2960953.0}],\n",
      "                    'value': 41264476217},\n",
      " 'total_spent': {'fiat_values': [{'code': 'eur', 'value': 2369647.5},\n",
      "                                 {'code': 'usd', 'value': 2838626.75}],\n",
      "                 'value': 41137253944}}\n"
     ]
    }
   ],
   "source": [
    "with graphsense.ApiClient(configuration) as api_client:\n",
    "    api_instance = addresses_api.AddressesApi(api_client)\n",
    "\n",
    "    currency = \"btc\"\n",
    "    address = '1Archive1n2C579dMsAu3iC6tWzuQJz8dN'\n",
    "    include_tags = True\n",
    "\n",
    "    try:\n",
    "        resp_addr = api_instance.get_address(currency, address)\n",
    "        pprint(resp_addr)\n",
    "    except graphsense.ApiException as e:\n",
    "        print(\"Exception when calling AddressesApi->get_address: %s\\n\" % e)"
   ]
  },
  {
   "cell_type": "code",
   "execution_count": 7,
   "id": "ba1dcadd-64c1-41d4-8885-0c446f71785b",
   "metadata": {},
   "outputs": [
    {
     "name": "stdout",
     "output_type": "stream",
     "text": [
      "Address 1Archive1n2C579dMsAu3iC6tWzuQJz8dN received 2485713.0 EUR from 6396 addresses.\n"
     ]
    }
   ],
   "source": [
    "print(f\"Address {resp_addr.address} received {resp_addr.total_received.fiat_values[0].value} EUR \" + \n",
    "      f\"from {resp_addr.in_degree} addresses.\")"
   ]
  },
  {
   "cell_type": "markdown",
   "id": "fb4f86e5-9758-4fb5-ba9b-f8024c8f0a41",
   "metadata": {},
   "source": [
    "# Entities API"
   ]
  },
  {
   "cell_type": "markdown",
   "id": "755f4118",
   "metadata": {},
   "source": [
    "Next, we inspect the corresponding entity, which clusters other addresses that are likely conrolled by the owner of that address. The entity ID is contained in the address response."
   ]
  },
  {
   "cell_type": "code",
   "execution_count": 8,
   "id": "75d0df21-3240-413f-b96e-d0568e53af38",
   "metadata": {
    "jupyter": {
     "outputs_hidden": true
    },
    "tags": []
   },
   "outputs": [
    {
     "name": "stdout",
     "output_type": "stream",
     "text": [
      "{'balance': {'fiat_values': [{'code': 'eur', 'value': 25160.42},\n",
      "                             {'code': 'usd', 'value': 25407.0}],\n",
      "             'value': 127222273},\n",
      " 'best_address_tag': {'address': '1Archive1n2C579dMsAu3iC6tWzuQJz8dN',\n",
      "                      'category': 'organization',\n",
      "                      'confidence': 'service_data',\n",
      "                      'confidence_level': 50,\n",
      "                      'currency': 'BTC',\n",
      "                      'entity': 2647117.0,\n",
      "                      'is_cluster_definer': True,\n",
      "                      'label': 'internet archive',\n",
      "                      'lastmod': 1636675200,\n",
      "                      'source': 'https://archive.org/donate/cryptocurrency',\n",
      "                      'tagpack_creator': 'GraphSense Core Team',\n",
      "                      'tagpack_is_public': True,\n",
      "                      'tagpack_title': 'GraphSense Demo TagPack',\n",
      "                      'tagpack_uri': 'demo.yaml'},\n",
      " 'currency': 'btc',\n",
      " 'entity': 2647117,\n",
      " 'first_tx': {'height': 156529,\n",
      "              'timestamp': 1323298692,\n",
      "              'tx_hash': 'dc035c562acc3230cec8c870293c1119d62e60b13932565231dbe5c407ff7508'},\n",
      " 'in_degree': 5179,\n",
      " 'last_tx': {'height': 744585,\n",
      "             'timestamp': 1657555640,\n",
      "             'tx_hash': 'b90126f8c685191330d230a512eaaba2c4a6890bbbb16040b5721e62c80f2431'},\n",
      " 'no_address_tags': 6,\n",
      " 'no_addresses': 120,\n",
      " 'no_incoming_txs': 5728,\n",
      " 'no_outgoing_txs': 287,\n",
      " 'out_degree': 174,\n",
      " 'root_address': '17gN64BPHtxi4mEM3qWrxdwhieUvRq8R2r',\n",
      " 'total_received': {'fiat_values': [{'code': 'eur', 'value': 2517154.0},\n",
      "                                    {'code': 'usd', 'value': 3001429.25}],\n",
      "                    'value': 139909869532},\n",
      " 'total_spent': {'fiat_values': [{'code': 'eur', 'value': 2544918.5},\n",
      "                                 {'code': 'usd', 'value': 3062928.0}],\n",
      "                 'value': 139782647259}}\n"
     ]
    }
   ],
   "source": [
    "with graphsense.ApiClient(configuration) as api_client:\n",
    "    api_instance = entities_api.EntitiesApi(api_client)\n",
    "\n",
    "    currency = \"btc\" \n",
    "    entity = resp_addr.entity \n",
    "    include_tags = True \n",
    "\n",
    "    try:\n",
    "        resp_entity = api_instance.get_entity(currency, entity)\n",
    "        pprint(resp_entity)\n",
    "    except graphsense.ApiException as e:\n",
    "        print(\"Exception when calling EntitiesApi->get_entity: %s\\n\" % e)"
   ]
  },
  {
   "cell_type": "code",
   "execution_count": 9,
   "id": "541d0ca5-4f0e-48dd-b16d-b3b719ef18e1",
   "metadata": {},
   "outputs": [
    {
     "name": "stdout",
     "output_type": "stream",
     "text": [
      "Entity 2647117 likely controls 120 addresses, which received 2517154.0 EUR from 5179 entities.\n"
     ]
    }
   ],
   "source": [
    "print(f\"Entity {resp_entity.entity} likely controls {resp_entity.no_addresses} addresses, \" +\n",
    "      f\"which received {resp_entity.total_received.fiat_values[0].value} EUR \" + \n",
    "      f\"from {resp_entity.in_degree} entities.\")"
   ]
  },
  {
   "cell_type": "markdown",
   "id": "5d819165-71bc-4191-9a78-5fac1bf80214",
   "metadata": {},
   "source": [
    "# Entity Neighbors"
   ]
  },
  {
   "cell_type": "markdown",
   "id": "16a504c2",
   "metadata": {},
   "source": [
    "Finally, we retrieve all neighbor entities receiving funds from our focus entity. Since it is more covenient to work with dataframes, we use the GraphSense Bulk API interface to retrieve a dataframe of receiving neighbor nodes."
   ]
  },
  {
   "cell_type": "code",
   "execution_count": 10,
   "id": "0dea96aa",
   "metadata": {},
   "outputs": [],
   "source": [
    "import pandas as pd\n",
    "\n",
    "data = {'entity': [resp_addr.entity]}\n",
    "\n",
    "entityDF = pd.DataFrame.from_dict(data)"
   ]
  },
  {
   "cell_type": "code",
   "execution_count": 11,
   "id": "4f81d4c5-991c-494a-b06c-3f194e60e752",
   "metadata": {},
   "outputs": [
    {
     "name": "stdout",
     "output_type": "stream",
     "text": [
      "   _error  _info  _request_entity  entity_balance_eur  entity_balance_usd  \\\n",
      "0     NaN    NaN          2647117        2.630444e+08        2.656222e+08   \n",
      "1     NaN    NaN          2647117        3.490069e+04        3.524272e+04   \n",
      "\n",
      "   entity_balance_value  entity_best_address_tag_abuse  \\\n",
      "0         1330069043059                            NaN   \n",
      "1             176473408                            NaN   \n",
      "\n",
      "      entity_best_address_tag_address entity_best_address_tag_category  \\\n",
      "0  1CsBZRX2CpCg2Bk1tDyCCMYoS8WgeSijCA                           entity   \n",
      "1  1PEoUKNxTZsc5rFSQvQjeTVwDE9vEDCRWm                          service   \n",
      "\n",
      "  entity_best_address_tag_confidence  ...  entity_total_received_value  \\\n",
      "0                           override  ...             5212581902400158   \n",
      "1                       service_data  ...              133520860219149   \n",
      "\n",
      "  entity_total_spent_eur  entity_total_spent_usd  entity_total_spent_value  \\\n",
      "0           1.186978e+10            1.388656e+10          5211251833357099   \n",
      "1           2.256563e+08            3.006194e+08           133520683745741   \n",
      "\n",
      "                                  labels  labels_count no_txs value_eur  \\\n",
      "0  bitcoin-24.com,epay.info,supercluster             3      2     750.2   \n",
      "1                             bitpay.com             1      1     537.8   \n",
      "\n",
      "   value_usd value_value  \n",
      "0     986.69   953789282  \n",
      "1     673.60   200000000  \n",
      "\n",
      "[2 rows x 48 columns]\n"
     ]
    }
   ],
   "source": [
    "with graphsense.ApiClient(configuration) as api_client:\n",
    "    api_instance = bulk_api.BulkApi(api_client)\n",
    "\n",
    "    CURRENCY = \"btc\"\n",
    "    operation = \"list_entity_neighbors\"\n",
    "    body = {'entity': entityDF['entity'].to_list(),\n",
    "            'direction': 'out',\n",
    "            'include_labels': True}\n",
    "\n",
    "    try:\n",
    "        respDF = pd.read_csv(\n",
    "                    api_instance.bulk_csv(CURRENCY, operation, body=body,\n",
    "                                          num_pages=2,\n",
    "                                          _preload_content=False))\n",
    "        pprint(respDF)\n",
    "    except graphsense.ApiException as e:\n",
    "        print(\"Exception when calling BulkApi->bulk_csv: %s\\n\" % e)"
   ]
  },
  {
   "cell_type": "markdown",
   "id": "80a80ffd",
   "metadata": {},
   "source": [
    "We filter the result and see the reltaions between known entity IDs. We also see two known receiving entities."
   ]
  },
  {
   "cell_type": "code",
   "execution_count": 12,
   "id": "a48854f3",
   "metadata": {},
   "outputs": [
    {
     "data": {
      "text/html": [
       "<div>\n",
       "<style scoped>\n",
       "    .dataframe tbody tr th:only-of-type {\n",
       "        vertical-align: middle;\n",
       "    }\n",
       "\n",
       "    .dataframe tbody tr th {\n",
       "        vertical-align: top;\n",
       "    }\n",
       "\n",
       "    .dataframe thead th {\n",
       "        text-align: right;\n",
       "    }\n",
       "</style>\n",
       "<table border=\"1\" class=\"dataframe\">\n",
       "  <thead>\n",
       "    <tr style=\"text-align: right;\">\n",
       "      <th></th>\n",
       "      <th>src</th>\n",
       "      <th>dst</th>\n",
       "      <th>dst_label</th>\n",
       "      <th>no_txs</th>\n",
       "    </tr>\n",
       "  </thead>\n",
       "  <tbody>\n",
       "    <tr>\n",
       "      <th>0</th>\n",
       "      <td>109577</td>\n",
       "      <td>2647117</td>\n",
       "      <td>bitcoin-24.com,epay.info,supercluster</td>\n",
       "      <td>2</td>\n",
       "    </tr>\n",
       "    <tr>\n",
       "      <th>1</th>\n",
       "      <td>1084055</td>\n",
       "      <td>2647117</td>\n",
       "      <td>bitpay.com</td>\n",
       "      <td>1</td>\n",
       "    </tr>\n",
       "  </tbody>\n",
       "</table>\n",
       "</div>"
      ],
      "text/plain": [
       "       src      dst                              dst_label  no_txs\n",
       "0   109577  2647117  bitcoin-24.com,epay.info,supercluster       2\n",
       "1  1084055  2647117                             bitpay.com       1"
      ]
     },
     "execution_count": 12,
     "metadata": {},
     "output_type": "execute_result"
    }
   ],
   "source": [
    "resultDF = respDF[['entity_entity', '_request_entity', 'labels', 'no_txs']] \\\n",
    "    .rename(columns={'entity_entity': 'src', '_request_entity': 'dst', 'labels': 'dst_label'})\n",
    "resultDF"
   ]
  }
 ],
 "metadata": {
  "kernelspec": {
   "display_name": "Python 3 (ipykernel)",
   "language": "python",
   "name": "python3"
  },
  "language_info": {
   "codemirror_mode": {
    "name": "ipython",
    "version": 3
   },
   "file_extension": ".py",
   "mimetype": "text/x-python",
   "name": "python",
   "nbconvert_exporter": "python",
   "pygments_lexer": "ipython3",
   "version": "3.10.5"
  }
 },
 "nbformat": 4,
 "nbformat_minor": 5
}
