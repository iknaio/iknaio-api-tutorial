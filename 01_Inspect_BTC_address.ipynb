{
 "cells": [
  {
   "cell_type": "markdown",
   "id": "d8cab03e",
   "metadata": {},
   "source": [
    "# Exercise 1 | Inspecting a Bitcoin address"
   ]
  },
  {
   "cell_type": "code",
   "execution_count": 17,
   "id": "faf7eaf3",
   "metadata": {
    "ExecuteTime": {
     "end_time": "2023-10-09T12:01:19.819701322Z",
     "start_time": "2023-10-09T12:01:19.709141641Z"
    }
   },
   "outputs": [
    {
     "name": "stdout",
     "output_type": "stream",
     "text": [
      "The autoreload extension is already loaded. To reload it, use:\n",
      "  %reload_ext autoreload\n"
     ]
    }
   ],
   "source": [
    "%load_ext autoreload\n",
    "%autoreload 2"
   ]
  },
  {
   "cell_type": "code",
   "execution_count": 18,
   "id": "consolidated-breach",
   "metadata": {
    "ExecuteTime": {
     "end_time": "2023-10-09T12:01:19.857411117Z",
     "start_time": "2023-10-09T12:01:19.721199432Z"
    }
   },
   "outputs": [],
   "source": [
    "import json\n",
    "from pprint import pprint\n",
    "    \n",
    "import graphsense\n",
    "from graphsense.api import addresses_api, bulk_api, entities_api, general_api"
   ]
  },
  {
   "cell_type": "markdown",
   "id": "2fa83f7e-7d2f-4031-abff-c83d7087935a",
   "metadata": {
    "tags": []
   },
   "source": [
    "## Notebook Setup"
   ]
  },
  {
   "cell_type": "markdown",
   "id": "feb264fa-1cc3-433e-a13c-8b523beaac9d",
   "metadata": {},
   "source": [
    "This notebook assumes that you already followed the instructions outlined in `README.md` and installed the [GraphSense Python API](https://github.com/graphsense/graphsense-python) library locally.\n",
    "\n",
    "First, we must setup our notebook and establish a connection to some hosted GraphSense instance.\n",
    "\n",
    "We connect to a GraphSense instance hosted by [Iknaio](https://www.ikna.io/) and enter our API key in the provided `config.json` configuration file. An API key will be provided during the tutorial. If you would like to get an API key later, drop an email to contact@iknaio.com"
   ]
  },
  {
   "cell_type": "markdown",
   "id": "c2b2ef98-c724-4d6a-91cd-c8c741fcc57c",
   "metadata": {},
   "source": [
    "## Load host and API key from config"
   ]
  },
  {
   "cell_type": "code",
   "execution_count": 19,
   "id": "f56228b5-c581-4076-9feb-d0c38f573dab",
   "metadata": {
    "ExecuteTime": {
     "end_time": "2023-10-09T12:01:19.861135465Z",
     "start_time": "2023-10-09T12:01:19.779611947Z"
    }
   },
   "outputs": [],
   "source": [
    "f = open('config.json')\n",
    "config = json.load(f)\n",
    "f.close()"
   ]
  },
  {
   "cell_type": "markdown",
   "id": "89c29226-e84e-4817-ab73-5f057fab2957",
   "metadata": {},
   "source": [
    "## Configure GraphSense client"
   ]
  },
  {
   "cell_type": "markdown",
   "id": "7b0810c9-31f2-47ab-8c71-c10e53bcc761",
   "metadata": {},
   "source": [
    "Now we configure the GraphSense Python library"
   ]
  },
  {
   "cell_type": "code",
   "execution_count": 20,
   "id": "illegal-victoria",
   "metadata": {
    "ExecuteTime": {
     "end_time": "2023-10-09T12:01:19.861228597Z",
     "start_time": "2023-10-09T12:01:19.779889277Z"
    }
   },
   "outputs": [],
   "source": [
    "configuration = graphsense.Configuration(\n",
    "    host = config['graphsense']['host'],\n",
    "    api_key = {'api_key': config['graphsense']['api_key']})"
   ]
  },
  {
   "cell_type": "markdown",
   "id": "deab0739-6f4c-46f3-9aa2-8680d48cc4aa",
   "metadata": {},
   "source": [
    "We can test if our libary is working by retrieving summary statistics on supported ledgers."
   ]
  },
  {
   "cell_type": "code",
   "execution_count": 21,
   "id": "olympic-victory",
   "metadata": {
    "collapsed": true,
    "jupyter": {
     "outputs_hidden": true
    },
    "tags": [],
    "ExecuteTime": {
     "end_time": "2023-10-09T12:01:20.017670262Z",
     "start_time": "2023-10-09T12:01:19.785204182Z"
    }
   },
   "outputs": [
    {
     "name": "stdout",
     "output_type": "stream",
     "text": [
      "{'currencies': [{'name': 'btc',\n",
      "                 'no_address_relations': 8838400431,\n",
      "                 'no_addresses': 1198080403,\n",
      "                 'no_blocks': 810968,\n",
      "                 'no_entities': 539074172,\n",
      "                 'no_labels': 18757,\n",
      "                 'no_tagged_addresses': 286973150,\n",
      "                 'no_txs': 903675306,\n",
      "                 'timestamp': 1696626939},\n",
      "                {'name': 'bch',\n",
      "                 'no_address_relations': 2483597490,\n",
      "                 'no_addresses': 341485142,\n",
      "                 'no_blocks': 814258,\n",
      "                 'no_entities': 153580428,\n",
      "                 'no_labels': 154,\n",
      "                 'no_tagged_addresses': 15922605,\n",
      "                 'no_txs': 375181820,\n",
      "                 'timestamp': 1696832873},\n",
      "                {'name': 'ltc',\n",
      "                 'no_address_relations': 1790574705,\n",
      "                 'no_addresses': 208110517,\n",
      "                 'no_blocks': 2559048,\n",
      "                 'no_entities': 90626455,\n",
      "                 'no_labels': 242,\n",
      "                 'no_tagged_addresses': 27887722,\n",
      "                 'no_txs': 180142823,\n",
      "                 'timestamp': 1696837448},\n",
      "                {'name': 'zec',\n",
      "                 'no_address_relations': 116782256,\n",
      "                 'no_addresses': 7919555,\n",
      "                 'no_blocks': 2255207,\n",
      "                 'no_entities': 3986027,\n",
      "                 'no_labels': 26,\n",
      "                 'no_tagged_addresses': 1438321,\n",
      "                 'no_txs': 13510974,\n",
      "                 'timestamp': 1696835987},\n",
      "                {'name': 'eth',\n",
      "                 'no_address_relations': 1024142613,\n",
      "                 'no_addresses': 270965142,\n",
      "                 'no_blocks': 18312096,\n",
      "                 'no_entities': 0,\n",
      "                 'no_labels': 27966,\n",
      "                 'no_tagged_addresses': 250998,\n",
      "                 'no_txs': 2087361958,\n",
      "                 'timestamp': 1696844615}],\n",
      " 'request_timestamp': '2023-10-09 12:01:19',\n",
      " 'version': '1.4.0'}\n"
     ]
    }
   ],
   "source": [
    "with graphsense.ApiClient(configuration) as api_client:\n",
    "    api_instance = general_api.GeneralApi(api_client)\n",
    "    api_response = api_instance.get_statistics()\n",
    "    pprint(api_response)"
   ]
  },
  {
   "cell_type": "markdown",
   "id": "critical-apparel",
   "metadata": {},
   "source": [
    "# Address API"
   ]
  },
  {
   "cell_type": "markdown",
   "id": "9a08b89f",
   "metadata": {},
   "source": [
    "We start by retrieving some summary statistics on the Internet Archive's donation address. The response basically corresponds to the data shown in the property box of the GraphSense dashboard."
   ]
  },
  {
   "cell_type": "code",
   "execution_count": 22,
   "id": "35595780-4e81-4068-a760-74aac7f63d8e",
   "metadata": {
    "collapsed": true,
    "jupyter": {
     "outputs_hidden": true
    },
    "tags": [],
    "ExecuteTime": {
     "end_time": "2023-10-09T12:01:20.112418285Z",
     "start_time": "2023-10-09T12:01:20.011529607Z"
    }
   },
   "outputs": [
    {
     "name": "stdout",
     "output_type": "stream",
     "text": [
      "{'actors': [{'id': 'internet_archive', 'label': 'Internet Archive'}],\n",
      " 'address': '1Archive1n2C579dMsAu3iC6tWzuQJz8dN',\n",
      " 'balance': {'fiat_values': [{'code': 'eur', 'value': 33395.54},\n",
      "                             {'code': 'usd', 'value': 35275.71}],\n",
      "             'value': 126225428},\n",
      " 'currency': 'btc',\n",
      " 'entity': 2647118,\n",
      " 'first_tx': {'height': 256314,\n",
      "              'timestamp': 1378415426,\n",
      "              'tx_hash': '04d92601677d62a985310b61a301e74870fa942c8be0648e16b1db23b996a8cd'},\n",
      " 'in_degree': 7313,\n",
      " 'last_tx': {'height': 810390,\n",
      "             'timestamp': 1696298264,\n",
      "             'tx_hash': 'bd9e5225e5e500996b4406faebb6d41d7f13308cfab3be81c27de0aa96a14f78'},\n",
      " 'no_incoming_txs': 5483,\n",
      " 'no_outgoing_txs': 287,\n",
      " 'out_degree': 302,\n",
      " 'status': 'clean',\n",
      " 'total_received': {'fiat_values': [{'code': 'eur', 'value': 6554328.0},\n",
      "                                    {'code': 'usd', 'value': 6987914.5}],\n",
      "                    'value': 62081260018},\n",
      " 'total_spent': {'fiat_values': [{'code': 'eur', 'value': 6866195.0},\n",
      "                                 {'code': 'usd', 'value': 7362050.0}],\n",
      "                 'value': 61955034590}}\n"
     ]
    }
   ],
   "source": [
    "with graphsense.ApiClient(configuration) as api_client:\n",
    "    api_instance = addresses_api.AddressesApi(api_client)\n",
    "\n",
    "    currency = \"btc\"\n",
    "    address = '1Archive1n2C579dMsAu3iC6tWzuQJz8dN'\n",
    "    include_tags = True\n",
    "\n",
    "    try:\n",
    "        resp_addr = api_instance.get_address(currency, address)\n",
    "        pprint(resp_addr)\n",
    "    except graphsense.ApiException as e:\n",
    "        print(\"Exception when calling AddressesApi->get_address: %s\\n\" % e)"
   ]
  },
  {
   "cell_type": "code",
   "execution_count": 23,
   "id": "ba1dcadd-64c1-41d4-8885-0c446f71785b",
   "metadata": {
    "ExecuteTime": {
     "end_time": "2023-10-09T12:01:20.159829127Z",
     "start_time": "2023-10-09T12:01:20.112632988Z"
    }
   },
   "outputs": [
    {
     "name": "stdout",
     "output_type": "stream",
     "text": [
      "Address 1Archive1n2C579dMsAu3iC6tWzuQJz8dN received 6554328.0 EUR from 7313 addresses.\n"
     ]
    }
   ],
   "source": [
    "print(f\"Address {resp_addr.address} received {resp_addr.total_received.fiat_values[0].value} EUR \" + \n",
    "      f\"from {resp_addr.in_degree} addresses.\")"
   ]
  },
  {
   "cell_type": "markdown",
   "id": "fb4f86e5-9758-4fb5-ba9b-f8024c8f0a41",
   "metadata": {},
   "source": [
    "# Entities API"
   ]
  },
  {
   "cell_type": "markdown",
   "id": "755f4118",
   "metadata": {},
   "source": [
    "Next, we inspect the corresponding entity, which clusters other addresses that are likely conrolled by the owner of that address. The entity ID is contained in the address response."
   ]
  },
  {
   "cell_type": "code",
   "execution_count": 24,
   "id": "75d0df21-3240-413f-b96e-d0568e53af38",
   "metadata": {
    "collapsed": true,
    "jupyter": {
     "outputs_hidden": true
    },
    "tags": [],
    "ExecuteTime": {
     "end_time": "2023-10-09T12:01:20.308568604Z",
     "start_time": "2023-10-09T12:01:20.159554933Z"
    }
   },
   "outputs": [
    {
     "name": "stdout",
     "output_type": "stream",
     "text": [
      "{'balance': {'fiat_values': [{'code': 'eur', 'value': 33395.54},\n",
      "                             {'code': 'usd', 'value': 35275.71}],\n",
      "             'value': 126225428},\n",
      " 'best_address_tag': {'actor': 'internet_archive',\n",
      "                      'address': '1Archive1n2C579dMsAu3iC6tWzuQJz8dN',\n",
      "                      'category': 'organization',\n",
      "                      'confidence': 'service_data',\n",
      "                      'confidence_level': 50,\n",
      "                      'currency': 'BTC',\n",
      "                      'entity': 2647118.0,\n",
      "                      'is_cluster_definer': True,\n",
      "                      'label': 'internet archive',\n",
      "                      'lastmod': 1636675200,\n",
      "                      'source': 'https://archive.org/donate/cryptocurrency',\n",
      "                      'tagpack_creator': 'GraphSense Core Team',\n",
      "                      'tagpack_is_public': True,\n",
      "                      'tagpack_title': 'GraphSense Demo TagPack',\n",
      "                      'tagpack_uri': '1f030eb44c7ca37b:packs/demo.yaml'},\n",
      " 'currency': 'btc',\n",
      " 'entity': 2647118,\n",
      " 'first_tx': {'height': 156529,\n",
      "              'timestamp': 1323298692,\n",
      "              'tx_hash': 'dc035c562acc3230cec8c870293c1119d62e60b13932565231dbe5c407ff7508'},\n",
      " 'in_degree': 5743,\n",
      " 'last_tx': {'height': 810390,\n",
      "             'timestamp': 1696298264,\n",
      "             'tx_hash': 'bd9e5225e5e500996b4406faebb6d41d7f13308cfab3be81c27de0aa96a14f78'},\n",
      " 'no_address_tags': 2,\n",
      " 'no_addresses': 124,\n",
      " 'no_incoming_txs': 6363,\n",
      " 'no_outgoing_txs': 300,\n",
      " 'out_degree': 178,\n",
      " 'root_address': '17gN64BPHtxi4mEM3qWrxdwhieUvRq8R2r',\n",
      " 'total_received': {'fiat_values': [{'code': 'eur', 'value': 8766926.0},\n",
      "                                    {'code': 'usd', 'value': 9243403.0}],\n",
      "                    'value': 170627648999},\n",
      " 'total_spent': {'fiat_values': [{'code': 'eur', 'value': 9222424.0},\n",
      "                                 {'code': 'usd', 'value': 9801002.0}],\n",
      "                 'value': 170501423571}}\n"
     ]
    }
   ],
   "source": [
    "with graphsense.ApiClient(configuration) as api_client:\n",
    "    api_instance = entities_api.EntitiesApi(api_client)\n",
    "\n",
    "    currency = \"btc\" \n",
    "    entity = resp_addr.entity \n",
    "    include_tags = True \n",
    "\n",
    "    try:\n",
    "        resp_entity = api_instance.get_entity(currency, entity)\n",
    "        pprint(resp_entity)\n",
    "    except graphsense.ApiException as e:\n",
    "        print(\"Exception when calling EntitiesApi->get_entity: %s\\n\" % e)"
   ]
  },
  {
   "cell_type": "code",
   "execution_count": 25,
   "id": "541d0ca5-4f0e-48dd-b16d-b3b719ef18e1",
   "metadata": {
    "ExecuteTime": {
     "end_time": "2023-10-09T12:01:20.323160142Z",
     "start_time": "2023-10-09T12:01:20.306801014Z"
    }
   },
   "outputs": [
    {
     "name": "stdout",
     "output_type": "stream",
     "text": [
      "Entity 2647118 likely controls 124 addresses, which received 8766926.0 EUR from 5743 entities.\n"
     ]
    }
   ],
   "source": [
    "print(f\"Entity {resp_entity.entity} likely controls {resp_entity.no_addresses} addresses, \" +\n",
    "      f\"which received {resp_entity.total_received.fiat_values[0].value} EUR \" + \n",
    "      f\"from {resp_entity.in_degree} entities.\")"
   ]
  },
  {
   "cell_type": "markdown",
   "id": "5d819165-71bc-4191-9a78-5fac1bf80214",
   "metadata": {},
   "source": [
    "# Entity Neighbors"
   ]
  },
  {
   "cell_type": "markdown",
   "id": "16a504c2",
   "metadata": {},
   "source": [
    "Finally, we retrieve all neighbor entities receiving funds from our focus entity. Since it is more convenient to work with dataframes, we use the GraphSense Bulk API interface to retrieve a dataframe of receiving neighbor nodes."
   ]
  },
  {
   "cell_type": "code",
   "execution_count": 26,
   "id": "0dea96aa",
   "metadata": {
    "ExecuteTime": {
     "end_time": "2023-10-09T12:01:20.353932617Z",
     "start_time": "2023-10-09T12:01:20.322217222Z"
    }
   },
   "outputs": [],
   "source": [
    "import pandas as pd\n",
    "\n",
    "data = {'entity': [resp_addr.entity]}\n",
    "\n",
    "entityDF = pd.DataFrame.from_dict(data)"
   ]
  },
  {
   "cell_type": "code",
   "execution_count": 27,
   "id": "4f81d4c5-991c-494a-b06c-3f194e60e752",
   "metadata": {
    "ExecuteTime": {
     "end_time": "2023-10-09T12:01:21.915045721Z",
     "start_time": "2023-10-09T12:01:20.343917513Z"
    }
   },
   "outputs": [],
   "source": [
    "with graphsense.ApiClient(configuration) as api_client:\n",
    "    api_instance = bulk_api.BulkApi(api_client)\n",
    "\n",
    "    CURRENCY = \"btc\"\n",
    "    operation = \"list_entity_neighbors\"\n",
    "    body = {'entity': entityDF['entity'].to_list(),\n",
    "            'direction': 'out',\n",
    "            'include_labels': True}\n",
    "\n",
    "    try:\n",
    "        respDF = pd.read_csv(\n",
    "                    api_instance.bulk_csv(CURRENCY, operation, body=body,\n",
    "                                          num_pages=2,\n",
    "                                          _preload_content=False))\n",
    "    except graphsense.ApiException as e:\n",
    "        print(\"Exception when calling BulkApi->bulk_csv: %s\\n\" % e)"
   ]
  },
  {
   "cell_type": "code",
   "execution_count": 28,
   "id": "1a94e586",
   "metadata": {
    "collapsed": true,
    "ExecuteTime": {
     "end_time": "2023-10-09T12:01:21.932610741Z",
     "start_time": "2023-10-09T12:01:21.915812198Z"
    }
   },
   "outputs": [
    {
     "data": {
      "text/plain": "     _error  _info  _request_entity  entity_actors  entity_balance_eur  \\\n0       NaN    NaN          2647118            NaN        2.343859e+08   \n1       NaN    NaN          2647118            NaN        5.014494e+04   \n2       NaN    NaN          2647118            NaN        3.339554e+04   \n3       NaN    NaN          2647118            NaN        0.000000e+00   \n4       NaN    NaN          2647118            NaN        4.275434e+07   \n..      ...    ...              ...            ...                 ...   \n173     NaN    NaN          2647118            NaN        0.000000e+00   \n174     NaN    NaN          2647118            NaN        0.000000e+00   \n175     NaN    NaN          2647118            NaN        0.000000e+00   \n176     NaN    NaN          2647118            NaN        3.700000e-01   \n177     NaN    NaN          2647118            NaN        0.000000e+00   \n\n     entity_balance_usd  entity_balance_value  entity_best_address_tag_abuse  \\\n0          2.475819e+08          885910592215                            NaN   \n1          5.296810e+04             189533269                            NaN   \n2          3.527571e+04             126225428                            NaN   \n3          0.000000e+00                     0                            NaN   \n4          4.516141e+07          161598938582                            NaN   \n..                  ...                   ...                            ...   \n173        0.000000e+00                     0                            NaN   \n174        0.000000e+00                     0                            NaN   \n175        0.000000e+00                     0                            NaN   \n176        3.900000e-01                  1381                            NaN   \n177        0.000000e+00                     0                            NaN   \n\n    entity_best_address_tag_actor     entity_best_address_tag_address  ...  \\\n0                             NaN  1CsBZRX2CpCg2Bk1tDyCCMYoS8WgeSijCA  ...   \n1                       bitpaycom  12cGCaeGXgjDsmsksw22ScGatxWqjbb4Vh  ...   \n2                internet_archive  1Archive1n2C579dMsAu3iC6tWzuQJz8dN  ...   \n3                             NaN                                 NaN  ...   \n4                        coinbase  335umQ4egqMjDo6wSXYwQZYPntZzMveNTJ  ...   \n..                            ...                                 ...  ...   \n173                           NaN                                 NaN  ...   \n174                           NaN                                 NaN  ...   \n175                           NaN                                 NaN  ...   \n176                           NaN                                 NaN  ...   \n177                           NaN                                 NaN  ...   \n\n    entity_total_spent_value entity_total_tokens_received  \\\n0           5227463228862170                          NaN   \n1            133520683745741                          NaN   \n2               170501423571                          NaN   \n3                48610000000                          NaN   \n4           1312172790500063                          NaN   \n..                       ...                          ...   \n173                600000000                          NaN   \n174                618131591                          NaN   \n175              18899997228                          NaN   \n176                        0                          NaN   \n177                 90000000                          NaN   \n\n     entity_total_tokens_spent  \\\n0                          NaN   \n1                          NaN   \n2                          NaN   \n3                          NaN   \n4                          NaN   \n..                         ...   \n173                        NaN   \n174                        NaN   \n175                        NaN   \n176                        NaN   \n177                        NaN   \n\n                                                labels  labels_count no_txs  \\\n0    bitcoin-24.com,coinjoin mess,epay.info,supercl...             5      2   \n1                                           bitpay.com             1      1   \n2                                     internet archive             1    107   \n3                                                  NaN             0      1   \n4    coinbase,coinbase hot wallet,coinbase pro,coin...             4     77   \n..                                                 ...           ...    ...   \n173                                                NaN             0      1   \n174                                                NaN             0      1   \n175                                                NaN             0      1   \n176                                                NaN             0      1   \n177                                                NaN             0      3   \n\n    token_values   value_eur   value_usd  value_value  \n0            NaN      750.20      986.69    953789282  \n1            NaN      537.80      673.60    200000000  \n2            NaN   147862.66   182066.95  37095153475  \n3            NaN     2411.06     3074.92  48610000000  \n4            NaN    11922.25    13517.07    262142450  \n..           ...         ...         ...          ...  \n173          NaN   171694.66   203131.97    600000000  \n174          NaN      277.73      328.77      1000000  \n175          NaN  4077640.50  4097621.25  18899997228  \n176          NaN        0.29        0.29         1382  \n177          NaN    19126.75    20806.07     90000000  \n\n[178 rows x 54 columns]",
      "text/html": "<div>\n<style scoped>\n    .dataframe tbody tr th:only-of-type {\n        vertical-align: middle;\n    }\n\n    .dataframe tbody tr th {\n        vertical-align: top;\n    }\n\n    .dataframe thead th {\n        text-align: right;\n    }\n</style>\n<table border=\"1\" class=\"dataframe\">\n  <thead>\n    <tr style=\"text-align: right;\">\n      <th></th>\n      <th>_error</th>\n      <th>_info</th>\n      <th>_request_entity</th>\n      <th>entity_actors</th>\n      <th>entity_balance_eur</th>\n      <th>entity_balance_usd</th>\n      <th>entity_balance_value</th>\n      <th>entity_best_address_tag_abuse</th>\n      <th>entity_best_address_tag_actor</th>\n      <th>entity_best_address_tag_address</th>\n      <th>...</th>\n      <th>entity_total_spent_value</th>\n      <th>entity_total_tokens_received</th>\n      <th>entity_total_tokens_spent</th>\n      <th>labels</th>\n      <th>labels_count</th>\n      <th>no_txs</th>\n      <th>token_values</th>\n      <th>value_eur</th>\n      <th>value_usd</th>\n      <th>value_value</th>\n    </tr>\n  </thead>\n  <tbody>\n    <tr>\n      <th>0</th>\n      <td>NaN</td>\n      <td>NaN</td>\n      <td>2647118</td>\n      <td>NaN</td>\n      <td>2.343859e+08</td>\n      <td>2.475819e+08</td>\n      <td>885910592215</td>\n      <td>NaN</td>\n      <td>NaN</td>\n      <td>1CsBZRX2CpCg2Bk1tDyCCMYoS8WgeSijCA</td>\n      <td>...</td>\n      <td>5227463228862170</td>\n      <td>NaN</td>\n      <td>NaN</td>\n      <td>bitcoin-24.com,coinjoin mess,epay.info,supercl...</td>\n      <td>5</td>\n      <td>2</td>\n      <td>NaN</td>\n      <td>750.20</td>\n      <td>986.69</td>\n      <td>953789282</td>\n    </tr>\n    <tr>\n      <th>1</th>\n      <td>NaN</td>\n      <td>NaN</td>\n      <td>2647118</td>\n      <td>NaN</td>\n      <td>5.014494e+04</td>\n      <td>5.296810e+04</td>\n      <td>189533269</td>\n      <td>NaN</td>\n      <td>bitpaycom</td>\n      <td>12cGCaeGXgjDsmsksw22ScGatxWqjbb4Vh</td>\n      <td>...</td>\n      <td>133520683745741</td>\n      <td>NaN</td>\n      <td>NaN</td>\n      <td>bitpay.com</td>\n      <td>1</td>\n      <td>1</td>\n      <td>NaN</td>\n      <td>537.80</td>\n      <td>673.60</td>\n      <td>200000000</td>\n    </tr>\n    <tr>\n      <th>2</th>\n      <td>NaN</td>\n      <td>NaN</td>\n      <td>2647118</td>\n      <td>NaN</td>\n      <td>3.339554e+04</td>\n      <td>3.527571e+04</td>\n      <td>126225428</td>\n      <td>NaN</td>\n      <td>internet_archive</td>\n      <td>1Archive1n2C579dMsAu3iC6tWzuQJz8dN</td>\n      <td>...</td>\n      <td>170501423571</td>\n      <td>NaN</td>\n      <td>NaN</td>\n      <td>internet archive</td>\n      <td>1</td>\n      <td>107</td>\n      <td>NaN</td>\n      <td>147862.66</td>\n      <td>182066.95</td>\n      <td>37095153475</td>\n    </tr>\n    <tr>\n      <th>3</th>\n      <td>NaN</td>\n      <td>NaN</td>\n      <td>2647118</td>\n      <td>NaN</td>\n      <td>0.000000e+00</td>\n      <td>0.000000e+00</td>\n      <td>0</td>\n      <td>NaN</td>\n      <td>NaN</td>\n      <td>NaN</td>\n      <td>...</td>\n      <td>48610000000</td>\n      <td>NaN</td>\n      <td>NaN</td>\n      <td>NaN</td>\n      <td>0</td>\n      <td>1</td>\n      <td>NaN</td>\n      <td>2411.06</td>\n      <td>3074.92</td>\n      <td>48610000000</td>\n    </tr>\n    <tr>\n      <th>4</th>\n      <td>NaN</td>\n      <td>NaN</td>\n      <td>2647118</td>\n      <td>NaN</td>\n      <td>4.275434e+07</td>\n      <td>4.516141e+07</td>\n      <td>161598938582</td>\n      <td>NaN</td>\n      <td>coinbase</td>\n      <td>335umQ4egqMjDo6wSXYwQZYPntZzMveNTJ</td>\n      <td>...</td>\n      <td>1312172790500063</td>\n      <td>NaN</td>\n      <td>NaN</td>\n      <td>coinbase,coinbase hot wallet,coinbase pro,coin...</td>\n      <td>4</td>\n      <td>77</td>\n      <td>NaN</td>\n      <td>11922.25</td>\n      <td>13517.07</td>\n      <td>262142450</td>\n    </tr>\n    <tr>\n      <th>...</th>\n      <td>...</td>\n      <td>...</td>\n      <td>...</td>\n      <td>...</td>\n      <td>...</td>\n      <td>...</td>\n      <td>...</td>\n      <td>...</td>\n      <td>...</td>\n      <td>...</td>\n      <td>...</td>\n      <td>...</td>\n      <td>...</td>\n      <td>...</td>\n      <td>...</td>\n      <td>...</td>\n      <td>...</td>\n      <td>...</td>\n      <td>...</td>\n      <td>...</td>\n      <td>...</td>\n    </tr>\n    <tr>\n      <th>173</th>\n      <td>NaN</td>\n      <td>NaN</td>\n      <td>2647118</td>\n      <td>NaN</td>\n      <td>0.000000e+00</td>\n      <td>0.000000e+00</td>\n      <td>0</td>\n      <td>NaN</td>\n      <td>NaN</td>\n      <td>NaN</td>\n      <td>...</td>\n      <td>600000000</td>\n      <td>NaN</td>\n      <td>NaN</td>\n      <td>NaN</td>\n      <td>0</td>\n      <td>1</td>\n      <td>NaN</td>\n      <td>171694.66</td>\n      <td>203131.97</td>\n      <td>600000000</td>\n    </tr>\n    <tr>\n      <th>174</th>\n      <td>NaN</td>\n      <td>NaN</td>\n      <td>2647118</td>\n      <td>NaN</td>\n      <td>0.000000e+00</td>\n      <td>0.000000e+00</td>\n      <td>0</td>\n      <td>NaN</td>\n      <td>NaN</td>\n      <td>NaN</td>\n      <td>...</td>\n      <td>618131591</td>\n      <td>NaN</td>\n      <td>NaN</td>\n      <td>NaN</td>\n      <td>0</td>\n      <td>1</td>\n      <td>NaN</td>\n      <td>277.73</td>\n      <td>328.77</td>\n      <td>1000000</td>\n    </tr>\n    <tr>\n      <th>175</th>\n      <td>NaN</td>\n      <td>NaN</td>\n      <td>2647118</td>\n      <td>NaN</td>\n      <td>0.000000e+00</td>\n      <td>0.000000e+00</td>\n      <td>0</td>\n      <td>NaN</td>\n      <td>NaN</td>\n      <td>NaN</td>\n      <td>...</td>\n      <td>18899997228</td>\n      <td>NaN</td>\n      <td>NaN</td>\n      <td>NaN</td>\n      <td>0</td>\n      <td>1</td>\n      <td>NaN</td>\n      <td>4077640.50</td>\n      <td>4097621.25</td>\n      <td>18899997228</td>\n    </tr>\n    <tr>\n      <th>176</th>\n      <td>NaN</td>\n      <td>NaN</td>\n      <td>2647118</td>\n      <td>NaN</td>\n      <td>3.700000e-01</td>\n      <td>3.900000e-01</td>\n      <td>1381</td>\n      <td>NaN</td>\n      <td>NaN</td>\n      <td>NaN</td>\n      <td>...</td>\n      <td>0</td>\n      <td>NaN</td>\n      <td>NaN</td>\n      <td>NaN</td>\n      <td>0</td>\n      <td>1</td>\n      <td>NaN</td>\n      <td>0.29</td>\n      <td>0.29</td>\n      <td>1382</td>\n    </tr>\n    <tr>\n      <th>177</th>\n      <td>NaN</td>\n      <td>NaN</td>\n      <td>2647118</td>\n      <td>NaN</td>\n      <td>0.000000e+00</td>\n      <td>0.000000e+00</td>\n      <td>0</td>\n      <td>NaN</td>\n      <td>NaN</td>\n      <td>NaN</td>\n      <td>...</td>\n      <td>90000000</td>\n      <td>NaN</td>\n      <td>NaN</td>\n      <td>NaN</td>\n      <td>0</td>\n      <td>3</td>\n      <td>NaN</td>\n      <td>19126.75</td>\n      <td>20806.07</td>\n      <td>90000000</td>\n    </tr>\n  </tbody>\n</table>\n<p>178 rows × 54 columns</p>\n</div>"
     },
     "execution_count": 28,
     "metadata": {},
     "output_type": "execute_result"
    }
   ],
   "source": [
    "respDF"
   ]
  },
  {
   "cell_type": "markdown",
   "id": "80a80ffd",
   "metadata": {},
   "source": [
    "We filter the result and see the relations between known entity IDs. We also see two known receiving entities."
   ]
  },
  {
   "cell_type": "code",
   "execution_count": 29,
   "id": "a48854f3",
   "metadata": {
    "ExecuteTime": {
     "end_time": "2023-10-09T12:01:21.975629667Z",
     "start_time": "2023-10-09T12:01:21.931022959Z"
    }
   },
   "outputs": [
    {
     "data": {
      "text/plain": "         src        dst                                          dst_label  \\\n0    2647118     109578  bitcoin-24.com,coinjoin mess,epay.info,supercl...   \n1    2647118    1084056                                         bitpay.com   \n2    2647118    2647118                                   internet archive   \n4    2647118    4635851  coinbase,coinbase hot wallet,coinbase pro,coin...   \n107  2647118  319021678   bitpanda,kraken,kraken deposit wallet,kraken.com   \n141  2647118  391306062                              bitpay deposit wallet   \n\n     no_txs  \n0         2  \n1         1  \n2       107  \n4        77  \n107       5  \n141       1  ",
      "text/html": "<div>\n<style scoped>\n    .dataframe tbody tr th:only-of-type {\n        vertical-align: middle;\n    }\n\n    .dataframe tbody tr th {\n        vertical-align: top;\n    }\n\n    .dataframe thead th {\n        text-align: right;\n    }\n</style>\n<table border=\"1\" class=\"dataframe\">\n  <thead>\n    <tr style=\"text-align: right;\">\n      <th></th>\n      <th>src</th>\n      <th>dst</th>\n      <th>dst_label</th>\n      <th>no_txs</th>\n    </tr>\n  </thead>\n  <tbody>\n    <tr>\n      <th>0</th>\n      <td>2647118</td>\n      <td>109578</td>\n      <td>bitcoin-24.com,coinjoin mess,epay.info,supercl...</td>\n      <td>2</td>\n    </tr>\n    <tr>\n      <th>1</th>\n      <td>2647118</td>\n      <td>1084056</td>\n      <td>bitpay.com</td>\n      <td>1</td>\n    </tr>\n    <tr>\n      <th>2</th>\n      <td>2647118</td>\n      <td>2647118</td>\n      <td>internet archive</td>\n      <td>107</td>\n    </tr>\n    <tr>\n      <th>4</th>\n      <td>2647118</td>\n      <td>4635851</td>\n      <td>coinbase,coinbase hot wallet,coinbase pro,coin...</td>\n      <td>77</td>\n    </tr>\n    <tr>\n      <th>107</th>\n      <td>2647118</td>\n      <td>319021678</td>\n      <td>bitpanda,kraken,kraken deposit wallet,kraken.com</td>\n      <td>5</td>\n    </tr>\n    <tr>\n      <th>141</th>\n      <td>2647118</td>\n      <td>391306062</td>\n      <td>bitpay deposit wallet</td>\n      <td>1</td>\n    </tr>\n  </tbody>\n</table>\n</div>"
     },
     "execution_count": 29,
     "metadata": {},
     "output_type": "execute_result"
    }
   ],
   "source": [
    "resultDF = respDF[['_request_entity', 'entity_entity', 'labels', 'no_txs']] \\\n",
    "    .rename(columns={'_request_entity': 'src', 'entity_entity': 'dst', 'labels': 'dst_label'}) \\\n",
    "    .dropna()\n",
    "resultDF"
   ]
  }
 ],
 "metadata": {
  "kernelspec": {
   "display_name": "Python 3 (ipykernel)",
   "language": "python",
   "name": "python3"
  },
  "language_info": {
   "codemirror_mode": {
    "name": "ipython",
    "version": 3
   },
   "file_extension": ".py",
   "mimetype": "text/x-python",
   "name": "python",
   "nbconvert_exporter": "python",
   "pygments_lexer": "ipython3",
   "version": "3.10.6"
  }
 },
 "nbformat": 4,
 "nbformat_minor": 5
}
