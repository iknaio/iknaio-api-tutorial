{
 "cells": [
  {
   "cell_type": "markdown",
   "id": "d8cab03e",
   "metadata": {},
   "source": [
    "# Exercise 1 - Inspecting a Bitcoin address"
   ]
  },
  {
   "cell_type": "code",
   "execution_count": 1,
   "id": "faf7eaf3",
   "metadata": {},
   "outputs": [],
   "source": [
    "%load_ext autoreload\n",
    "%autoreload 2"
   ]
  },
  {
   "cell_type": "code",
   "execution_count": 3,
   "id": "consolidated-breach",
   "metadata": {},
   "outputs": [],
   "source": [
    "import json\n",
    "from pprint import pprint\n",
    "\n",
    "import graphsense\n",
    "from graphsense.api import addresses_api, bulk_api, entities_api, general_api"
   ]
  },
  {
   "cell_type": "markdown",
   "id": "2fa83f7e-7d2f-4031-abff-c83d7087935a",
   "metadata": {
    "tags": []
   },
   "source": [
    "## Notebook Setup"
   ]
  },
  {
   "cell_type": "markdown",
   "id": "feb264fa-1cc3-433e-a13c-8b523beaac9d",
   "metadata": {},
   "source": [
    "This notebook assumes that you already followed the instructions outlined in `README.md` and installed the [GraphSense Python API](https://github.com/graphsense/graphsense-python) library locally.\n",
    "\n",
    "First, we must setup our notebook and establish a connection to some hosted GraphSense instance.\n",
    "\n",
    "We connect to a GraphSense instance hosted by [Iknaio](https://www.ikna.io/) and enter our API key in the provided `config.json` configuration file. An API key will be provided during the tutorial. If you would like to get an API key later, drop an email to contact@iknaio.com"
   ]
  },
  {
   "cell_type": "markdown",
   "id": "c2b2ef98-c724-4d6a-91cd-c8c741fcc57c",
   "metadata": {},
   "source": [
    "## Load host and API key from config"
   ]
  },
  {
   "cell_type": "code",
   "execution_count": 14,
   "id": "f56228b5-c581-4076-9feb-d0c38f573dab",
   "metadata": {},
   "outputs": [],
   "source": [
    "f = open('config.json')\n",
    "config = json.load(f)\n",
    "f.close()"
   ]
  },
  {
   "cell_type": "markdown",
   "id": "89c29226-e84e-4817-ab73-5f057fab2957",
   "metadata": {},
   "source": [
    "## Configure GraphSense client"
   ]
  },
  {
   "cell_type": "markdown",
   "id": "7b0810c9-31f2-47ab-8c71-c10e53bcc761",
   "metadata": {},
   "source": [
    "Now we configure the GraphSense Python library"
   ]
  },
  {
   "cell_type": "code",
   "execution_count": 5,
   "id": "illegal-victoria",
   "metadata": {},
   "outputs": [],
   "source": [
    "configuration = graphsense.Configuration(\n",
    "    host = config['graphsense']['host'],\n",
    "    api_key = {'api_key': config['graphsense']['api_key']})"
   ]
  },
  {
   "cell_type": "markdown",
   "id": "deab0739-6f4c-46f3-9aa2-8680d48cc4aa",
   "metadata": {},
   "source": [
    "We can test if our libary is working by retrieving summary statistics on supported ledgers."
   ]
  },
  {
   "cell_type": "code",
   "execution_count": 6,
   "id": "olympic-victory",
   "metadata": {
    "jupyter": {
     "outputs_hidden": true
    },
    "tags": []
   },
   "outputs": [
    {
     "name": "stdout",
     "output_type": "stream",
     "text": [
      "{'currencies': [{'name': 'btc',\n",
      "                 'no_address_relations': 6758109756,\n",
      "                 'no_addresses': 1045200508,\n",
      "                 'no_blocks': 762641,\n",
      "                 'no_entities': 469256656,\n",
      "                 'no_labels': 3303,\n",
      "                 'no_tagged_addresses': 250851468,\n",
      "                 'no_txs': 777477873,\n",
      "                 'timestamp': 1668122552},\n",
      "                {'name': 'bch',\n",
      "                 'no_address_relations': 2303432268,\n",
      "                 'no_addresses': 333745971,\n",
      "                 'no_blocks': 766073,\n",
      "                 'no_entities': 150751693,\n",
      "                 'no_labels': 86,\n",
      "                 'no_tagged_addresses': 13674144,\n",
      "                 'no_txs': 363817727,\n",
      "                 'timestamp': 1668123907},\n",
      "                {'name': 'ltc',\n",
      "                 'no_address_relations': 1382523914,\n",
      "                 'no_addresses': 160527773,\n",
      "                 'no_blocks': 2366891,\n",
      "                 'no_entities': 67746829,\n",
      "                 'no_labels': 66,\n",
      "                 'no_tagged_addresses': 17866995,\n",
      "                 'no_txs': 133135121,\n",
      "                 'timestamp': 1668124677},\n",
      "                {'name': 'zec',\n",
      "                 'no_address_relations': 108359865,\n",
      "                 'no_addresses': 7304420,\n",
      "                 'no_blocks': 1874231,\n",
      "                 'no_entities': 3583687,\n",
      "                 'no_labels': 9,\n",
      "                 'no_tagged_addresses': 672571,\n",
      "                 'no_txs': 11799353,\n",
      "                 'timestamp': 1668124598},\n",
      "                {'name': 'eth',\n",
      "                 'no_address_relations': 560853348,\n",
      "                 'no_addresses': 233191087,\n",
      "                 'no_blocks': 15943060,\n",
      "                 'no_entities': 0,\n",
      "                 'no_labels': 37954,\n",
      "                 'no_tagged_addresses': 239263,\n",
      "                 'no_txs': 1770595897,\n",
      "                 'timestamp': 1668124787}],\n",
      " 'request_timestamp': '2022-11-11 09:58:39',\n",
      " 'version': '1.1.0'}\n"
     ]
    }
   ],
   "source": [
    "with graphsense.ApiClient(configuration) as api_client:\n",
    "    api_instance = general_api.GeneralApi(api_client)\n",
    "    api_response = api_instance.get_statistics()\n",
    "    pprint(api_response)"
   ]
  },
  {
   "cell_type": "markdown",
   "id": "critical-apparel",
   "metadata": {},
   "source": [
    "# Address API"
   ]
  },
  {
   "cell_type": "markdown",
   "id": "9a08b89f",
   "metadata": {},
   "source": [
    "We start by retrieving some summary statistics on the Internet Archive's donation address. The response basically corresponds to the data shown in the property box of the GraphSense dashboard."
   ]
  },
  {
   "cell_type": "code",
   "execution_count": 7,
   "id": "35595780-4e81-4068-a760-74aac7f63d8e",
   "metadata": {
    "jupyter": {
     "outputs_hidden": true
    },
    "tags": []
   },
   "outputs": [
    {
     "name": "stdout",
     "output_type": "stream",
     "text": [
      "{'address': '1Archive1n2C579dMsAu3iC6tWzuQJz8dN',\n",
      " 'balance': {'fiat_values': [{'code': 'eur', 'value': 25794.39},\n",
      "                             {'code': 'usd', 'value': 25675.73}],\n",
      "             'value': 145994584},\n",
      " 'currency': 'btc',\n",
      " 'entity': 2647117,\n",
      " 'first_tx': {'height': 256314,\n",
      "              'timestamp': 1378415426,\n",
      "              'tx_hash': '04d92601677d62a985310b61a301e74870fa942c8be0648e16b1db23b996a8cd'},\n",
      " 'in_degree': 6573,\n",
      " 'last_tx': {'height': 761605,\n",
      "             'timestamp': 1667506053,\n",
      "             'tx_hash': 'ac62d21a2290e80ec7eaab7b4e6bd30090c6e02322a3c81f8702dad9e55f526c'},\n",
      " 'no_incoming_txs': 5002,\n",
      " 'no_outgoing_txs': 282,\n",
      " 'out_degree': 300,\n",
      " 'status': 'dirty',\n",
      " 'total_received': {'fiat_values': [{'code': 'eur', 'value': 6497523.0},\n",
      "                                    {'code': 'usd', 'value': 6926346.5}],\n",
      "                    'value': 61810992019},\n",
      " 'total_spent': {'fiat_values': [{'code': 'eur', 'value': 6795673.0},\n",
      "                                 {'code': 'usd', 'value': 7285145.5}],\n",
      "                 'value': 61664997435}}\n"
     ]
    }
   ],
   "source": [
    "with graphsense.ApiClient(configuration) as api_client:\n",
    "    api_instance = addresses_api.AddressesApi(api_client)\n",
    "\n",
    "    currency = \"btc\"\n",
    "    address = '1Archive1n2C579dMsAu3iC6tWzuQJz8dN'\n",
    "    include_tags = True\n",
    "\n",
    "    try:\n",
    "        resp_addr = api_instance.get_address(currency, address)\n",
    "        pprint(resp_addr)\n",
    "    except graphsense.ApiException as e:\n",
    "        print(\"Exception when calling AddressesApi->get_address: %s\\n\" % e)"
   ]
  },
  {
   "cell_type": "code",
   "execution_count": 8,
   "id": "ba1dcadd-64c1-41d4-8885-0c446f71785b",
   "metadata": {},
   "outputs": [
    {
     "name": "stdout",
     "output_type": "stream",
     "text": [
      "Address 1Archive1n2C579dMsAu3iC6tWzuQJz8dN received 6497523.0 EUR from 6573 addresses.\n"
     ]
    }
   ],
   "source": [
    "print(f\"Address {resp_addr.address} received {resp_addr.total_received.fiat_values[0].value} EUR \" + \n",
    "      f\"from {resp_addr.in_degree} addresses.\")"
   ]
  },
  {
   "cell_type": "markdown",
   "id": "fb4f86e5-9758-4fb5-ba9b-f8024c8f0a41",
   "metadata": {},
   "source": [
    "# Entities API"
   ]
  },
  {
   "cell_type": "markdown",
   "id": "755f4118",
   "metadata": {},
   "source": [
    "Next, we inspect the corresponding entity, which clusters other addresses that are likely conrolled by the owner of that address. The entity ID is contained in the address response."
   ]
  },
  {
   "cell_type": "code",
   "execution_count": 9,
   "id": "75d0df21-3240-413f-b96e-d0568e53af38",
   "metadata": {
    "jupyter": {
     "outputs_hidden": true
    },
    "tags": []
   },
   "outputs": [
    {
     "name": "stdout",
     "output_type": "stream",
     "text": [
      "{'balance': {'fiat_values': [{'code': 'eur', 'value': 25794.39},\n",
      "                             {'code': 'usd', 'value': 25675.73}],\n",
      "             'value': 145994584},\n",
      " 'best_address_tag': {'address': '1Archive1n2C579dMsAu3iC6tWzuQJz8dN',\n",
      "                      'category': 'organization',\n",
      "                      'confidence': 'service_data',\n",
      "                      'confidence_level': 50,\n",
      "                      'currency': 'BTC',\n",
      "                      'entity': 2647117.0,\n",
      "                      'is_cluster_definer': True,\n",
      "                      'label': 'internet archive',\n",
      "                      'lastmod': 1636675200,\n",
      "                      'source': 'https://archive.org/donate/cryptocurrency',\n",
      "                      'tagpack_creator': 'GraphSense Core Team',\n",
      "                      'tagpack_is_public': True,\n",
      "                      'tagpack_title': 'GraphSense Demo TagPack',\n",
      "                      'tagpack_uri': 'demo.yaml'},\n",
      " 'currency': 'btc',\n",
      " 'entity': 2647117,\n",
      " 'first_tx': {'height': 156529,\n",
      "              'timestamp': 1323298692,\n",
      "              'tx_hash': 'dc035c562acc3230cec8c870293c1119d62e60b13932565231dbe5c407ff7508'},\n",
      " 'in_degree': 5323,\n",
      " 'last_tx': {'height': 761605,\n",
      "             'timestamp': 1667506053,\n",
      "             'tx_hash': 'ac62d21a2290e80ec7eaab7b4e6bd30090c6e02322a3c81f8702dad9e55f526c'},\n",
      " 'no_address_tags': 12,\n",
      " 'no_addresses': 124,\n",
      " 'no_incoming_txs': 5882,\n",
      " 'no_outgoing_txs': 295,\n",
      " 'out_degree': 176,\n",
      " 'root_address': '17gN64BPHtxi4mEM3qWrxdwhieUvRq8R2r',\n",
      " 'total_received': {'fiat_values': [{'code': 'eur', 'value': 8710121.0},\n",
      "                                    {'code': 'usd', 'value': 9181835.0}],\n",
      "                    'value': 170357381000},\n",
      " 'total_spent': {'fiat_values': [{'code': 'eur', 'value': 9151902.0},\n",
      "                                 {'code': 'usd', 'value': 9724097.0}],\n",
      "                 'value': 170211386416}}\n"
     ]
    }
   ],
   "source": [
    "with graphsense.ApiClient(configuration) as api_client:\n",
    "    api_instance = entities_api.EntitiesApi(api_client)\n",
    "\n",
    "    currency = \"btc\" \n",
    "    entity = resp_addr.entity \n",
    "    include_tags = True \n",
    "\n",
    "    try:\n",
    "        resp_entity = api_instance.get_entity(currency, entity)\n",
    "        pprint(resp_entity)\n",
    "    except graphsense.ApiException as e:\n",
    "        print(\"Exception when calling EntitiesApi->get_entity: %s\\n\" % e)"
   ]
  },
  {
   "cell_type": "code",
   "execution_count": 10,
   "id": "541d0ca5-4f0e-48dd-b16d-b3b719ef18e1",
   "metadata": {},
   "outputs": [
    {
     "name": "stdout",
     "output_type": "stream",
     "text": [
      "Entity 2647117 likely controls 124 addresses, which received 8710121.0 EUR from 5323 entities.\n"
     ]
    }
   ],
   "source": [
    "print(f\"Entity {resp_entity.entity} likely controls {resp_entity.no_addresses} addresses, \" +\n",
    "      f\"which received {resp_entity.total_received.fiat_values[0].value} EUR \" + \n",
    "      f\"from {resp_entity.in_degree} entities.\")"
   ]
  },
  {
   "cell_type": "markdown",
   "id": "5d819165-71bc-4191-9a78-5fac1bf80214",
   "metadata": {},
   "source": [
    "# Entity Neighbors"
   ]
  },
  {
   "cell_type": "markdown",
   "id": "16a504c2",
   "metadata": {},
   "source": [
    "Finally, we retrieve all neighbor entities receiving funds from our focus entity. Since it is more covenient to work with dataframes, we use the GraphSense Bulk API interface to retrieve a dataframe of receiving neighbor nodes."
   ]
  },
  {
   "cell_type": "code",
   "execution_count": 11,
   "id": "0dea96aa",
   "metadata": {},
   "outputs": [],
   "source": [
    "import pandas as pd\n",
    "\n",
    "data = {'entity': [resp_addr.entity]}\n",
    "\n",
    "entityDF = pd.DataFrame.from_dict(data)"
   ]
  },
  {
   "cell_type": "code",
   "execution_count": 12,
   "id": "4f81d4c5-991c-494a-b06c-3f194e60e752",
   "metadata": {},
   "outputs": [
    {
     "name": "stdout",
     "output_type": "stream",
     "text": [
      "     _error  _info  _request_entity  entity_balance_eur  entity_balance_usd  \\\n",
      "0       NaN    NaN          2647117        2.391325e+08        2.380325e+08   \n",
      "1       NaN    NaN          2647117        3.124023e+04        3.109652e+04   \n",
      "2       NaN    NaN          2647117        0.000000e+00        0.000000e+00   \n",
      "3       NaN    NaN          2647117        2.116921e+06        2.107183e+06   \n",
      "4       NaN    NaN          2647117        0.000000e+00        0.000000e+00   \n",
      "..      ...    ...              ...                 ...                 ...   \n",
      "171     NaN    NaN          2647117        0.000000e+00        0.000000e+00   \n",
      "172     NaN    NaN          2647117        0.000000e+00        0.000000e+00   \n",
      "173     NaN    NaN          2647117        0.000000e+00        0.000000e+00   \n",
      "174     NaN    NaN          2647117        0.000000e+00        0.000000e+00   \n",
      "175     NaN    NaN          2647117        2.400000e-01        2.400000e-01   \n",
      "\n",
      "     entity_balance_value  entity_best_address_tag_abuse  \\\n",
      "0           1353474480699                            NaN   \n",
      "1               176817698                            NaN   \n",
      "2                       0                            NaN   \n",
      "3             11981636212                            NaN   \n",
      "4                       0                            NaN   \n",
      "..                    ...                            ...   \n",
      "171                     0                            NaN   \n",
      "172                     0                            NaN   \n",
      "173                     0                            NaN   \n",
      "174                     0                            NaN   \n",
      "175                  1381                            NaN   \n",
      "\n",
      "        entity_best_address_tag_address entity_best_address_tag_category  \\\n",
      "0    1KY3EszQSpR9SpXSn9W1cte3A5VxCg9Ego                          service   \n",
      "1    1PEoUKNxTZsc5rFSQvQjeTVwDE9vEDCRWm                          service   \n",
      "2                                   NaN                              NaN   \n",
      "3                                   NaN                              NaN   \n",
      "4                                   NaN                              NaN   \n",
      "..                                  ...                              ...   \n",
      "171                                 NaN                              NaN   \n",
      "172                                 NaN                              NaN   \n",
      "173                                 NaN                              NaN   \n",
      "174                                 NaN                              NaN   \n",
      "175                                 NaN                              NaN   \n",
      "\n",
      "    entity_best_address_tag_confidence  ...  entity_total_received_value  \\\n",
      "0                         service_data  ...             5214491875892682   \n",
      "1                         service_data  ...              133520860563439   \n",
      "2                                  NaN  ...                  48610000000   \n",
      "3                                  NaN  ...             1177806601629286   \n",
      "4                                  NaN  ...                   7858798000   \n",
      "..                                 ...  ...                          ...   \n",
      "171                                NaN  ...                       100000   \n",
      "172                                NaN  ...                    600000000   \n",
      "173                                NaN  ...                    618131591   \n",
      "174                                NaN  ...                  18899997228   \n",
      "175                                NaN  ...                         1381   \n",
      "\n",
      "    entity_total_spent_eur  entity_total_spent_usd entity_total_spent_value  \\\n",
      "0             1.224896e+10            1.426612e+10         5213138401411983   \n",
      "1             2.256563e+08            3.006194e+08          133520683745741   \n",
      "2             2.411060e+03            3.074920e+03              48610000000   \n",
      "3             1.632319e+11            1.883404e+11         1177794619993074   \n",
      "4             8.870120e+03            1.094745e+04               7858798000   \n",
      "..                     ...                     ...                      ...   \n",
      "171           4.855000e+01            5.482000e+01                   100000   \n",
      "172           2.229065e+05            2.614470e+05                600000000   \n",
      "173           2.296426e+05            2.693478e+05                618131591   \n",
      "174           4.163480e+06            4.228014e+06              18899997228   \n",
      "175           0.000000e+00            0.000000e+00                        0   \n",
      "\n",
      "         labels  labels_count no_txs   value_eur   value_usd  value_value  \n",
      "0     epay.info             1      2      750.20      986.69    953789282  \n",
      "1    bitpay.com             1      1      537.80      673.60    200000000  \n",
      "2           NaN             0      1     2411.06     3074.92  48610000000  \n",
      "3           NaN             0     77    11922.25    13517.07    262142451  \n",
      "4           NaN             0      3     1078.04     1397.54   3375700000  \n",
      "..          ...           ...    ...         ...         ...          ...  \n",
      "171         NaN             0      1       29.40       35.70       100000  \n",
      "172         NaN             0      1   171694.66   203131.97    600000000  \n",
      "173         NaN             0      1      277.73      328.77      1000000  \n",
      "174         NaN             0      1  4077640.50  4097621.25  18899997228  \n",
      "175         NaN             0      1        0.29        0.29         1381  \n",
      "\n",
      "[176 rows x 48 columns]\n"
     ]
    }
   ],
   "source": [
    "with graphsense.ApiClient(configuration) as api_client:\n",
    "    api_instance = bulk_api.BulkApi(api_client)\n",
    "\n",
    "    CURRENCY = \"btc\"\n",
    "    operation = \"list_entity_neighbors\"\n",
    "    body = {'entity': entityDF['entity'].to_list(),\n",
    "            'direction': 'out',\n",
    "            'include_labels': True}\n",
    "\n",
    "    try:\n",
    "        respDF = pd.read_csv(\n",
    "                    api_instance.bulk_csv(CURRENCY, operation, body=body,\n",
    "                                          num_pages=2,\n",
    "                                          _preload_content=False))\n",
    "        pprint(respDF)\n",
    "    except graphsense.ApiException as e:\n",
    "        print(\"Exception when calling BulkApi->bulk_csv: %s\\n\" % e)"
   ]
  },
  {
   "cell_type": "markdown",
   "id": "80a80ffd",
   "metadata": {},
   "source": [
    "We filter the result and see the reltaions between known entity IDs. We also see two known receiving entities."
   ]
  },
  {
   "cell_type": "code",
   "execution_count": 13,
   "id": "a48854f3",
   "metadata": {},
   "outputs": [
    {
     "data": {
      "text/html": [
       "<div>\n",
       "<style scoped>\n",
       "    .dataframe tbody tr th:only-of-type {\n",
       "        vertical-align: middle;\n",
       "    }\n",
       "\n",
       "    .dataframe tbody tr th {\n",
       "        vertical-align: top;\n",
       "    }\n",
       "\n",
       "    .dataframe thead th {\n",
       "        text-align: right;\n",
       "    }\n",
       "</style>\n",
       "<table border=\"1\" class=\"dataframe\">\n",
       "  <thead>\n",
       "    <tr style=\"text-align: right;\">\n",
       "      <th></th>\n",
       "      <th>src</th>\n",
       "      <th>dst</th>\n",
       "      <th>dst_label</th>\n",
       "      <th>no_txs</th>\n",
       "    </tr>\n",
       "  </thead>\n",
       "  <tbody>\n",
       "    <tr>\n",
       "      <th>0</th>\n",
       "      <td>109577</td>\n",
       "      <td>2647117</td>\n",
       "      <td>epay.info</td>\n",
       "      <td>2</td>\n",
       "    </tr>\n",
       "    <tr>\n",
       "      <th>1</th>\n",
       "      <td>1084055</td>\n",
       "      <td>2647117</td>\n",
       "      <td>bitpay.com</td>\n",
       "      <td>1</td>\n",
       "    </tr>\n",
       "    <tr>\n",
       "      <th>2</th>\n",
       "      <td>2818641</td>\n",
       "      <td>2647117</td>\n",
       "      <td>NaN</td>\n",
       "      <td>1</td>\n",
       "    </tr>\n",
       "    <tr>\n",
       "      <th>3</th>\n",
       "      <td>4635850</td>\n",
       "      <td>2647117</td>\n",
       "      <td>NaN</td>\n",
       "      <td>77</td>\n",
       "    </tr>\n",
       "    <tr>\n",
       "      <th>4</th>\n",
       "      <td>8361735</td>\n",
       "      <td>2647117</td>\n",
       "      <td>NaN</td>\n",
       "      <td>3</td>\n",
       "    </tr>\n",
       "    <tr>\n",
       "      <th>...</th>\n",
       "      <td>...</td>\n",
       "      <td>...</td>\n",
       "      <td>...</td>\n",
       "      <td>...</td>\n",
       "    </tr>\n",
       "    <tr>\n",
       "      <th>171</th>\n",
       "      <td>834908304</td>\n",
       "      <td>2647117</td>\n",
       "      <td>NaN</td>\n",
       "      <td>1</td>\n",
       "    </tr>\n",
       "    <tr>\n",
       "      <th>172</th>\n",
       "      <td>849802069</td>\n",
       "      <td>2647117</td>\n",
       "      <td>NaN</td>\n",
       "      <td>1</td>\n",
       "    </tr>\n",
       "    <tr>\n",
       "      <th>173</th>\n",
       "      <td>849817153</td>\n",
       "      <td>2647117</td>\n",
       "      <td>NaN</td>\n",
       "      <td>1</td>\n",
       "    </tr>\n",
       "    <tr>\n",
       "      <th>174</th>\n",
       "      <td>1022797937</td>\n",
       "      <td>2647117</td>\n",
       "      <td>NaN</td>\n",
       "      <td>1</td>\n",
       "    </tr>\n",
       "    <tr>\n",
       "      <th>175</th>\n",
       "      <td>1042665035</td>\n",
       "      <td>2647117</td>\n",
       "      <td>NaN</td>\n",
       "      <td>1</td>\n",
       "    </tr>\n",
       "  </tbody>\n",
       "</table>\n",
       "<p>176 rows × 4 columns</p>\n",
       "</div>"
      ],
      "text/plain": [
       "            src      dst   dst_label  no_txs\n",
       "0        109577  2647117   epay.info       2\n",
       "1       1084055  2647117  bitpay.com       1\n",
       "2       2818641  2647117         NaN       1\n",
       "3       4635850  2647117         NaN      77\n",
       "4       8361735  2647117         NaN       3\n",
       "..          ...      ...         ...     ...\n",
       "171   834908304  2647117         NaN       1\n",
       "172   849802069  2647117         NaN       1\n",
       "173   849817153  2647117         NaN       1\n",
       "174  1022797937  2647117         NaN       1\n",
       "175  1042665035  2647117         NaN       1\n",
       "\n",
       "[176 rows x 4 columns]"
      ]
     },
     "execution_count": 13,
     "metadata": {},
     "output_type": "execute_result"
    }
   ],
   "source": [
    "resultDF = respDF[['entity_entity', '_request_entity', 'labels', 'no_txs']] \\\n",
    "    .rename(columns={'entity_entity': 'src', '_request_entity': 'dst', 'labels': 'dst_label'})\n",
    "resultDF"
   ]
  }
 ],
 "metadata": {
  "kernelspec": {
   "display_name": "Python 3 (ipykernel)",
   "language": "python",
   "name": "python3"
  },
  "language_info": {
   "codemirror_mode": {
    "name": "ipython",
    "version": 3
   },
   "file_extension": ".py",
   "mimetype": "text/x-python",
   "name": "python",
   "nbconvert_exporter": "python",
   "pygments_lexer": "ipython3",
   "version": "3.8.8"
  }
 },
 "nbformat": 4,
 "nbformat_minor": 5
}
