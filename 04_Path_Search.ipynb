{
 "cells": [
  {
   "cell_type": "code",
   "execution_count": 1,
   "id": "d175dc47",
   "metadata": {
    "ExecuteTime": {
     "end_time": "2023-10-09T14:56:41.319112327Z",
     "start_time": "2023-10-09T14:56:41.309362363Z"
    }
   },
   "outputs": [],
   "source": [
    "%load_ext autoreload\n",
    "%autoreload 2"
   ]
  },
  {
   "cell_type": "code",
   "execution_count": 2,
   "id": "9a318474",
   "metadata": {
    "ExecuteTime": {
     "end_time": "2023-10-09T14:56:41.351546322Z",
     "start_time": "2023-10-09T14:56:41.320567116Z"
    }
   },
   "outputs": [],
   "source": [
    "import csv\n",
    "from datetime import datetime\n",
    "import os\n",
    "\n",
    "from pathlib import Path\n",
    "from pprint import pprint\n",
    "\n",
    "import pandas as pd\n",
    "from pandas import DataFrame\n",
    "\n",
    "import json\n",
    "\n",
    "import graphsense\n",
    "from graphsense.api import addresses_api, blocks_api, entities_api, general_api, txs_api, bulk_api"
   ]
  },
  {
   "cell_type": "markdown",
   "id": "154c0615",
   "metadata": {},
   "source": [
    "## Load host and API key from config\n"
   ]
  },
  {
   "cell_type": "code",
   "execution_count": 3,
   "id": "f8054bbd",
   "metadata": {
    "ExecuteTime": {
     "end_time": "2023-10-09T14:56:41.391998984Z",
     "start_time": "2023-10-09T14:56:41.343631095Z"
    }
   },
   "outputs": [],
   "source": [
    "f = open('config.json')\n",
    "config = json.load(f)\n",
    "f.close()"
   ]
  },
  {
   "cell_type": "markdown",
   "source": [
    "## Configure GraphSense client\n"
   ],
   "metadata": {
    "collapsed": false
   },
   "id": "36646d558ae13cf"
  },
  {
   "cell_type": "code",
   "execution_count": 4,
   "id": "05790258",
   "metadata": {
    "ExecuteTime": {
     "end_time": "2023-10-09T14:56:41.392343906Z",
     "start_time": "2023-10-09T14:56:41.391597184Z"
    }
   },
   "outputs": [],
   "source": [
    "configuration = graphsense.Configuration(\n",
    "    host = config['graphsense']['host'],\n",
    "    api_key = {'api_key': config['graphsense']['api_key']})\n",
    "\n",
    "CURRENCY = 'btc'"
   ]
  },
  {
   "cell_type": "markdown",
   "id": "83ced4a9",
   "metadata": {},
   "source": [
    "## Fetch address details"
   ]
  },
  {
   "cell_type": "code",
   "execution_count": 5,
   "id": "2b2ce9c7",
   "metadata": {
    "ExecuteTime": {
     "end_time": "2023-10-09T14:56:41.392572829Z",
     "start_time": "2023-10-09T14:56:41.391816184Z"
    }
   },
   "outputs": [],
   "source": [
    "def fetch_address_details(address):\n",
    "    with graphsense.ApiClient(configuration) as api_client:\n",
    "        try:\n",
    "            api_instance = addresses_api.AddressesApi(api_client)\n",
    "\n",
    "            address_details = api_instance.get_address(CURRENCY, address)\n",
    "            return address_details\n",
    "\n",
    "        except graphsense.ApiException as e:\n",
    "            print(\"Exception when calling Bulk Api: %s\\n\" % e)\n"
   ]
  },
  {
   "cell_type": "markdown",
   "id": "4d25a030",
   "metadata": {},
   "source": [
    "# Part 1: Find paths to exchanges"
   ]
  },
  {
   "cell_type": "markdown",
   "id": "77b86beb",
   "metadata": {},
   "source": [
    "First we try to find paths to any known exchange entities. Luckily the GraphSense REST API provides us with an endpoint specifically made for this task: `search_entity_neighbors`."
   ]
  },
  {
   "cell_type": "code",
   "execution_count": 6,
   "id": "0e2d2876",
   "metadata": {
    "ExecuteTime": {
     "end_time": "2023-10-09T14:56:41.539587742Z",
     "start_time": "2023-10-09T14:56:41.391923508Z"
    }
   },
   "outputs": [
    {
     "data": {
      "text/plain": "{'address': '1BswBQiQrUMk3efFdTFZfnsgodB7xjrcGc',\n 'balance': {'fiat_values': [{'code': 'eur', 'value': 0.0},\n                             {'code': 'usd', 'value': 0.0}],\n             'value': 0},\n 'currency': 'btc',\n 'entity': 435755628,\n 'first_tx': {'height': 547167,\n              'timestamp': 1540406274,\n              'tx_hash': 'e2606176793515d476ac63f63ac0ec8cc75af46ca4c5a466695122ad50462364'},\n 'in_degree': 1,\n 'last_tx': {'height': 576808,\n             'timestamp': 1558296707,\n             'tx_hash': 'b09aa1531c41dac74df2bf383955ea767954f6086a0be116efb9d5394d096408'},\n 'no_incoming_txs': 1,\n 'no_outgoing_txs': 1,\n 'out_degree': 1,\n 'status': 'clean',\n 'total_received': {'fiat_values': [{'code': 'eur', 'value': 0.35},\n                                    {'code': 'usd', 'value': 0.4}],\n                    'value': 6156},\n 'total_spent': {'fiat_values': [{'code': 'eur', 'value': 0.45},\n                                 {'code': 'usd', 'value': 0.5}],\n                 'value': 6156}}"
     },
     "execution_count": 6,
     "metadata": {},
     "output_type": "execute_result"
    }
   ],
   "source": [
    "# First we set our seed address\n",
    "seed_address = '1BswBQiQrUMk3efFdTFZfnsgodB7xjrcGc'\n",
    "\n",
    "# and fetch address details\n",
    "seed_address_details = fetch_address_details(seed_address)\n",
    "seed_address_details"
   ]
  },
  {
   "cell_type": "code",
   "execution_count": 7,
   "id": "7faad605",
   "metadata": {
    "ExecuteTime": {
     "end_time": "2023-10-09T14:56:41.598410827Z",
     "start_time": "2023-10-09T14:56:41.540945536Z"
    }
   },
   "outputs": [
    {
     "data": {
      "text/plain": "435755628"
     },
     "execution_count": 7,
     "metadata": {},
     "output_type": "execute_result"
    }
   ],
   "source": [
    "# We get the entity of our seed address:\n",
    "seed_entity = seed_address_details.entity\n",
    "seed_entity"
   ]
  },
  {
   "cell_type": "markdown",
   "id": "8bec7029",
   "metadata": {},
   "source": [
    "Next we pass the entity to `search_entity_neighbors`. This endpoint takes the following parameters:\n",
    "\n",
    "* `direction`: Whether we want to search incoming or outgoing neighbors\n",
    "* `key`: The property of the search entity we want to check, here `'category'`.\n",
    "* `value`: A list of values of the property we want the search entity to match, here `['exchange']`.\n",
    "* `depth`: How many hops we want to traverse the transaction graph.\n",
    "* `breadth`: How many neighbors per hop we want to search deeper.\n",
    "* `skip_num_addresses`: Don't follow neighbors of entities which have more addresses than this."
   ]
  },
  {
   "cell_type": "code",
   "execution_count": 15,
   "id": "f79c9df0",
   "metadata": {
    "ExecuteTime": {
     "end_time": "2023-10-09T14:59:05.302336741Z",
     "start_time": "2023-10-09T14:59:04.454456098Z"
    }
   },
   "outputs": [],
   "source": [
    "with graphsense.ApiClient(configuration) as api_client:\n",
    "    try:\n",
    "        api_instance = entities_api.EntitiesApi(api_client)\n",
    "        paths = api_instance.search_entity_neighbors(CURRENCY, seed_entity,\n",
    "                                                     direction='out', key='category', value=['exchange'],\n",
    "                                                     depth=4, breadth=20, skip_num_addresses=20)\n",
    "    except graphsense.ApiException as e:\n",
    "            print(\"Exception when calling Entities Api: %s\\n\" % e)        "
   ]
  },
  {
   "cell_type": "markdown",
   "id": "7ca8714e",
   "metadata": {},
   "source": [
    "As a result we get a recursive data structure with entities as nodes and paths to matching entities. We can iterate through it like this:"
   ]
  },
  {
   "cell_type": "code",
   "execution_count": 9,
   "id": "fc5af63b",
   "metadata": {
    "ExecuteTime": {
     "end_time": "2023-10-09T14:56:41.952518260Z",
     "start_time": "2023-10-09T14:56:41.943500012Z"
    }
   },
   "outputs": [
    {
     "name": "stdout",
     "output_type": "stream",
     "text": [
      "435755628 -> 512947546 -> 513098613 -> 513170593 -> 134568894 (paxful deposit wallet)\n",
      " -> 512947546 -> 513098613 -> 513170593 -> 487558635 (localbitcoin hot wallet)\n",
      " -> 512947546 -> 513098613 -> 513170594 -> 4635851 (coinbase.com)\n"
     ]
    }
   ],
   "source": [
    "print(seed_entity, end='')\n",
    "\n",
    "def print_path(path):\n",
    "    print(\" -> \" + str(path.neighbor.entity.entity), end='')\n",
    "    if not path.paths:\n",
    "        print(\" (\" + path.neighbor.entity.best_address_tag.label + \")\")\n",
    "        return\n",
    "    for path in path.paths:\n",
    "        print_path(path)\n",
    "    \n",
    "for path in paths:\n",
    "    print_path(path)"
   ]
  },
  {
   "cell_type": "markdown",
   "id": "84975917",
   "metadata": {},
   "source": [
    "# Part 2: Find paths between two addresses"
   ]
  },
  {
   "cell_type": "markdown",
   "id": "77dbab78",
   "metadata": {},
   "source": [
    "In this example we try to find paths between two given addresses, the `seed_address` and the `target_address`. In order to achieve this we implement a \"Breadth-First Search\" (BFS). Starting from the `seed_address`, this algorithm retrieves address neighbors layer by layer and checks for addresses matching our `target_address`."
   ]
  },
  {
   "cell_type": "code",
   "execution_count": 10,
   "id": "6a177392",
   "metadata": {
    "ExecuteTime": {
     "end_time": "2023-10-09T14:56:41.979639764Z",
     "start_time": "2023-10-09T14:56:41.953244006Z"
    }
   },
   "outputs": [],
   "source": [
    "# This is our target address:\n",
    "target_address = '33qpZENhgeX3huCzVGDD5NNKr9rK5NcMD9'"
   ]
  },
  {
   "cell_type": "code",
   "execution_count": 11,
   "id": "e1d046ae",
   "metadata": {
    "ExecuteTime": {
     "end_time": "2023-10-09T14:56:42.013293952Z",
     "start_time": "2023-10-09T14:56:41.970213970Z"
    }
   },
   "outputs": [],
   "source": [
    "# The Breadth-First Search algorithm:\n",
    "\n",
    "def bfs(seed_address,\n",
    "        target_addresses = [],\n",
    "        target_entities = [],\n",
    "        max_depth = 3, max_outdegree = 10, verbose = False):\n",
    "    \n",
    "    # collect matching paths\n",
    "    matching_paths = []\n",
    "    \n",
    "    # record visited addresses and entities\n",
    "    visited_entities = []\n",
    "    \n",
    "    # maintain a queue of paths\n",
    "    queue = []\n",
    "    \n",
    "    # push the first path into the queue\n",
    "    queue.append([seed_address])\n",
    "    \n",
    "    # count number of requests\n",
    "    no_requests = 0\n",
    "    \n",
    "    while(queue):\n",
    "\n",
    "        # get first path from the queue\n",
    "        path = queue.pop(0)\n",
    "        print(f\"No requests: {no_requests}, \" +\n",
    "              f\"Queue size: {len(queue)}, \" +\n",
    "              f\"path length: {len(path)}, \" +\n",
    "              f\"seed address {seed_address}\", end='\\r')\n",
    "        \n",
    "        # get the last node from the path\n",
    "        addr = path[-1]\n",
    "\n",
    "        # retrieve address neighbors\n",
    "        df_neighbors = get_addr_neighbors(addr)\n",
    "        no_requests = no_requests + 1\n",
    "\n",
    "        # continue with neighbors out_degree < max_outdegree\n",
    "        for index, neighbor in df_neighbors.iterrows():\n",
    "\n",
    "            new_path = list(path)\n",
    "            new_path.append(neighbor['address'])\n",
    "\n",
    "            # found path (address match)\n",
    "            if(neighbor['address'] in target_addresses):\n",
    "                print(new_path, end=' ')\n",
    "                print(\"MATCH | address\")\n",
    "                matching_paths.append(new_path)\n",
    "                continue\n",
    "\n",
    "            # found path (entity match)\n",
    "            if(neighbor['entity'] in target_entities):\n",
    "                print(new_path, end=' ')\n",
    "                print(\"MATCH | entity\")\n",
    "                matching_paths.append(new_path)\n",
    "                continue\n",
    "                                \n",
    "            # stop if max depth is reached\n",
    "            if len(new_path) == max_depth:\n",
    "                if verbose:\n",
    "                    print(new_path, end=' ') \n",
    "                    print(\"STOP | max depth\")\n",
    "                continue\n",
    "            \n",
    "            # stop if entity has already been visited\n",
    "            if(neighbor['entity'] in visited_entities):\n",
    "                if verbose:\n",
    "                    print(new_path, end=' ') \n",
    "                    print(\"STOP | same entity\")\n",
    "                continue\n",
    "\n",
    "            # stop if address out_degree exceeds threshold\n",
    "            if(neighbor['out_degree'] > max_outdegree):\n",
    "                if verbose:\n",
    "                    print(new_path, end=' ') \n",
    "                    print(\"STOP | max outdegree\")\n",
    "                continue\n",
    "\n",
    "            queue.append(new_path)\n",
    "            visited_entities.append(neighbor['entity'])\n",
    "                \n",
    "        if len(queue) == 0:\n",
    "            return matching_paths"
   ]
  },
  {
   "cell_type": "code",
   "execution_count": 12,
   "id": "135a2f35",
   "metadata": {
    "ExecuteTime": {
     "end_time": "2023-10-09T14:56:42.013583305Z",
     "start_time": "2023-10-09T14:56:42.011524840Z"
    }
   },
   "outputs": [],
   "source": [
    "# utility function to retrieve neighbors of an address:\n",
    "\n",
    "def get_addr_neighbors(address):\n",
    "    \n",
    "    with graphsense.ApiClient(configuration) as api_client:\n",
    "        try:\n",
    "            api_instance = bulk_api.BulkApi(api_client)\n",
    "            print(f\"get_addr_neighbors of {address}\")\n",
    "            operation = \"list_address_neighbors\"\n",
    "            body = {'address': [address], 'direction': 'out'}\n",
    "\n",
    "            df_address_neighbors = pd.read_csv(api_instance.bulk_csv(CURRENCY, operation, body=body,\n",
    "                                                                   num_pages=1, _preload_content=False))\n",
    "            \n",
    "            df_address_neighbors = df_address_neighbors \\\n",
    "                .loc[(df_address_neighbors['_error'] != 'not found') &\n",
    "                     (df_address_neighbors['_info'] != 'no data')].reset_index(drop=True)\n",
    "            if df_address_neighbors.empty:\n",
    "                df_address_neighbors.columns = ['address', 'entity', 'out_degree']\n",
    "                return df_address_neighbors\n",
    "\n",
    "            \n",
    "            df_address_neighbors = df_address_neighbors \\\n",
    "                .rename(columns={'address_address': 'address', \n",
    "                                 'address_entity': 'entity',\n",
    "                                 'address_out_degree': 'out_degree'}) \\\n",
    "\n",
    "            return df_address_neighbors[['address', 'entity', 'out_degree']]\n",
    "            \n",
    "        except graphsense.ApiException as e:\n",
    "            print(\"Exception when calling Bulk Api: %s\\n\" % e)"
   ]
  },
  {
   "cell_type": "code",
   "execution_count": 13,
   "id": "5f82b4d2",
   "metadata": {
    "ExecuteTime": {
     "end_time": "2023-10-09T14:56:49.800716231Z",
     "start_time": "2023-10-09T14:56:42.011690125Z"
    }
   },
   "outputs": [
    {
     "name": "stdout",
     "output_type": "stream",
     "text": [
      "get_addr_neighbors of 1BswBQiQrUMk3efFdTFZfnsgodB7xjrcGcess 1BswBQiQrUMk3efFdTFZfnsgodB7xjrcGc\n",
      "get_addr_neighbors of bc1qhlsngxttkqa2pl6ahjjn8h4qhgut9ajetrddq7BQiQrUMk3efFdTFZfnsgodB7xjrcGc\n",
      "get_addr_neighbors of 1CPXbR6axkHXxNhWrtouRcu13cN77ccZDZess 1BswBQiQrUMk3efFdTFZfnsgodB7xjrcGc\n",
      "get_addr_neighbors of bc1qj2a6a7xqnf5pkc3spjnhm224rem4mxvphu8eeaBQiQrUMk3efFdTFZfnsgodB7xjrcGc\n",
      "get_addr_neighbors of 3Bjo93bKcNk5nL1vNPr4hp7cWfGd77Hhv7ess 1BswBQiQrUMk3efFdTFZfnsgodB7xjrcGc\n",
      "get_addr_neighbors of 34SBebUu7FjqHAGP9LiPjjtZbs5cFzisHGess 1BswBQiQrUMk3efFdTFZfnsgodB7xjrcGc\n",
      "get_addr_neighbors of bc1qru49trsw24yqkrc4yh7kgu8u5crta06zlhdvrrBQiQrUMk3efFdTFZfnsgodB7xjrcGc\n",
      "get_addr_neighbors of bc1qkwuutl6lk9q9j38qhnrzk35rqqnjhmazgugy0vBQiQrUMk3efFdTFZfnsgodB7xjrcGc\n",
      "get_addr_neighbors of 39HSKGYcb3VguLbd7f8TBd6Nd3oAKeKcjJess 1BswBQiQrUMk3efFdTFZfnsgodB7xjrcGc\n",
      "get_addr_neighbors of 17yZaZjE4jQzygSbcgPEKMZxqagWNk7rBKess 1BswBQiQrUMk3efFdTFZfnsgodB7xjrcGc\n",
      "get_addr_neighbors of bc1qa0lejnyttw5zahr9ytlagd0y5dj6ma09ddja9ewBQiQrUMk3efFdTFZfnsgodB7xjrcGc\n",
      "get_addr_neighbors of 1LzYcBvcR4DotfKwExap1AJZTSp8k7uWNCdress 1BswBQiQrUMk3efFdTFZfnsgodB7xjrcGc\n",
      "get_addr_neighbors of 3JpqsBXr35NpF1sGqAWJnnpRSU3MU9WP2Gdress 1BswBQiQrUMk3efFdTFZfnsgodB7xjrcGc\n",
      "get_addr_neighbors of 1zz868if2wYYJiEwZ3iRHPLFSMvH6eZN1ddress 1BswBQiQrUMk3efFdTFZfnsgodB7xjrcGc\n",
      "get_addr_neighbors of 15fkigGWjLmT16PDrAURkJkWZSU6a2BS9idress 1BswBQiQrUMk3efFdTFZfnsgodB7xjrcGc\n",
      "get_addr_neighbors of 1L5QzXpZWNoT9WoQcVZgeP5TddxebXmFJMdress 1BswBQiQrUMk3efFdTFZfnsgodB7xjrcGc\n",
      "get_addr_neighbors of bc1q78yrdssz4tj0tr7xx5sku5vxjr7wj3gud43ahvwBQiQrUMk3efFdTFZfnsgodB7xjrcGc\n",
      "['1BswBQiQrUMk3efFdTFZfnsgodB7xjrcGc', 'bc1qhlsngxttkqa2pl6ahjjn8h4qhgut9ajetrddq7', 'bc1qkwuutl6lk9q9j38qhnrzk35rqqnjhmazgugy0v', 'bc1q78yrdssz4tj0tr7xx5sku5vxjr7wj3gud43ahv', '33qpZENhgeX3huCzVGDD5NNKr9rK5NcMD9'] MATCH | address\n",
      "get_addr_neighbors of 3MMNsPXNr7HCn6suEskKvEWnbBsKmAUoEBdress 1BswBQiQrUMk3efFdTFZfnsgodB7xjrcGc\n",
      "get_addr_neighbors of 13tcJKvLBYzLpRX9tmqCWfFn3DWF7114X7dress 1BswBQiQrUMk3efFdTFZfnsgodB7xjrcGc\n",
      "get_addr_neighbors of 3EDmemmyHSQVPRoBv2exww73h7RW2rXfbLdress 1BswBQiQrUMk3efFdTFZfnsgodB7xjrcGc\n",
      "get_addr_neighbors of bc1q7a70ns79ke587kf8yt94scxyng2uxlf35y2vyxswBQiQrUMk3efFdTFZfnsgodB7xjrcGc\n",
      "get_addr_neighbors of 19gTuBZtPzeWc7d9tX2LDFzih1EgyyeXvmdress 1BswBQiQrUMk3efFdTFZfnsgodB7xjrcGc\n",
      "get_addr_neighbors of 1HRRwHWJn4fN4b8yD35VBxqoxmXFPdWVJcdress 1BswBQiQrUMk3efFdTFZfnsgodB7xjrcGc\n",
      "get_addr_neighbors of 3DZwdSoNP18udzqu4ryz18rem3HUwEvP85dress 1BswBQiQrUMk3efFdTFZfnsgodB7xjrcGc\n",
      "get_addr_neighbors of 17ENyVsQd6uiEovk7W8H4Zo7XjZWVgFVS3dress 1BswBQiQrUMk3efFdTFZfnsgodB7xjrcGc\n",
      "get_addr_neighbors of 1jveNuUV6qmsdHJ2BaSzScDmRvg4T6umRddress 1BswBQiQrUMk3efFdTFZfnsgodB7xjrcGc\n",
      "get_addr_neighbors of bc1q3le57akrakfag0umplr9f4tlt2g3r2hchj9nrnswBQiQrUMk3efFdTFZfnsgodB7xjrcGc\n",
      "get_addr_neighbors of 345jigJWwkxKZSBEUGB7jrzLb35N4mwcKCdress 1BswBQiQrUMk3efFdTFZfnsgodB7xjrcGc\n",
      "get_addr_neighbors of bc1qkzq2myy876dsjw6qy5szsckg47k9fdwq28qczjswBQiQrUMk3efFdTFZfnsgodB7xjrcGc\n",
      "get_addr_neighbors of 32jVTQUZUVHLK2CEn35XobGNkWoA7iYx75dress 1BswBQiQrUMk3efFdTFZfnsgodB7xjrcGc\n",
      "get_addr_neighbors of 14MWwmdXnqTzFrpJqT4BerGAvNUsukBKrqdress 1BswBQiQrUMk3efFdTFZfnsgodB7xjrcGc\n",
      "get_addr_neighbors of 1BvH9Loe4VcYYPJfWymkCBWpoeEQfdAa9ndress 1BswBQiQrUMk3efFdTFZfnsgodB7xjrcGc\n",
      "get_addr_neighbors of bc1qdllwz2tzrgzahq9vyr4h8edt30hyntm77q4p7wswBQiQrUMk3efFdTFZfnsgodB7xjrcGc\n",
      "get_addr_neighbors of 3HzvYcDU9khE5UWbn3wdbkA6ShZKKNqYNadress 1BswBQiQrUMk3efFdTFZfnsgodB7xjrcGc\n",
      "get_addr_neighbors of 1G6SqyNP7AFm6o5az3igu3Q1JMWX5UeZgDdress 1BswBQiQrUMk3efFdTFZfnsgodB7xjrcGc\n",
      "get_addr_neighbors of 1L4obrKB87DYNinWokRzxyUzeZXHS3UQrhdress 1BswBQiQrUMk3efFdTFZfnsgodB7xjrcGc\n",
      "get_addr_neighbors of 3JUzqHCvrvhNSbLQyPQvh37yPUi2DzDUpZdress 1BswBQiQrUMk3efFdTFZfnsgodB7xjrcGc\n",
      "get_addr_neighbors of 1CyMZrv3c4ZzoiH5aEYo9eNja1yZu4YopWdress 1BswBQiQrUMk3efFdTFZfnsgodB7xjrcGc\n",
      "get_addr_neighbors of 39JxgpyMJVTw2MX17qiToctDZcjxA3hHc6ress 1BswBQiQrUMk3efFdTFZfnsgodB7xjrcGc\n",
      "get_addr_neighbors of 3MzHvXeRw9JkADBj49TgSCFUuVJA8aeyHyress 1BswBQiQrUMk3efFdTFZfnsgodB7xjrcGc\n",
      "get_addr_neighbors of 19bqxR9jdA1SyVraWKjuNpa6Gik5jvgt8Gress 1BswBQiQrUMk3efFdTFZfnsgodB7xjrcGc\n",
      "get_addr_neighbors of 1FZV9cLb6jyqMQTfWCii96ivwNTY9TCM2Nress 1BswBQiQrUMk3efFdTFZfnsgodB7xjrcGc\n",
      "get_addr_neighbors of 1Gv7gZT9W2qoAVPGRyJjpnxbWqQ4yVQ6hvress 1BswBQiQrUMk3efFdTFZfnsgodB7xjrcGc\n",
      "get_addr_neighbors of 1Bm5osRqdKxYxMdbnGyTnR9NRuDicDEiHhress 1BswBQiQrUMk3efFdTFZfnsgodB7xjrcGc\n",
      "get_addr_neighbors of bc1qrdv3up7k8mwnhwvjjrp9g0yl4jcz952aqrqrakwBQiQrUMk3efFdTFZfnsgodB7xjrcGc\n",
      "get_addr_neighbors of 17e6hmmwbT9tXJ7PUBXUTGaZ5zwhjMJ9ASress 1BswBQiQrUMk3efFdTFZfnsgodB7xjrcGc\n",
      "get_addr_neighbors of 3H3WNByEhBMqC8AuQViPF3NHoQENCtTvUxress 1BswBQiQrUMk3efFdTFZfnsgodB7xjrcGc\n",
      "get_addr_neighbors of bc1qcgwe5vk45vt2xt6q72lzcnaqj5fff7n643s87rwBQiQrUMk3efFdTFZfnsgodB7xjrcGc\n"
     ]
    }
   ],
   "source": [
    "# Find paths!\n",
    "\n",
    "paths = bfs(seed_address,\n",
    "            [target_address],\n",
    "            [],\n",
    "            7, 20, False)"
   ]
  },
  {
   "cell_type": "code",
   "execution_count": 14,
   "id": "4fb95f53",
   "metadata": {
    "ExecuteTime": {
     "end_time": "2023-10-09T14:56:49.815402014Z",
     "start_time": "2023-10-09T14:56:49.802125150Z"
    }
   },
   "outputs": [
    {
     "name": "stdout",
     "output_type": "stream",
     "text": [
      "Found path: 1BswBQiQrUMk3efFdTFZfnsgodB7xjrcGc bc1qhlsngxttkqa2pl6ahjjn8h4qhgut9ajetrddq7 bc1qkwuutl6lk9q9j38qhnrzk35rqqnjhmazgugy0v bc1q78yrdssz4tj0tr7xx5sku5vxjr7wj3gud43ahv 33qpZENhgeX3huCzVGDD5NNKr9rK5NcMD9\n"
     ]
    }
   ],
   "source": [
    "for path in paths:\n",
    "    print('Found path: ' + ' '.join(path))"
   ]
  },
  {
   "cell_type": "markdown",
   "id": "b19ba5aa",
   "metadata": {},
   "source": [
    "To visualize a path, copy and paste it into the search box of Iknaio's dashboard at https://app.ikna.io."
   ]
  },
  {
   "cell_type": "code",
   "execution_count": 14,
   "id": "8ef28a9c",
   "metadata": {
    "ExecuteTime": {
     "end_time": "2023-10-09T14:56:49.819231731Z",
     "start_time": "2023-10-09T14:56:49.816013562Z"
    }
   },
   "outputs": [],
   "source": []
  }
 ],
 "metadata": {
  "kernelspec": {
   "display_name": "Python 3 (ipykernel)",
   "language": "python",
   "name": "python3"
  },
  "language_info": {
   "codemirror_mode": {
    "name": "ipython",
    "version": 3
   },
   "file_extension": ".py",
   "mimetype": "text/x-python",
   "name": "python",
   "nbconvert_exporter": "python",
   "pygments_lexer": "ipython3",
   "version": "3.8.8"
  }
 },
 "nbformat": 4,
 "nbformat_minor": 5
}
