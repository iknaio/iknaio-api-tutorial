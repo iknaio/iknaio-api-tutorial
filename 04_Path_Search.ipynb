{
 "cells": [
  {
   "cell_type": "code",
   "execution_count": 3,
   "id": "d175dc47",
   "metadata": {},
   "outputs": [
    {
     "name": "stdout",
     "output_type": "stream",
     "text": [
      "The autoreload extension is already loaded. To reload it, use:\n",
      "  %reload_ext autoreload\n"
     ]
    }
   ],
   "source": [
    "%load_ext autoreload\n",
    "%autoreload 2"
   ]
  },
  {
   "cell_type": "code",
   "execution_count": 3,
   "id": "9a318474",
   "metadata": {},
   "outputs": [],
   "source": [
    "import csv\n",
    "from datetime import datetime\n",
    "import os\n",
    "\n",
    "from pathlib import Path\n",
    "from pprint import pprint\n",
    "\n",
    "import pandas as pd\n",
    "from pandas import DataFrame\n",
    "\n",
    "import json\n",
    "\n",
    "import graphsense\n",
    "from graphsense.api import addresses_api, blocks_api, entities_api, general_api, txs_api, bulk_api"
   ]
  },
  {
   "cell_type": "markdown",
   "id": "867e8861",
   "metadata": {},
   "source": [
    "## Loading seed and target data"
   ]
  },
  {
   "cell_type": "code",
   "execution_count": 4,
   "id": "d02a383b",
   "metadata": {},
   "outputs": [],
   "source": [
    "seed_address = '1BswBQiQrUMk3efFdTFZfnsgodB7xjrcGc'\n",
    "target_address = '33qpZENhgeX3huCzVGDD5NNKr9rK5NcMD9'"
   ]
  },
  {
   "cell_type": "markdown",
   "id": "154c0615",
   "metadata": {},
   "source": [
    "## Establish GS Connection"
   ]
  },
  {
   "cell_type": "code",
   "execution_count": 7,
   "id": "f8054bbd",
   "metadata": {},
   "outputs": [],
   "source": [
    "f = open('config.json')\n",
    "config = json.load(f)\n",
    "f.close()"
   ]
  },
  {
   "cell_type": "code",
   "execution_count": 8,
   "id": "05790258",
   "metadata": {},
   "outputs": [],
   "source": [
    "configuration = graphsense.Configuration(\n",
    "    host = config['graphsense']['host'],\n",
    "    api_key = {'api_key': config['graphsense']['api_key']})\n",
    "\n",
    "CURRENCY = 'btc'"
   ]
  },
  {
   "cell_type": "markdown",
   "id": "83ced4a9",
   "metadata": {},
   "source": [
    "## Fetch address details"
   ]
  },
  {
   "cell_type": "code",
   "execution_count": 11,
   "id": "2b2ce9c7",
   "metadata": {},
   "outputs": [],
   "source": [
    "def fetch_address_details(address):\n",
    "    with graphsense.ApiClient(configuration) as api_client:\n",
    "        try:\n",
    "            api_instance = addresses_api.AddressesApi(api_client)\n",
    "\n",
    "            address_details = api_instance.get_address(CURRENCY, address)\n",
    "            return address_details\n",
    "\n",
    "        except graphsense.ApiException as e:\n",
    "            print(\"Exception when calling Bulk Api: %s\\n\" % e)\n"
   ]
  },
  {
   "cell_type": "code",
   "execution_count": 15,
   "id": "bd26be5d",
   "metadata": {},
   "outputs": [
    {
     "data": {
      "text/plain": [
       "{'address': '1BswBQiQrUMk3efFdTFZfnsgodB7xjrcGc',\n",
       " 'balance': {'fiat_values': [{'code': 'eur', 'value': 0.0},\n",
       "                             {'code': 'usd', 'value': 0.0}],\n",
       "             'value': 0},\n",
       " 'currency': 'btc',\n",
       " 'entity': 435755627,\n",
       " 'first_tx': {'height': 547167,\n",
       "              'timestamp': 1540406274,\n",
       "              'tx_hash': 'e2606176793515d476ac63f63ac0ec8cc75af46ca4c5a466695122ad50462364'},\n",
       " 'in_degree': 1,\n",
       " 'last_tx': {'height': 576808,\n",
       "             'timestamp': 1558296707,\n",
       "             'tx_hash': 'b09aa1531c41dac74df2bf383955ea767954f6086a0be116efb9d5394d096408'},\n",
       " 'no_incoming_txs': 1,\n",
       " 'no_outgoing_txs': 1,\n",
       " 'out_degree': 1,\n",
       " 'status': 'clean',\n",
       " 'total_received': {'fiat_values': [{'code': 'eur', 'value': 0.35},\n",
       "                                    {'code': 'usd', 'value': 0.4}],\n",
       "                    'value': 6156},\n",
       " 'total_spent': {'fiat_values': [{'code': 'eur', 'value': 0.45},\n",
       "                                 {'code': 'usd', 'value': 0.5}],\n",
       "                 'value': 6156}}"
      ]
     },
     "execution_count": 15,
     "metadata": {},
     "output_type": "execute_result"
    }
   ],
   "source": [
    "seed_addr_details = fetch_address_details(seed_address)\n",
    "seed_addr_details"
   ]
  },
  {
   "cell_type": "code",
   "execution_count": 17,
   "id": "1385c383",
   "metadata": {},
   "outputs": [
    {
     "data": {
      "text/plain": [
       "{'address': '33qpZENhgeX3huCzVGDD5NNKr9rK5NcMD9',\n",
       " 'balance': {'fiat_values': [{'code': 'eur', 'value': 0.0},\n",
       "                             {'code': 'usd', 'value': 0.0}],\n",
       "             'value': 0},\n",
       " 'currency': 'btc',\n",
       " 'entity': 487558634,\n",
       " 'first_tx': {'height': 576927,\n",
       "              'timestamp': 1558349913,\n",
       "              'tx_hash': 'a032e399a9f7baa9ec36b5f20c0a93dbf2df018255b662db499d8e65c675d3d6'},\n",
       " 'in_degree': 1,\n",
       " 'last_tx': {'height': 576929,\n",
       "             'timestamp': 1558350963,\n",
       "             'tx_hash': '17d71751a415266368fe68e22de3f8051412fc8c01153ebe487b37f62494f279'},\n",
       " 'no_incoming_txs': 1,\n",
       " 'no_outgoing_txs': 1,\n",
       " 'out_degree': 2,\n",
       " 'status': 'clean',\n",
       " 'total_received': {'fiat_values': [{'code': 'eur', 'value': 1278.79},\n",
       "                                    {'code': 'usd', 'value': 1428.02}],\n",
       "                    'value': 17898818},\n",
       " 'total_spent': {'fiat_values': [{'code': 'eur', 'value': 1278.79},\n",
       "                                 {'code': 'usd', 'value': 1428.02}],\n",
       "                 'value': 17898818}}"
      ]
     },
     "execution_count": 17,
     "metadata": {},
     "output_type": "execute_result"
    }
   ],
   "source": [
    "target_addr_details = fetch_address_details(target_address)\n",
    "target_addr_details"
   ]
  },
  {
   "cell_type": "markdown",
   "id": "84975917",
   "metadata": {},
   "source": [
    "## Search neighbors"
   ]
  },
  {
   "cell_type": "code",
   "execution_count": 18,
   "id": "b53f2baf",
   "metadata": {},
   "outputs": [],
   "source": [
    "def get_addr_neighbors(address):\n",
    "    \n",
    "    with graphsense.ApiClient(configuration) as api_client:\n",
    "        try:\n",
    "            api_instance = bulk_api.BulkApi(api_client)\n",
    "            print(f\"get_addr_neighbors of {address}\")\n",
    "            operation = \"list_address_neighbors\"\n",
    "            body = {'address': [address], 'direction': 'out'}\n",
    "\n",
    "            df_address_neighbors = pd.read_csv(api_instance.bulk_csv(CURRENCY, operation, body=body,\n",
    "                                                                   num_pages=1, _preload_content=False))\n",
    "            \n",
    "            df_address_neighbors = df_address_neighbors \\\n",
    "                .loc[(df_address_neighbors['_error'] != 'not found') &\n",
    "                     (df_address_neighbors['_info'] != 'no data')].reset_index(drop=True)\n",
    "            if df_address_neighbors.empty:\n",
    "                df_address_neighbors.columns = ['address', 'entity', 'out_degree']\n",
    "                return df_address_neighbors\n",
    "\n",
    "            \n",
    "            df_address_neighbors = df_address_neighbors \\\n",
    "                .rename(columns={'address_address': 'address', \n",
    "                                 'address_entity': 'entity',\n",
    "                                 'address_out_degree': 'out_degree'}) \\\n",
    "\n",
    "            return df_address_neighbors[['address', 'entity', 'out_degree']]\n",
    "            \n",
    "        except graphsense.ApiException as e:\n",
    "            print(\"Exception when calling Bulk Api: %s\\n\" % e)"
   ]
  },
  {
   "cell_type": "code",
   "execution_count": 22,
   "id": "e1d046ae",
   "metadata": {},
   "outputs": [],
   "source": [
    "def bfs(seed_address,\n",
    "        target_addresses = [],\n",
    "        target_entities = [],\n",
    "        max_depth = 3, max_outdegree = 10, verbose = False):\n",
    "    \n",
    "    # collect matching paths\n",
    "    matching_paths = []\n",
    "    \n",
    "    # record visited addresses and entities\n",
    "    visited_entities = []\n",
    "    \n",
    "    # maintain a queue of paths\n",
    "    queue = []\n",
    "    \n",
    "    # push the first path into the queue\n",
    "    queue.append([seed_address])\n",
    "    \n",
    "    # count number of requests\n",
    "    no_requests = 0\n",
    "    \n",
    "    while(queue):\n",
    "\n",
    "        # get first path from the queue\n",
    "        path = queue.pop(0)\n",
    "        print(f\"No requests: {no_requests}, \" +\n",
    "              f\"Queue size: {len(queue)}, \" +\n",
    "              f\"path length: {len(path)}, \" +\n",
    "              f\"seed address {seed_address}\", end='\\r')\n",
    "        \n",
    "        # get the last node from the path\n",
    "        addr = path[-1]\n",
    "\n",
    "        # retrieve address neighbors\n",
    "        df_neighbors = get_addr_neighbors(addr)\n",
    "        no_requests = no_requests + 1\n",
    "\n",
    "        # continue with neighbors out_degree < max_outdegree\n",
    "        for index, neighbor in df_neighbors.iterrows():\n",
    "\n",
    "            new_path = list(path)\n",
    "            new_path.append(neighbor['address'])\n",
    "\n",
    "            # found path (address match)\n",
    "            if(neighbor['address'] in target_addresses):\n",
    "                print(new_path, end=' ')\n",
    "                print(\"MATCH | address\")\n",
    "                matching_paths.append(new_path)\n",
    "                continue\n",
    "\n",
    "            # found path (entity match)\n",
    "            if(neighbor['entity'] in target_entities):\n",
    "                print(new_path, end=' ')\n",
    "                print(\"MATCH | entity\")\n",
    "                matching_paths.append(new_path)\n",
    "                continue\n",
    "                                \n",
    "            # stop if max depth is reached\n",
    "            if len(new_path) == max_depth:\n",
    "                if verbose:\n",
    "                    print(new_path, end=' ') \n",
    "                    print(\"STOP | max depth\")\n",
    "                continue\n",
    "            \n",
    "            # stop if entity has already been visited\n",
    "            if(neighbor['entity'] in visited_entities):\n",
    "                if verbose:\n",
    "                    print(new_path, end=' ') \n",
    "                    print(\"STOP | same entity\")\n",
    "                continue\n",
    "\n",
    "            # stop if address out_degree exceeds threshold\n",
    "            if(neighbor['out_degree'] > max_outdegree):\n",
    "                if verbose:\n",
    "                    print(new_path, end=' ') \n",
    "                    print(\"STOP | max outdegree\")\n",
    "                continue\n",
    "\n",
    "            queue.append(new_path)\n",
    "            visited_entities.append(neighbor['entity'])\n",
    "                \n",
    "        if len(queue) == 0:\n",
    "            return matching_paths"
   ]
  },
  {
   "cell_type": "markdown",
   "id": "c23b5291",
   "metadata": {},
   "source": [
    "# Applying all the stuff"
   ]
  },
  {
   "cell_type": "markdown",
   "id": "117ebf70",
   "metadata": {},
   "source": [
    "### Test example (address match)"
   ]
  },
  {
   "cell_type": "code",
   "execution_count": 25,
   "id": "5f82b4d2",
   "metadata": {},
   "outputs": [
    {
     "name": "stdout",
     "output_type": "stream",
     "text": [
      "get_addr_neighbors of 1BswBQiQrUMk3efFdTFZfnsgodB7xjrcGcess 1BswBQiQrUMk3efFdTFZfnsgodB7xjrcGc\n",
      "get_addr_neighbors of bc1qhlsngxttkqa2pl6ahjjn8h4qhgut9ajetrddq7BQiQrUMk3efFdTFZfnsgodB7xjrcGc\n",
      "get_addr_neighbors of 1CPXbR6axkHXxNhWrtouRcu13cN77ccZDZess 1BswBQiQrUMk3efFdTFZfnsgodB7xjrcGc\n",
      "get_addr_neighbors of bc1qj2a6a7xqnf5pkc3spjnhm224rem4mxvphu8eeaBQiQrUMk3efFdTFZfnsgodB7xjrcGc\n",
      "get_addr_neighbors of 3Bjo93bKcNk5nL1vNPr4hp7cWfGd77Hhv7ess 1BswBQiQrUMk3efFdTFZfnsgodB7xjrcGc\n",
      "get_addr_neighbors of 34SBebUu7FjqHAGP9LiPjjtZbs5cFzisHGess 1BswBQiQrUMk3efFdTFZfnsgodB7xjrcGc\n",
      "get_addr_neighbors of bc1qru49trsw24yqkrc4yh7kgu8u5crta06zlhdvrrBQiQrUMk3efFdTFZfnsgodB7xjrcGc\n",
      "get_addr_neighbors of bc1qkwuutl6lk9q9j38qhnrzk35rqqnjhmazgugy0vBQiQrUMk3efFdTFZfnsgodB7xjrcGc\n",
      "get_addr_neighbors of 39HSKGYcb3VguLbd7f8TBd6Nd3oAKeKcjJess 1BswBQiQrUMk3efFdTFZfnsgodB7xjrcGc\n",
      "get_addr_neighbors of 17yZaZjE4jQzygSbcgPEKMZxqagWNk7rBKess 1BswBQiQrUMk3efFdTFZfnsgodB7xjrcGc\n",
      "get_addr_neighbors of bc1qa0lejnyttw5zahr9ytlagd0y5dj6ma09ddja9ewBQiQrUMk3efFdTFZfnsgodB7xjrcGc\n",
      "get_addr_neighbors of 1LzYcBvcR4DotfKwExap1AJZTSp8k7uWNCdress 1BswBQiQrUMk3efFdTFZfnsgodB7xjrcGc\n",
      "get_addr_neighbors of 3JpqsBXr35NpF1sGqAWJnnpRSU3MU9WP2Gdress 1BswBQiQrUMk3efFdTFZfnsgodB7xjrcGc\n",
      "get_addr_neighbors of 1zz868if2wYYJiEwZ3iRHPLFSMvH6eZN1ddress 1BswBQiQrUMk3efFdTFZfnsgodB7xjrcGc\n",
      "get_addr_neighbors of 15fkigGWjLmT16PDrAURkJkWZSU6a2BS9idress 1BswBQiQrUMk3efFdTFZfnsgodB7xjrcGc\n",
      "get_addr_neighbors of 1L5QzXpZWNoT9WoQcVZgeP5TddxebXmFJMdress 1BswBQiQrUMk3efFdTFZfnsgodB7xjrcGc\n",
      "get_addr_neighbors of bc1q78yrdssz4tj0tr7xx5sku5vxjr7wj3gud43ahvwBQiQrUMk3efFdTFZfnsgodB7xjrcGc\n",
      "['1BswBQiQrUMk3efFdTFZfnsgodB7xjrcGc', 'bc1qhlsngxttkqa2pl6ahjjn8h4qhgut9ajetrddq7', 'bc1qkwuutl6lk9q9j38qhnrzk35rqqnjhmazgugy0v', 'bc1q78yrdssz4tj0tr7xx5sku5vxjr7wj3gud43ahv', '33qpZENhgeX3huCzVGDD5NNKr9rK5NcMD9'] MATCH | address\n",
      "get_addr_neighbors of 3MMNsPXNr7HCn6suEskKvEWnbBsKmAUoEBdress 1BswBQiQrUMk3efFdTFZfnsgodB7xjrcGc\n",
      "get_addr_neighbors of 13tcJKvLBYzLpRX9tmqCWfFn3DWF7114X7dress 1BswBQiQrUMk3efFdTFZfnsgodB7xjrcGc\n",
      "get_addr_neighbors of 3EDmemmyHSQVPRoBv2exww73h7RW2rXfbLdress 1BswBQiQrUMk3efFdTFZfnsgodB7xjrcGc\n",
      "get_addr_neighbors of bc1q7a70ns79ke587kf8yt94scxyng2uxlf35y2vyxswBQiQrUMk3efFdTFZfnsgodB7xjrcGc\n",
      "get_addr_neighbors of 19gTuBZtPzeWc7d9tX2LDFzih1EgyyeXvmdress 1BswBQiQrUMk3efFdTFZfnsgodB7xjrcGc\n",
      "get_addr_neighbors of 1HRRwHWJn4fN4b8yD35VBxqoxmXFPdWVJcdress 1BswBQiQrUMk3efFdTFZfnsgodB7xjrcGc\n",
      "get_addr_neighbors of 3DZwdSoNP18udzqu4ryz18rem3HUwEvP85dress 1BswBQiQrUMk3efFdTFZfnsgodB7xjrcGc\n",
      "get_addr_neighbors of 17ENyVsQd6uiEovk7W8H4Zo7XjZWVgFVS3dress 1BswBQiQrUMk3efFdTFZfnsgodB7xjrcGc\n",
      "get_addr_neighbors of 1jveNuUV6qmsdHJ2BaSzScDmRvg4T6umRddress 1BswBQiQrUMk3efFdTFZfnsgodB7xjrcGc\n",
      "get_addr_neighbors of bc1q3le57akrakfag0umplr9f4tlt2g3r2hchj9nrnswBQiQrUMk3efFdTFZfnsgodB7xjrcGc\n",
      "get_addr_neighbors of 345jigJWwkxKZSBEUGB7jrzLb35N4mwcKCdress 1BswBQiQrUMk3efFdTFZfnsgodB7xjrcGc\n",
      "get_addr_neighbors of bc1qkzq2myy876dsjw6qy5szsckg47k9fdwq28qczjswBQiQrUMk3efFdTFZfnsgodB7xjrcGc\n",
      "get_addr_neighbors of 32jVTQUZUVHLK2CEn35XobGNkWoA7iYx75dress 1BswBQiQrUMk3efFdTFZfnsgodB7xjrcGc\n",
      "get_addr_neighbors of 14MWwmdXnqTzFrpJqT4BerGAvNUsukBKrqdress 1BswBQiQrUMk3efFdTFZfnsgodB7xjrcGc\n",
      "get_addr_neighbors of 1BvH9Loe4VcYYPJfWymkCBWpoeEQfdAa9ndress 1BswBQiQrUMk3efFdTFZfnsgodB7xjrcGc\n",
      "get_addr_neighbors of bc1qdllwz2tzrgzahq9vyr4h8edt30hyntm77q4p7wswBQiQrUMk3efFdTFZfnsgodB7xjrcGc\n",
      "get_addr_neighbors of 3HzvYcDU9khE5UWbn3wdbkA6ShZKKNqYNadress 1BswBQiQrUMk3efFdTFZfnsgodB7xjrcGc\n",
      "get_addr_neighbors of 1G6SqyNP7AFm6o5az3igu3Q1JMWX5UeZgDdress 1BswBQiQrUMk3efFdTFZfnsgodB7xjrcGc\n",
      "get_addr_neighbors of 1L4obrKB87DYNinWokRzxyUzeZXHS3UQrhdress 1BswBQiQrUMk3efFdTFZfnsgodB7xjrcGc\n",
      "get_addr_neighbors of 3JUzqHCvrvhNSbLQyPQvh37yPUi2DzDUpZdress 1BswBQiQrUMk3efFdTFZfnsgodB7xjrcGc\n",
      "get_addr_neighbors of 1CyMZrv3c4ZzoiH5aEYo9eNja1yZu4YopWdress 1BswBQiQrUMk3efFdTFZfnsgodB7xjrcGc\n",
      "get_addr_neighbors of 39JxgpyMJVTw2MX17qiToctDZcjxA3hHc6ress 1BswBQiQrUMk3efFdTFZfnsgodB7xjrcGc\n",
      "get_addr_neighbors of 3MzHvXeRw9JkADBj49TgSCFUuVJA8aeyHyress 1BswBQiQrUMk3efFdTFZfnsgodB7xjrcGc\n",
      "get_addr_neighbors of 19bqxR9jdA1SyVraWKjuNpa6Gik5jvgt8Gress 1BswBQiQrUMk3efFdTFZfnsgodB7xjrcGc\n",
      "get_addr_neighbors of 1FZV9cLb6jyqMQTfWCii96ivwNTY9TCM2Nress 1BswBQiQrUMk3efFdTFZfnsgodB7xjrcGc\n",
      "get_addr_neighbors of 1Gv7gZT9W2qoAVPGRyJjpnxbWqQ4yVQ6hvress 1BswBQiQrUMk3efFdTFZfnsgodB7xjrcGc\n",
      "get_addr_neighbors of 1Bm5osRqdKxYxMdbnGyTnR9NRuDicDEiHhress 1BswBQiQrUMk3efFdTFZfnsgodB7xjrcGc\n",
      "get_addr_neighbors of bc1qrdv3up7k8mwnhwvjjrp9g0yl4jcz952aqrqrakwBQiQrUMk3efFdTFZfnsgodB7xjrcGc\n",
      "get_addr_neighbors of 17e6hmmwbT9tXJ7PUBXUTGaZ5zwhjMJ9ASress 1BswBQiQrUMk3efFdTFZfnsgodB7xjrcGc\n",
      "get_addr_neighbors of 3H3WNByEhBMqC8AuQViPF3NHoQENCtTvUxress 1BswBQiQrUMk3efFdTFZfnsgodB7xjrcGc\n",
      "get_addr_neighbors of bc1qcgwe5vk45vt2xt6q72lzcnaqj5fff7n643s87rwBQiQrUMk3efFdTFZfnsgodB7xjrcGc\n"
     ]
    }
   ],
   "source": [
    "paths = bfs(seed_address,\n",
    "            [target_address],\n",
    "            [],\n",
    "            7, 20, False)"
   ]
  },
  {
   "cell_type": "markdown",
   "id": "3f9cd7ef",
   "metadata": {},
   "source": [
    "Copy and paste the path into the dashboard:"
   ]
  },
  {
   "cell_type": "code",
   "execution_count": 26,
   "id": "4fb95f53",
   "metadata": {},
   "outputs": [
    {
     "data": {
      "text/plain": [
       "'1BswBQiQrUMk3efFdTFZfnsgodB7xjrcGc bc1qhlsngxttkqa2pl6ahjjn8h4qhgut9ajetrddq7 bc1qkwuutl6lk9q9j38qhnrzk35rqqnjhmazgugy0v bc1q78yrdssz4tj0tr7xx5sku5vxjr7wj3gud43ahv 33qpZENhgeX3huCzVGDD5NNKr9rK5NcMD9'"
      ]
     },
     "execution_count": 26,
     "metadata": {},
     "output_type": "execute_result"
    }
   ],
   "source": [
    "' '.join(paths[0])"
   ]
  }
 ],
 "metadata": {
  "kernelspec": {
   "display_name": "Python 3 (ipykernel)",
   "language": "python",
   "name": "python3"
  },
  "language_info": {
   "codemirror_mode": {
    "name": "ipython",
    "version": 3
   },
   "file_extension": ".py",
   "mimetype": "text/x-python",
   "name": "python",
   "nbconvert_exporter": "python",
   "pygments_lexer": "ipython3",
   "version": "3.8.8"
  }
 },
 "nbformat": 4,
 "nbformat_minor": 5
}
