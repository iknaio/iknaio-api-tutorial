{
 "cells": [
  {
   "cell_type": "markdown",
   "metadata": {},
   "source": [
    "# Demo: Retrieving basic entities"
   ]
  },
  {
   "cell_type": "markdown",
   "metadata": {
    "ExecuteTime": {
     "end_time": "2020-11-11T07:42:56.012609Z",
     "start_time": "2020-11-11T07:42:56.010068Z"
    }
   },
   "source": [
    "## Import python modules"
   ]
  },
  {
   "cell_type": "code",
   "execution_count": 80,
   "metadata": {
    "ExecuteTime": {
     "end_time": "2023-10-09T14:55:21.719897148Z",
     "start_time": "2023-10-09T14:55:21.620780781Z"
    }
   },
   "outputs": [],
   "source": [
    "import graphsense\n",
    "import json\n",
    "from graphsense.api import addresses_api, blocks_api, entities_api, general_api\n",
    "\n",
    "import matplotlib.pyplot as plt\n",
    "\n",
    "from pprint import pprint"
   ]
  },
  {
   "cell_type": "markdown",
   "metadata": {},
   "source": [
    "## Load host and API key from config"
   ]
  },
  {
   "cell_type": "code",
   "execution_count": 81,
   "metadata": {
    "ExecuteTime": {
     "end_time": "2023-10-09T14:55:21.723258474Z",
     "start_time": "2023-10-09T14:55:21.635349161Z"
    }
   },
   "outputs": [],
   "source": [
    "f = open('config.json')\n",
    "config = json.load(f)\n",
    "f.close()\n",
    "\n",
    "CURRENCY = 'btc'"
   ]
  },
  {
   "cell_type": "markdown",
   "metadata": {},
   "source": [
    "## Configure GraphSense client\n"
   ]
  },
  {
   "cell_type": "markdown",
   "source": [
    "Now we configure the GraphSense Python library"
   ],
   "metadata": {
    "collapsed": false
   }
  },
  {
   "cell_type": "code",
   "execution_count": 82,
   "metadata": {
    "ExecuteTime": {
     "end_time": "2023-10-09T14:55:21.783451369Z",
     "start_time": "2023-10-09T14:55:21.640828092Z"
    }
   },
   "outputs": [],
   "source": [
    "configuration = graphsense.Configuration(\n",
    "    host = config['graphsense']['host'],\n",
    "    api_key = {'api_key': config['graphsense']['api_key']})"
   ]
  },
  {
   "cell_type": "markdown",
   "metadata": {},
   "source": [
    "We can test if our libary is working by retrieving summary statistics on supported ledgers."
   ]
  },
  {
   "cell_type": "code",
   "execution_count": 83,
   "metadata": {
    "scrolled": true,
    "ExecuteTime": {
     "end_time": "2023-10-09T14:55:21.951448061Z",
     "start_time": "2023-10-09T14:55:21.649040744Z"
    }
   },
   "outputs": [
    {
     "name": "stdout",
     "output_type": "stream",
     "text": [
      "{'currencies': [{'name': 'btc',\n",
      "                 'no_address_relations': 8844150797,\n",
      "                 'no_addresses': 1198225429,\n",
      "                 'no_blocks': 811046,\n",
      "                 'no_entities': 539219198,\n",
      "                 'no_labels': 18757,\n",
      "                 'no_tagged_addresses': 286973150,\n",
      "                 'no_txs': 903766135,\n",
      "                 'timestamp': 1696665933},\n",
      "                {'name': 'bch',\n",
      "                 'no_address_relations': 2483811552,\n",
      "                 'no_addresses': 341488049,\n",
      "                 'no_blocks': 814271,\n",
      "                 'no_entities': 153583335,\n",
      "                 'no_labels': 154,\n",
      "                 'no_tagged_addresses': 15922605,\n",
      "                 'no_txs': 375183455,\n",
      "                 'timestamp': 1696845743},\n",
      "                {'name': 'ltc',\n",
      "                 'no_address_relations': 1790713659,\n",
      "                 'no_addresses': 208123260,\n",
      "                 'no_blocks': 2559115,\n",
      "                 'no_entities': 90639198,\n",
      "                 'no_labels': 242,\n",
      "                 'no_tagged_addresses': 27887722,\n",
      "                 'no_txs': 180157058,\n",
      "                 'timestamp': 1696848702},\n",
      "                {'name': 'zec',\n",
      "                 'no_address_relations': 116785324,\n",
      "                 'no_addresses': 7919661,\n",
      "                 'no_blocks': 2255340,\n",
      "                 'no_entities': 3986133,\n",
      "                 'no_labels': 26,\n",
      "                 'no_tagged_addresses': 1438321,\n",
      "                 'no_txs': 13511467,\n",
      "                 'timestamp': 1696845593},\n",
      "                {'name': 'eth',\n",
      "                 'no_address_relations': 1024142613,\n",
      "                 'no_addresses': 270965142,\n",
      "                 'no_blocks': 18312992,\n",
      "                 'no_entities': 0,\n",
      "                 'no_labels': 27966,\n",
      "                 'no_tagged_addresses': 250998,\n",
      "                 'no_txs': 2087361958,\n",
      "                 'timestamp': 1696855415}],\n",
      " 'request_timestamp': '2023-10-09 14:55:21',\n",
      " 'version': '1.4.0'}\n"
     ]
    }
   ],
   "source": [
    "with graphsense.ApiClient(configuration) as api_client:\n",
    "    api_instance = general_api.GeneralApi(api_client)\n",
    "    api_response = api_instance.get_statistics()\n",
    "    pprint(api_response)"
   ]
  },
  {
   "cell_type": "markdown",
   "metadata": {
    "ExecuteTime": {
     "end_time": "2020-11-11T07:44:44.859379Z",
     "start_time": "2020-11-11T07:44:44.856847Z"
    }
   },
   "source": [
    "## Case study #1"
   ]
  },
  {
   "cell_type": "markdown",
   "metadata": {},
   "source": [
    "Let's have a look at some properties of block 500000 in the BTC blockchain."
   ]
  },
  {
   "cell_type": "code",
   "execution_count": 84,
   "metadata": {
    "ExecuteTime": {
     "end_time": "2023-10-09T14:55:27.113286580Z",
     "start_time": "2023-10-09T14:55:21.807563524Z"
    }
   },
   "outputs": [],
   "source": [
    "with graphsense.ApiClient(configuration) as api_client:\n",
    "    api_instance = blocks_api.BlocksApi(api_client)\n",
    "    try:\n",
    "        # Retrieve the list of all transactions in a block\n",
    "        block_txs_obj = api_instance.list_block_txs(CURRENCY, 500000)\n",
    "    except graphsense.ApiException as e:\n",
    "        print(\"Exception when calling BlocksApi->list_block_txs: %s\\n\" % e)"
   ]
  },
  {
   "cell_type": "markdown",
   "metadata": {},
   "source": [
    "Let's compute the paid fees and the ratio between fees and and total inputs for each transaction."
   ]
  },
  {
   "cell_type": "code",
   "execution_count": 85,
   "metadata": {
    "ExecuteTime": {
     "end_time": "2023-10-09T14:55:27.144102592Z",
     "start_time": "2023-10-09T14:55:27.129181410Z"
    }
   },
   "outputs": [],
   "source": [
    "block_tx_fees = [tx.total_input.value - tx.total_output.value\n",
    "                 for tx in block_txs_obj if len(tx.inputs.value) > 0]\n",
    "block_tx_inputs = [tx.total_input.value for tx in block_txs_obj if len(tx.inputs.value) > 0]\n",
    "block_tx_fee_input_ratios = [f/i for f, i in zip(block_tx_fees, block_tx_inputs)]"
   ]
  },
  {
   "cell_type": "markdown",
   "metadata": {},
   "source": [
    "Let's plot the results to visually identify some patterns."
   ]
  },
  {
   "cell_type": "code",
   "execution_count": 86,
   "metadata": {
    "ExecuteTime": {
     "end_time": "2023-10-09T14:55:27.359089651Z",
     "start_time": "2023-10-09T14:55:27.135775558Z"
    }
   },
   "outputs": [
    {
     "data": {
      "text/plain": "<Figure size 1500x700 with 3 Axes>",
      "image/png": "[encoded data removed]"
     },
     "metadata": {},
     "output_type": "display_data"
    }
   ],
   "source": [
    "fs = 14\n",
    "n_subplots = 3\n",
    "fig, axs = plt.subplots(n_subplots, figsize=(15, 7))\n",
    "axs[0].plot(block_tx_fees, 'b', label='Tx Fee Paid')\n",
    "\n",
    "axs[1].plot(block_tx_inputs, 'g', label='Total Tx Input')\n",
    "\n",
    "axs[2].plot(block_tx_fee_input_ratios, 'y', label='Fee/Input Ratio')\n",
    "\n",
    "for i in range(n_subplots):\n",
    "    axs[i].legend(fontsize=fs)\n",
    "    axs[i].tick_params(labelsize=fs)\n",
    "plt.show()"
   ]
  },
  {
   "cell_type": "markdown",
   "metadata": {},
   "source": [
    "There is something weird happening around tx number 250 and around tx number 500 where the ratio is constant and close to 1. Let's check the numbers in the block. "
   ]
  },
  {
   "cell_type": "code",
   "execution_count": 87,
   "metadata": {
    "ExecuteTime": {
     "end_time": "2023-10-09T14:55:27.362765087Z",
     "start_time": "2023-10-09T14:55:27.359940696Z"
    }
   },
   "outputs": [
    {
     "name": "stdout",
     "output_type": "stream",
     "text": [
      "index, ratio, input, fee\n",
      "248 0.9734254842791784 102730 100000\n",
      "249 0.9734254842791784 102730 100000\n",
      "250 0.9734254842791784 102730 100000\n",
      "251 0.9734254842791784 102730 100000\n",
      "252 0.9734254842791784 102730 100000\n",
      "498 0.9734254842791784 102730 100000\n",
      "499 0.9734254842791784 102730 100000\n",
      "500 0.9734254842791784 102730 100000\n",
      "501 0.9734254842791784 102730 100000\n",
      "502 0.9734254842791784 102730 100000\n"
     ]
    }
   ],
   "source": [
    "delta = 3\n",
    "print('index, ratio, input, fee')\n",
    "for i, el in enumerate(block_tx_fee_input_ratios):\n",
    "    if el > 0.9 and ((i > 250 - delta and i < 250 + delta) or (i > 500 - delta and i < 500 + delta)):\n",
    "        print(i, el, block_tx_inputs[i], block_tx_fees[i])"
   ]
  },
  {
   "cell_type": "markdown",
   "metadata": {},
   "source": [
    "Let's check how many transactions follow this pattern."
   ]
  },
  {
   "cell_type": "code",
   "execution_count": 88,
   "metadata": {
    "ExecuteTime": {
     "end_time": "2023-10-09T14:55:27.378627398Z",
     "start_time": "2023-10-09T14:55:27.362325225Z"
    }
   },
   "outputs": [],
   "source": [
    "from statistics import mode"
   ]
  },
  {
   "cell_type": "code",
   "execution_count": 89,
   "metadata": {
    "ExecuteTime": {
     "end_time": "2023-10-09T14:55:27.440409162Z",
     "start_time": "2023-10-09T14:55:27.379474839Z"
    }
   },
   "outputs": [
    {
     "data": {
      "text/plain": "0.9734254842791784"
     },
     "execution_count": 89,
     "metadata": {},
     "output_type": "execute_result"
    }
   ],
   "source": [
    "ratio_mode = mode(block_tx_fee_input_ratios)\n",
    "ratio_mode"
   ]
  },
  {
   "cell_type": "code",
   "execution_count": 90,
   "metadata": {
    "ExecuteTime": {
     "end_time": "2023-10-09T14:55:27.440874769Z",
     "start_time": "2023-10-09T14:55:27.439590291Z"
    }
   },
   "outputs": [
    {
     "data": {
      "text/plain": "177"
     },
     "execution_count": 90,
     "metadata": {},
     "output_type": "execute_result"
    }
   ],
   "source": [
    "n_txs_with_pattern = len([el for el in block_tx_fee_input_ratios if el == ratio_mode])\n",
    "n_txs_with_pattern"
   ]
  },
  {
   "cell_type": "code",
   "execution_count": 91,
   "metadata": {
    "ExecuteTime": {
     "end_time": "2023-10-09T14:55:27.441012716Z",
     "start_time": "2023-10-09T14:55:27.439781123Z"
    }
   },
   "outputs": [
    {
     "data": {
      "text/plain": "6.55312847093669"
     },
     "execution_count": 91,
     "metadata": {},
     "output_type": "execute_result"
    }
   ],
   "source": [
    "ratio_txs_with_pattern = 100*n_txs_with_pattern/len(block_txs_obj)\n",
    "ratio_txs_with_pattern"
   ]
  },
  {
   "cell_type": "markdown",
   "metadata": {},
   "source": [
    "We have 177 transactions in block 500000 (~6.55%) that follow a specific input-fee pattern and these have likely been performed by the same actor."
   ]
  },
  {
   "cell_type": "markdown",
   "metadata": {
    "ExecuteTime": {
     "end_time": "2020-11-11T09:00:44.112669Z",
     "start_time": "2020-11-11T09:00:44.106808Z"
    }
   },
   "source": [
    "## Case Study #2"
   ]
  },
  {
   "cell_type": "markdown",
   "metadata": {},
   "source": [
    "Let's play with an address and its entity and see what we can discover about their relations."
   ]
  },
  {
   "cell_type": "code",
   "execution_count": 92,
   "metadata": {
    "ExecuteTime": {
     "end_time": "2023-10-09T14:55:27.606205740Z",
     "start_time": "2023-10-09T14:55:27.439984383Z"
    }
   },
   "outputs": [],
   "source": [
    "address = '18NSAybFEhLa6AG3gxEN1hiaRJoSvvbnDb'\n",
    "\n",
    "with graphsense.ApiClient(configuration) as api_client:\n",
    "    api_instance = addresses_api.AddressesApi(api_client)\n",
    "    try:\n",
    "        # Retrieve the address object\n",
    "        address_obj = api_instance.get_address(CURRENCY, address)\n",
    "        # pprint(address_obj)\n",
    "        entity_obj = api_instance.get_address_entity(CURRENCY, address)\n",
    "        # pprint(entity_obj)\n",
    "    except graphsense.ApiException as e:\n",
    "        print(\"Exception when calling AddressesApi: %s\\n\" % e)"
   ]
  },
  {
   "cell_type": "markdown",
   "metadata": {},
   "source": [
    "Let's check some simple properties of the address and of the entity and then compare their number of incoming and outgoing transactions."
   ]
  },
  {
   "cell_type": "code",
   "execution_count": 93,
   "metadata": {
    "ExecuteTime": {
     "end_time": "2023-10-09T14:55:27.606923417Z",
     "start_time": "2023-10-09T14:55:27.604146984Z"
    }
   },
   "outputs": [
    {
     "data": {
      "text/plain": "{'fiat_values': [{'code': 'eur', 'value': 58193.23},\n                 {'code': 'usd', 'value': 68158.8}],\n 'value': 1439242418}"
     },
     "execution_count": 93,
     "metadata": {},
     "output_type": "execute_result"
    }
   ],
   "source": [
    "address_obj.total_received"
   ]
  },
  {
   "cell_type": "code",
   "execution_count": 94,
   "metadata": {
    "ExecuteTime": {
     "end_time": "2023-10-09T14:55:27.628571542Z",
     "start_time": "2023-10-09T14:55:27.606793147Z"
    }
   },
   "outputs": [
    {
     "data": {
      "text/plain": "{'fiat_values': [{'code': 'eur', 'value': 0.0}, {'code': 'usd', 'value': 0.0}],\n 'value': 0}"
     },
     "execution_count": 94,
     "metadata": {},
     "output_type": "execute_result"
    }
   ],
   "source": [
    "address_obj.balance"
   ]
  },
  {
   "cell_type": "code",
   "execution_count": 95,
   "metadata": {
    "ExecuteTime": {
     "end_time": "2023-10-09T14:55:27.664414165Z",
     "start_time": "2023-10-09T14:55:27.624466514Z"
    }
   },
   "outputs": [
    {
     "data": {
      "text/plain": "12"
     },
     "execution_count": 95,
     "metadata": {},
     "output_type": "execute_result"
    }
   ],
   "source": [
    "entity_obj.no_addresses"
   ]
  },
  {
   "cell_type": "code",
   "execution_count": 96,
   "metadata": {
    "ExecuteTime": {
     "end_time": "2023-10-09T14:55:27.665422120Z",
     "start_time": "2023-10-09T14:55:27.632192423Z"
    }
   },
   "outputs": [],
   "source": [
    "from datetime import datetime"
   ]
  },
  {
   "cell_type": "code",
   "execution_count": 97,
   "metadata": {
    "ExecuteTime": {
     "end_time": "2023-10-09T14:55:27.703779424Z",
     "start_time": "2023-10-09T14:55:27.640239922Z"
    }
   },
   "outputs": [
    {
     "name": "stdout",
     "output_type": "stream",
     "text": [
      "First Tx: 2016-12-15 02:37:11\n"
     ]
    }
   ],
   "source": [
    "print('First Tx:', datetime.utcfromtimestamp(entity_obj.first_tx.timestamp).strftime('%Y-%m-%d %H:%M:%S'))"
   ]
  },
  {
   "cell_type": "code",
   "execution_count": 98,
   "metadata": {
    "ExecuteTime": {
     "end_time": "2023-10-09T14:55:27.704093541Z",
     "start_time": "2023-10-09T14:55:27.683582083Z"
    }
   },
   "outputs": [
    {
     "name": "stdout",
     "output_type": "stream",
     "text": [
      "Last Tx: 2020-01-20 13:43:06\n"
     ]
    }
   ],
   "source": [
    "print('Last Tx:', datetime.utcfromtimestamp(entity_obj.last_tx.timestamp).strftime('%Y-%m-%d %H:%M:%S'))"
   ]
  },
  {
   "cell_type": "code",
   "execution_count": 99,
   "metadata": {
    "ExecuteTime": {
     "end_time": "2023-10-09T14:55:27.704276314Z",
     "start_time": "2023-10-09T14:55:27.683739012Z"
    }
   },
   "outputs": [
    {
     "data": {
      "text/plain": "(34, 34)"
     },
     "execution_count": 99,
     "metadata": {},
     "output_type": "execute_result"
    }
   ],
   "source": [
    "address_obj.no_incoming_txs, entity_obj.no_incoming_txs"
   ]
  },
  {
   "cell_type": "code",
   "execution_count": 100,
   "metadata": {
    "ExecuteTime": {
     "end_time": "2023-10-09T14:55:27.704404709Z",
     "start_time": "2023-10-09T14:55:27.683829697Z"
    }
   },
   "outputs": [
    {
     "data": {
      "text/plain": "(16, 16)"
     },
     "execution_count": 100,
     "metadata": {},
     "output_type": "execute_result"
    }
   ],
   "source": [
    "address_obj.no_outgoing_txs, entity_obj.no_outgoing_txs"
   ]
  },
  {
   "cell_type": "markdown",
   "metadata": {
    "ExecuteTime": {
     "end_time": "2023-10-09T14:40:19.982561207Z",
     "start_time": "2023-10-09T14:40:19.719680268Z"
    }
   },
   "source": [
    "It looks like this address was used in all the incoming and outgoing transactions of the entity. Let's discover more about this entity."
   ]
  },
  {
   "cell_type": "code",
   "execution_count": 101,
   "metadata": {
    "ExecuteTime": {
     "end_time": "2023-10-09T14:55:27.797774891Z",
     "start_time": "2023-10-09T14:55:27.683916760Z"
    }
   },
   "outputs": [],
   "source": [
    "with graphsense.ApiClient(configuration) as api_client:\n",
    "    api_instance = entities_api.EntitiesApi(api_client)\n",
    "    try:\n",
    "        # Retrieve the entity's tags\n",
    "        entity_tags = api_instance.list_address_tags_by_entity(CURRENCY, entity_obj.entity)\n",
    "        # pprint(entity_tags)\n",
    "    except graphsense.ApiException as e:\n",
    "        print(\"Exception when calling EntitiesApi: %s\\n\" % e)"
   ]
  },
  {
   "cell_type": "code",
   "execution_count": 102,
   "metadata": {
    "ExecuteTime": {
     "end_time": "2023-10-09T14:55:27.844050677Z",
     "start_time": "2023-10-09T14:55:27.799749734Z"
    }
   },
   "outputs": [
    {
     "data": {
      "text/plain": "{'address_tags': []}"
     },
     "execution_count": 102,
     "metadata": {},
     "output_type": "execute_result"
    }
   ],
   "source": [
    "entity_tags"
   ]
  },
  {
   "cell_type": "markdown",
   "metadata": {
    "ExecuteTime": {
     "end_time": "2023-10-09T14:41:28.326656463Z",
     "start_time": "2023-10-09T14:41:25.403078929Z"
    }
   },
   "source": [
    "Unfortunately, we have no tags for this entity. Let's check its incoming neighbors!"
   ]
  },
  {
   "cell_type": "code",
   "execution_count": 103,
   "metadata": {
    "ExecuteTime": {
     "end_time": "2023-10-09T14:55:30.679320501Z",
     "start_time": "2023-10-09T14:55:27.843750227Z"
    }
   },
   "outputs": [],
   "source": [
    "with graphsense.ApiClient(configuration) as api_client:\n",
    "    api_instance = entities_api.EntitiesApi(api_client)\n",
    "    try:\n",
    "        # Retrieve entity neighbors\n",
    "        entity_neighbors_obj = api_instance.list_entity_neighbors('btc', entity_obj.entity,\n",
    "                                                                  direction='in', include_labels=True)\n",
    "    except graphsense.ApiException as e:\n",
    "        print(\"Exception when calling EntitiesApi: %s\\n\" % e)"
   ]
  },
  {
   "cell_type": "markdown",
   "metadata": {
    "ExecuteTime": {
     "end_time": "2023-10-09T14:41:36.099554489Z",
     "start_time": "2023-10-09T14:41:36.082172358Z"
    }
   },
   "source": [
    "First, it's better to check how many incoming neighbors we are dealing with"
   ]
  },
  {
   "cell_type": "code",
   "execution_count": 104,
   "metadata": {
    "ExecuteTime": {
     "end_time": "2023-10-09T14:55:30.682702990Z",
     "start_time": "2023-10-09T14:55:30.679779801Z"
    }
   },
   "outputs": [
    {
     "data": {
      "text/plain": "32"
     },
     "execution_count": 104,
     "metadata": {},
     "output_type": "execute_result"
    }
   ],
   "source": [
    "len([e.entity for e in entity_neighbors_obj.neighbors])"
   ]
  },
  {
   "cell_type": "markdown",
   "metadata": {
    "ExecuteTime": {
     "end_time": "2023-10-09T14:40:37.361385800Z",
     "start_time": "2023-10-09T14:40:37.338088005Z"
    }
   },
   "source": [
    "Not too many, we can work with them. Let's see if we are lucky with the labels of the incoming neighbors!"
   ]
  },
  {
   "cell_type": "code",
   "execution_count": 105,
   "metadata": {
    "ExecuteTime": {
     "end_time": "2023-10-09T14:55:30.700166728Z",
     "start_time": "2023-10-09T14:55:30.683234189Z"
    }
   },
   "outputs": [
    {
     "name": "stdout",
     "output_type": "stream",
     "text": [
      "['bitfinex', 'poloniex', 'poloniex hot wallet', 'poloniex.com', 'sonm ico'] (Entity ID: 25701483)\n",
      "['wasabi', 'wasabi coinjoin'] (Entity ID: 147102831)\n",
      "['changelly', 'changellypro withdraw wallet', 'hitbtc'] (Entity ID: 309180199)\n",
      "['shapeshift'] (Entity ID: 338277264)\n",
      "['shapeshift'] (Entity ID: 358476566)\n",
      "['shapeshift'] (Entity ID: 362233411)\n",
      "['shapeshift'] (Entity ID: 386975879)\n",
      "['shapeshift'] (Entity ID: 387509449)\n",
      "['shapeshift'] (Entity ID: 397336901)\n",
      "['shapeshift'] (Entity ID: 397339281)\n",
      "['shapeshift'] (Entity ID: 402990595)\n",
      "['shapeshift'] (Entity ID: 426062696)\n"
     ]
    }
   ],
   "source": [
    "known_neighbors = [el for el in entity_neighbors_obj.neighbors if len(el.labels) > 0]\n",
    "for neighbor in known_neighbors:\n",
    "    print(f\"{neighbor.labels} (Entity ID: {neighbor.entity.entity})\")"
   ]
  },
  {
   "cell_type": "markdown",
   "metadata": {},
   "source": [
    "Bingo! We found a known entity, which sent money to our entity: **Poloniex.com**, which is a cryptoasset exchange."
   ]
  }
 ],
 "metadata": {
  "kernelspec": {
   "display_name": "Python 3 (ipykernel)",
   "language": "python",
   "name": "python3"
  },
  "language_info": {
   "codemirror_mode": {
    "name": "ipython",
    "version": 3
   },
   "file_extension": ".py",
   "mimetype": "text/x-python",
   "name": "python",
   "nbconvert_exporter": "python",
   "pygments_lexer": "ipython3",
   "version": "3.10.6"
  }
 },
 "nbformat": 4,
 "nbformat_minor": 2
}
