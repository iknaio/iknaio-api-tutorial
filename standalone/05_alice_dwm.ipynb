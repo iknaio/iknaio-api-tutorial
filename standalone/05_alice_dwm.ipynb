{
 "cells": [
  {
   "cell_type": "markdown",
   "id": "turned-startup",
   "metadata": {
    "ExecuteTime": {
     "end_time": "2021-03-22T08:41:40.812538Z",
     "start_time": "2021-03-22T08:41:40.809610Z"
    },
    "id": "turned-startup"
   },
   "source": [
    "# Exercise 5 - Automatically find Exchange links for DWM Query\n",
    "\n",
    "In this demo we will see how to combine DWM and Iknaio to automatically find connections to exchanges given a bunch of crypto addresses mentioned some darkweb context"
   ]
  },
  {
   "cell_type": "markdown",
   "id": "a38755d3",
   "metadata": {
    "id": "a38755d3"
   },
   "source": [
    "## Preparations"
   ]
  },
  {
   "cell_type": "markdown",
   "id": "a0b3e94f",
   "metadata": {
    "id": "a0b3e94f"
   },
   "source": [
    "First, we install the graphsense-python package and define an API-key. An API-key for the [GraphSense](https://graphsense.github.io/) instance hosted by [Iknaio](https://www.ikna.io/) can be requested by sending an email to [contact@iknaio.com](contact@iknaio.com)."
   ]
  },
  {
   "cell_type": "code",
   "id": "68589d91",
   "metadata": {
    "colab": {
     "base_uri": "https://localhost:8080/"
    },
    "id": "68589d91",
    "outputId": "d79588b0-b573-48b8-8e07-13aa50d148cc",
    "ExecuteTime": {
     "end_time": "2025-01-13T09:36:43.505096Z",
     "start_time": "2025-01-13T09:36:42.241738Z"
    }
   },
   "source": [
    "!pip install graphsense-python seaborn\n",
    "\n",
    "import graphsense\n",
    "from graphsense.api import bulk_api, general_api\n",
    "\n",
    "import json\n",
    "import pandas as pd\n",
    "import seaborn as sns\n",
    "import matplotlib.pyplot as plt"
   ],
   "outputs": [
    {
     "name": "stdout",
     "output_type": "stream",
     "text": [
      "Requirement already satisfied: graphsense-python in /home/tom/anaconda3/envs/iknaio-api-tutorial/lib/python3.11/site-packages (1.4.0)\r\n",
      "Requirement already satisfied: seaborn in /home/tom/anaconda3/envs/iknaio-api-tutorial/lib/python3.11/site-packages (0.13.0)\r\n",
      "Requirement already satisfied: urllib3>=1.25.3 in /home/tom/anaconda3/envs/iknaio-api-tutorial/lib/python3.11/site-packages (from graphsense-python) (1.26.17)\r\n",
      "Requirement already satisfied: python-dateutil in /home/tom/anaconda3/envs/iknaio-api-tutorial/lib/python3.11/site-packages (from graphsense-python) (2.8.2)\r\n",
      "Requirement already satisfied: numpy!=1.24.0,>=1.20 in /home/tom/anaconda3/envs/iknaio-api-tutorial/lib/python3.11/site-packages (from seaborn) (1.26.0)\r\n",
      "Requirement already satisfied: pandas>=1.2 in /home/tom/anaconda3/envs/iknaio-api-tutorial/lib/python3.11/site-packages (from seaborn) (1.5.3)\r\n",
      "Requirement already satisfied: matplotlib!=3.6.1,>=3.3 in /home/tom/anaconda3/envs/iknaio-api-tutorial/lib/python3.11/site-packages (from seaborn) (3.8.0)\r\n",
      "Requirement already satisfied: contourpy>=1.0.1 in /home/tom/anaconda3/envs/iknaio-api-tutorial/lib/python3.11/site-packages (from matplotlib!=3.6.1,>=3.3->seaborn) (1.1.1)\r\n",
      "Requirement already satisfied: cycler>=0.10 in /home/tom/anaconda3/envs/iknaio-api-tutorial/lib/python3.11/site-packages (from matplotlib!=3.6.1,>=3.3->seaborn) (0.12.1)\r\n",
      "Requirement already satisfied: fonttools>=4.22.0 in /home/tom/anaconda3/envs/iknaio-api-tutorial/lib/python3.11/site-packages (from matplotlib!=3.6.1,>=3.3->seaborn) (4.43.1)\r\n",
      "Requirement already satisfied: kiwisolver>=1.0.1 in /home/tom/anaconda3/envs/iknaio-api-tutorial/lib/python3.11/site-packages (from matplotlib!=3.6.1,>=3.3->seaborn) (1.4.5)\r\n",
      "Requirement already satisfied: packaging>=20.0 in /home/tom/anaconda3/envs/iknaio-api-tutorial/lib/python3.11/site-packages (from matplotlib!=3.6.1,>=3.3->seaborn) (23.2)\r\n",
      "Requirement already satisfied: pillow>=6.2.0 in /home/tom/anaconda3/envs/iknaio-api-tutorial/lib/python3.11/site-packages (from matplotlib!=3.6.1,>=3.3->seaborn) (10.0.1)\r\n",
      "Requirement already satisfied: pyparsing>=2.3.1 in /home/tom/anaconda3/envs/iknaio-api-tutorial/lib/python3.11/site-packages (from matplotlib!=3.6.1,>=3.3->seaborn) (3.1.1)\r\n",
      "Requirement already satisfied: pytz>=2020.1 in /home/tom/anaconda3/envs/iknaio-api-tutorial/lib/python3.11/site-packages (from pandas>=1.2->seaborn) (2023.3.post1)\r\n",
      "Requirement already satisfied: six>=1.5 in /home/tom/anaconda3/envs/iknaio-api-tutorial/lib/python3.11/site-packages (from python-dateutil->graphsense-python) (1.16.0)\r\n"
     ]
    }
   ],
   "execution_count": 33
  },
  {
   "cell_type": "code",
   "id": "15d96a7c",
   "metadata": {
    "id": "15d96a7c",
    "ExecuteTime": {
     "end_time": "2025-01-13T09:36:43.512287Z",
     "start_time": "2025-01-13T09:36:43.509260Z"
    }
   },
   "source": [
    "# load config.json\n",
    "with open('../config.json') as f:\n",
    "    config = json.load(f)\n",
    "\n",
    "\n",
    "configuration = graphsense.Configuration(\n",
    "    host = \"https://api.ikna.io/\",\n",
    "    api_key = {\n",
    "        'api_key': config['graphsense']['api_key']\n",
    "    }\n",
    ")"
   ],
   "outputs": [],
   "execution_count": 34
  },
  {
   "cell_type": "markdown",
   "id": "43bcf76e",
   "metadata": {
    "id": "43bcf76e"
   },
   "source": [
    "GraphSense supports Bitcoin-like UTXO and Ethereum-like Account-Model ledgers. Iknaio currently hosts BTC, LTC, BCH, ZEC, and ETH.\n",
    "\n",
    "We are investigating Bitcoin transactions, therefore we set the default currency to Bitcoin **BTC**."
   ]
  },
  {
   "cell_type": "code",
   "id": "54da1436",
   "metadata": {
    "id": "54da1436",
    "ExecuteTime": {
     "end_time": "2025-01-13T09:36:43.556837Z",
     "start_time": "2025-01-13T09:36:43.554828Z"
    }
   },
   "source": [
    "CURRENCY = 'btc'"
   ],
   "outputs": [],
   "execution_count": 35
  },
  {
   "cell_type": "markdown",
   "id": "68b0c9e9",
   "metadata": {
    "id": "68b0c9e9"
   },
   "source": [
    "We can test whether or client works, by checking what data the GraphSense endpoint provides"
   ]
  },
  {
   "cell_type": "code",
   "id": "15c87b84",
   "metadata": {
    "colab": {
     "base_uri": "https://localhost:8080/",
     "height": 833
    },
    "id": "15c87b84",
    "outputId": "edb09fd4-f4de-4f68-f691-a3521ea3c22f",
    "ExecuteTime": {
     "end_time": "2025-01-13T09:36:43.677321Z",
     "start_time": "2025-01-13T09:36:43.602305Z"
    }
   },
   "source": [
    "with graphsense.ApiClient(configuration) as api_client:\n",
    "    api_instance = general_api.GeneralApi(api_client)\n",
    "    api_response = api_instance.get_statistics()\n",
    "    display(api_response)"
   ],
   "outputs": [
    {
     "data": {
      "text/plain": [
       "{'currencies': [{'name': 'btc',\n",
       "                 'no_address_relations': 10702661835,\n",
       "                 'no_addresses': 1362717773,\n",
       "                 'no_blocks': 879053,\n",
       "                 'no_entities': 619014618,\n",
       "                 'no_labels': 28866,\n",
       "                 'no_tagged_addresses': 313255850,\n",
       "                 'no_txs': 1143063996,\n",
       "                 'timestamp': 1736752998},\n",
       "                {'name': 'bch',\n",
       "                 'no_address_relations': 2815733259,\n",
       "                 'no_addresses': 357464141,\n",
       "                 'no_blocks': 880818,\n",
       "                 'no_entities': 166550051,\n",
       "                 'no_labels': 436,\n",
       "                 'no_tagged_addresses': 15707850,\n",
       "                 'no_txs': 405436925,\n",
       "                 'timestamp': 1736738682},\n",
       "                {'name': 'ltc',\n",
       "                 'no_address_relations': 2218283863,\n",
       "                 'no_addresses': 321713100,\n",
       "                 'no_blocks': 2826418,\n",
       "                 'no_entities': 164551776,\n",
       "                 'no_labels': 517,\n",
       "                 'no_tagged_addresses': 36297530,\n",
       "                 'no_txs': 301270692,\n",
       "                 'timestamp': 1736754415},\n",
       "                {'name': 'zec',\n",
       "                 'no_address_relations': 123167406,\n",
       "                 'no_addresses': 8380619,\n",
       "                 'no_blocks': 2784600,\n",
       "                 'no_entities': 4350658,\n",
       "                 'no_labels': 25,\n",
       "                 'no_tagged_addresses': 1352514,\n",
       "                 'no_txs': 15109589,\n",
       "                 'timestamp': 1736744530},\n",
       "                {'name': 'eth',\n",
       "                 'no_address_relations': 1303062632,\n",
       "                 'no_addresses': 325389101,\n",
       "                 'no_blocks': 21614477,\n",
       "                 'no_entities': 0,\n",
       "                 'no_labels': 236890,\n",
       "                 'no_tagged_addresses': 3235495,\n",
       "                 'no_txs': 2653932950,\n",
       "                 'timestamp': 1736754575},\n",
       "                {'name': 'trx',\n",
       "                 'no_address_relations': 4211710136,\n",
       "                 'no_addresses': 306936701,\n",
       "                 'no_blocks': 68626918,\n",
       "                 'no_entities': 0,\n",
       "                 'no_labels': 10230,\n",
       "                 'no_tagged_addresses': 25159,\n",
       "                 'no_txs': 9096429650,\n",
       "                 'timestamp': 1736528394}],\n",
       " 'request_timestamp': '2025-01-13 09:36:43',\n",
       " 'version': '1.9.0'}"
      ]
     },
     "metadata": {},
     "output_type": "display_data"
    }
   ],
   "execution_count": 36
  },
  {
   "cell_type": "markdown",
   "id": "9d9eafb5",
   "metadata": {
    "id": "9d9eafb5"
   },
   "source": [
    "# 1. Load Starting Addresses from DWM\n"
   ]
  },
  {
   "cell_type": "code",
   "id": "709acc64",
   "metadata": {
    "colab": {
     "base_uri": "https://localhost:8080/",
     "height": 424
    },
    "id": "709acc64",
    "outputId": "61bafa91-6ecd-4c0e-8229-1cbbe2d042a6",
    "ExecuteTime": {
     "end_time": "2025-01-13T09:36:43.718818Z",
     "start_time": "2025-01-13T09:36:43.690184Z"
    }
   },
   "source": [
    "addresses = pd.read_csv(\n",
    "    'https://raw.githubusercontent.com/iknaio/iknaio-api-tutorial/main/data/sextortion_addresses.csv',\n",
    "    header=None,\n",
    "    names=[\"address\"]\n",
    ")\n",
    "addresses"
   ],
   "outputs": [
    {
     "data": {
      "text/plain": [
       "                                address\n",
       "0    1JwRp2J8bQcoG8XTUbxQZaEj9QB4RB6zEa\n",
       "1    1EZS92K4xJbymDLwG4F7PNF5idPE62e9XY\n",
       "2    16B4HuSAJ4WRdCq7dzA5b4ASh6QQ7ytZWB\n",
       "3    1EdX5vtBiHGmkqbJc7VRSuVMx9Kpgh53Tp\n",
       "4    3Ch7RPfwkJ3wHhiBfA4CNc8SagGdjbZwVs\n",
       "..                                  ...\n",
       "240  1BC1pvPUQF9QHg73ha4AEAhaoEvg6HmTbS\n",
       "241  13QKq8RsvbJnLRbi5ZcVX1ziYW83tqvp1q\n",
       "242  1DiEqE5R1Ktu7QCLUuJN31PNtpoBU41x2E\n",
       "243  1NWybUp8ZJXKyDg2DR5MaePspforMPYbM3\n",
       "244  1KR7dmKjUjKsg7rLr32ikD3Gpyj7Aj2x4r\n",
       "\n",
       "[245 rows x 1 columns]"
      ],
      "text/html": [
       "<div>\n",
       "<style scoped>\n",
       "    .dataframe tbody tr th:only-of-type {\n",
       "        vertical-align: middle;\n",
       "    }\n",
       "\n",
       "    .dataframe tbody tr th {\n",
       "        vertical-align: top;\n",
       "    }\n",
       "\n",
       "    .dataframe thead th {\n",
       "        text-align: right;\n",
       "    }\n",
       "</style>\n",
       "<table border=\"1\" class=\"dataframe\">\n",
       "  <thead>\n",
       "    <tr style=\"text-align: right;\">\n",
       "      <th></th>\n",
       "      <th>address</th>\n",
       "    </tr>\n",
       "  </thead>\n",
       "  <tbody>\n",
       "    <tr>\n",
       "      <th>0</th>\n",
       "      <td>1JwRp2J8bQcoG8XTUbxQZaEj9QB4RB6zEa</td>\n",
       "    </tr>\n",
       "    <tr>\n",
       "      <th>1</th>\n",
       "      <td>1EZS92K4xJbymDLwG4F7PNF5idPE62e9XY</td>\n",
       "    </tr>\n",
       "    <tr>\n",
       "      <th>2</th>\n",
       "      <td>16B4HuSAJ4WRdCq7dzA5b4ASh6QQ7ytZWB</td>\n",
       "    </tr>\n",
       "    <tr>\n",
       "      <th>3</th>\n",
       "      <td>1EdX5vtBiHGmkqbJc7VRSuVMx9Kpgh53Tp</td>\n",
       "    </tr>\n",
       "    <tr>\n",
       "      <th>4</th>\n",
       "      <td>3Ch7RPfwkJ3wHhiBfA4CNc8SagGdjbZwVs</td>\n",
       "    </tr>\n",
       "    <tr>\n",
       "      <th>...</th>\n",
       "      <td>...</td>\n",
       "    </tr>\n",
       "    <tr>\n",
       "      <th>240</th>\n",
       "      <td>1BC1pvPUQF9QHg73ha4AEAhaoEvg6HmTbS</td>\n",
       "    </tr>\n",
       "    <tr>\n",
       "      <th>241</th>\n",
       "      <td>13QKq8RsvbJnLRbi5ZcVX1ziYW83tqvp1q</td>\n",
       "    </tr>\n",
       "    <tr>\n",
       "      <th>242</th>\n",
       "      <td>1DiEqE5R1Ktu7QCLUuJN31PNtpoBU41x2E</td>\n",
       "    </tr>\n",
       "    <tr>\n",
       "      <th>243</th>\n",
       "      <td>1NWybUp8ZJXKyDg2DR5MaePspforMPYbM3</td>\n",
       "    </tr>\n",
       "    <tr>\n",
       "      <th>244</th>\n",
       "      <td>1KR7dmKjUjKsg7rLr32ikD3Gpyj7Aj2x4r</td>\n",
       "    </tr>\n",
       "  </tbody>\n",
       "</table>\n",
       "<p>245 rows × 1 columns</p>\n",
       "</div>"
      ]
     },
     "execution_count": 37,
     "metadata": {},
     "output_type": "execute_result"
    }
   ],
   "execution_count": 37
  },
  {
   "cell_type": "markdown",
   "id": "intended-screw",
   "metadata": {
    "id": "intended-screw"
   },
   "source": [
    "# Q1. How many of the addresses are used?"
   ]
  },
  {
   "cell_type": "markdown",
   "id": "60546702",
   "metadata": {
    "id": "60546702"
   },
   "source": [
    "Instead of querying each address individually, we just pass the dataframe of known sextortion payment addresses."
   ]
  },
  {
   "cell_type": "code",
   "id": "aec6d39e",
   "metadata": {
    "colab": {
     "base_uri": "https://localhost:8080/",
     "height": 424
    },
    "id": "aec6d39e",
    "outputId": "2dcaea5b-4400-4b14-cf7c-c8f2ba2e751c",
    "ExecuteTime": {
     "end_time": "2025-01-13T09:36:45.591148Z",
     "start_time": "2025-01-13T09:36:43.766110Z"
    }
   },
   "source": [
    "with graphsense.ApiClient(configuration) as clnt:\n",
    "    blkapi = bulk_api.BulkApi(clnt)\n",
    "\n",
    "    # documentation about available bulk operations can be found\n",
    "    # here https://api.ikna.io/#/bulk/bulk_csv\n",
    "    rcsv = blkapi.bulk_csv(\n",
    "                CURRENCY,\n",
    "                operation=\"get_address\",\n",
    "                body={\n",
    "                    'address': addresses['address'].to_list()\n",
    "                },\n",
    "                num_pages=1,\n",
    "                _preload_content=False\n",
    "              )\n",
    "    respAddrDF = pd.read_csv(rcsv)\n",
    "respAddrDF[[\"address\", \"balance_eur\", \"total_received_eur\", \"total_spent_eur\", \"in_degree\", \"out_degree\", \"no_incoming_txs\", \"no_outgoing_txs\", \"first_tx_height\", \"last_tx_height\"]]"
   ],
   "outputs": [
    {
     "data": {
      "text/plain": [
       "                                address  balance_eur  total_received_eur  \\\n",
       "0    14JLSAk9TKR6hVFswC6oRPoeAcydSecLFX          1.0             3898.19   \n",
       "1    196FGBPW7JzPNCNjRZLtvpn3s6Ugppgdt1          0.0              904.93   \n",
       "2    1CnQxRTP5WeGmwaSriYdefDEHyjWpY7tjw          0.0              772.30   \n",
       "3    1FCGhC7ncVgfepxzaAzq8Qdq2ypjvfYHhF          0.0              661.63   \n",
       "4     1e8o68StxCFLr6wdwKBrBqMQZc1VbFVMk          0.0              909.67   \n",
       "..                                  ...          ...                 ...   \n",
       "240  19rvCcYfSwPUSvJJKNyTyRFi5vxt6zaqJC          0.0             4437.93   \n",
       "241  1JRCbCH9E3iLhSXPTqtkgfAsJNT2xD74C5          0.0             1496.23   \n",
       "242  1PjxMdF22GCcTKSTaky7ema3F5V4kjRxam          0.0              746.67   \n",
       "243  17viZFKw1Xn8WQcpC6GwLqjzLTcE7qBJ93          0.0             1419.97   \n",
       "244  1QFNFoWpvmxLywMFcaHT3QmwvnKHpWWgyF          0.0              666.20   \n",
       "\n",
       "     total_spent_eur  in_degree  out_degree  no_incoming_txs  no_outgoing_txs  \\\n",
       "0            3916.81         13          10               11                5   \n",
       "1            1043.82          2           1                1                1   \n",
       "2             798.33          3           4                3                3   \n",
       "3             661.63          1           2                1                1   \n",
       "4             909.67          3           2                3                2   \n",
       "..               ...        ...         ...              ...              ...   \n",
       "240          4004.67         15           1                9                1   \n",
       "241          1442.25         86           2                8                2   \n",
       "242           720.09          4           3                4                2   \n",
       "243          1419.97          3           3                3                3   \n",
       "244           666.20          2           1                1                1   \n",
       "\n",
       "     first_tx_height  last_tx_height  \n",
       "0             559043          574559  \n",
       "1             561952          566904  \n",
       "2             556871          557764  \n",
       "3             562961          563038  \n",
       "4             555912          557770  \n",
       "..               ...             ...  \n",
       "240           557341          558630  \n",
       "241           552351          552832  \n",
       "242           559627          562563  \n",
       "243           554410          555462  \n",
       "244           563938          563939  \n",
       "\n",
       "[245 rows x 10 columns]"
      ],
      "text/html": [
       "<div>\n",
       "<style scoped>\n",
       "    .dataframe tbody tr th:only-of-type {\n",
       "        vertical-align: middle;\n",
       "    }\n",
       "\n",
       "    .dataframe tbody tr th {\n",
       "        vertical-align: top;\n",
       "    }\n",
       "\n",
       "    .dataframe thead th {\n",
       "        text-align: right;\n",
       "    }\n",
       "</style>\n",
       "<table border=\"1\" class=\"dataframe\">\n",
       "  <thead>\n",
       "    <tr style=\"text-align: right;\">\n",
       "      <th></th>\n",
       "      <th>address</th>\n",
       "      <th>balance_eur</th>\n",
       "      <th>total_received_eur</th>\n",
       "      <th>total_spent_eur</th>\n",
       "      <th>in_degree</th>\n",
       "      <th>out_degree</th>\n",
       "      <th>no_incoming_txs</th>\n",
       "      <th>no_outgoing_txs</th>\n",
       "      <th>first_tx_height</th>\n",
       "      <th>last_tx_height</th>\n",
       "    </tr>\n",
       "  </thead>\n",
       "  <tbody>\n",
       "    <tr>\n",
       "      <th>0</th>\n",
       "      <td>14JLSAk9TKR6hVFswC6oRPoeAcydSecLFX</td>\n",
       "      <td>1.0</td>\n",
       "      <td>3898.19</td>\n",
       "      <td>3916.81</td>\n",
       "      <td>13</td>\n",
       "      <td>10</td>\n",
       "      <td>11</td>\n",
       "      <td>5</td>\n",
       "      <td>559043</td>\n",
       "      <td>574559</td>\n",
       "    </tr>\n",
       "    <tr>\n",
       "      <th>1</th>\n",
       "      <td>196FGBPW7JzPNCNjRZLtvpn3s6Ugppgdt1</td>\n",
       "      <td>0.0</td>\n",
       "      <td>904.93</td>\n",
       "      <td>1043.82</td>\n",
       "      <td>2</td>\n",
       "      <td>1</td>\n",
       "      <td>1</td>\n",
       "      <td>1</td>\n",
       "      <td>561952</td>\n",
       "      <td>566904</td>\n",
       "    </tr>\n",
       "    <tr>\n",
       "      <th>2</th>\n",
       "      <td>1CnQxRTP5WeGmwaSriYdefDEHyjWpY7tjw</td>\n",
       "      <td>0.0</td>\n",
       "      <td>772.30</td>\n",
       "      <td>798.33</td>\n",
       "      <td>3</td>\n",
       "      <td>4</td>\n",
       "      <td>3</td>\n",
       "      <td>3</td>\n",
       "      <td>556871</td>\n",
       "      <td>557764</td>\n",
       "    </tr>\n",
       "    <tr>\n",
       "      <th>3</th>\n",
       "      <td>1FCGhC7ncVgfepxzaAzq8Qdq2ypjvfYHhF</td>\n",
       "      <td>0.0</td>\n",
       "      <td>661.63</td>\n",
       "      <td>661.63</td>\n",
       "      <td>1</td>\n",
       "      <td>2</td>\n",
       "      <td>1</td>\n",
       "      <td>1</td>\n",
       "      <td>562961</td>\n",
       "      <td>563038</td>\n",
       "    </tr>\n",
       "    <tr>\n",
       "      <th>4</th>\n",
       "      <td>1e8o68StxCFLr6wdwKBrBqMQZc1VbFVMk</td>\n",
       "      <td>0.0</td>\n",
       "      <td>909.67</td>\n",
       "      <td>909.67</td>\n",
       "      <td>3</td>\n",
       "      <td>2</td>\n",
       "      <td>3</td>\n",
       "      <td>2</td>\n",
       "      <td>555912</td>\n",
       "      <td>557770</td>\n",
       "    </tr>\n",
       "    <tr>\n",
       "      <th>...</th>\n",
       "      <td>...</td>\n",
       "      <td>...</td>\n",
       "      <td>...</td>\n",
       "      <td>...</td>\n",
       "      <td>...</td>\n",
       "      <td>...</td>\n",
       "      <td>...</td>\n",
       "      <td>...</td>\n",
       "      <td>...</td>\n",
       "      <td>...</td>\n",
       "    </tr>\n",
       "    <tr>\n",
       "      <th>240</th>\n",
       "      <td>19rvCcYfSwPUSvJJKNyTyRFi5vxt6zaqJC</td>\n",
       "      <td>0.0</td>\n",
       "      <td>4437.93</td>\n",
       "      <td>4004.67</td>\n",
       "      <td>15</td>\n",
       "      <td>1</td>\n",
       "      <td>9</td>\n",
       "      <td>1</td>\n",
       "      <td>557341</td>\n",
       "      <td>558630</td>\n",
       "    </tr>\n",
       "    <tr>\n",
       "      <th>241</th>\n",
       "      <td>1JRCbCH9E3iLhSXPTqtkgfAsJNT2xD74C5</td>\n",
       "      <td>0.0</td>\n",
       "      <td>1496.23</td>\n",
       "      <td>1442.25</td>\n",
       "      <td>86</td>\n",
       "      <td>2</td>\n",
       "      <td>8</td>\n",
       "      <td>2</td>\n",
       "      <td>552351</td>\n",
       "      <td>552832</td>\n",
       "    </tr>\n",
       "    <tr>\n",
       "      <th>242</th>\n",
       "      <td>1PjxMdF22GCcTKSTaky7ema3F5V4kjRxam</td>\n",
       "      <td>0.0</td>\n",
       "      <td>746.67</td>\n",
       "      <td>720.09</td>\n",
       "      <td>4</td>\n",
       "      <td>3</td>\n",
       "      <td>4</td>\n",
       "      <td>2</td>\n",
       "      <td>559627</td>\n",
       "      <td>562563</td>\n",
       "    </tr>\n",
       "    <tr>\n",
       "      <th>243</th>\n",
       "      <td>17viZFKw1Xn8WQcpC6GwLqjzLTcE7qBJ93</td>\n",
       "      <td>0.0</td>\n",
       "      <td>1419.97</td>\n",
       "      <td>1419.97</td>\n",
       "      <td>3</td>\n",
       "      <td>3</td>\n",
       "      <td>3</td>\n",
       "      <td>3</td>\n",
       "      <td>554410</td>\n",
       "      <td>555462</td>\n",
       "    </tr>\n",
       "    <tr>\n",
       "      <th>244</th>\n",
       "      <td>1QFNFoWpvmxLywMFcaHT3QmwvnKHpWWgyF</td>\n",
       "      <td>0.0</td>\n",
       "      <td>666.20</td>\n",
       "      <td>666.20</td>\n",
       "      <td>2</td>\n",
       "      <td>1</td>\n",
       "      <td>1</td>\n",
       "      <td>1</td>\n",
       "      <td>563938</td>\n",
       "      <td>563939</td>\n",
       "    </tr>\n",
       "  </tbody>\n",
       "</table>\n",
       "<p>245 rows × 10 columns</p>\n",
       "</div>"
      ]
     },
     "execution_count": 38,
     "metadata": {},
     "output_type": "execute_result"
    }
   ],
   "execution_count": 38
  },
  {
   "cell_type": "code",
   "id": "owned-audit",
   "metadata": {
    "colab": {
     "base_uri": "https://localhost:8080/"
    },
    "id": "owned-audit",
    "outputId": "c144ec8b-df6e-466f-c80e-665f9d334235",
    "ExecuteTime": {
     "end_time": "2025-01-13T09:36:45.630111Z",
     "start_time": "2025-01-13T09:36:45.628008Z"
    }
   },
   "source": [
    "print(f\"{len(respAddrDF)} addresses received {sum(respAddrDF['total_received_usd']):.2f} USD\")"
   ],
   "outputs": [
    {
     "name": "stdout",
     "output_type": "stream",
     "text": [
      "245 addresses received 886359.19 USD\n"
     ]
    }
   ],
   "execution_count": 39
  },
  {
   "cell_type": "markdown",
   "id": "intended-noise",
   "metadata": {
    "id": "intended-noise"
   },
   "source": [
    "# Q2: Are there direct links to exchanges?"
   ]
  },
  {
   "cell_type": "code",
   "id": "545a44c7",
   "metadata": {
    "colab": {
     "base_uri": "https://localhost:8080/"
    },
    "id": "545a44c7",
    "outputId": "351883a3-0356-44d9-ed9a-063a54a78323",
    "ExecuteTime": {
     "end_time": "2025-01-13T09:53:04.570554Z",
     "start_time": "2025-01-13T09:52:23.221136Z"
    }
   },
   "source": [
    "import requests\n",
    "import time\n",
    "from tqdm import tqdm\n",
    "\n",
    "seconds = 40\n",
    "address = \"15sJ8z2VXR6T7spiDj2W7UJbjJhqWpy33W\" # todo\n",
    "max_depth = 30\n",
    "max_breadth = 100\n",
    "\n",
    "\n",
    "header = {\n",
    "    \"cookie\": f\"remember_prod={config['graphsense']['session']}\"\n",
    "}\n",
    "\n",
    "def get_QL_results(address: str) -> dict:\n",
    "\n",
    "    def get_task_id(address: str) -> str:\n",
    "        rq = f\"https://api.ikna.io/quicklock/follow_flows_to_exchange/{CURRENCY}?perpetrator_address={address}&max_search_depth={max_depth}&max_search_breadth={max_breadth}&search_time_seconds={seconds}\"\n",
    "\n",
    "        response = requests.get(rq, headers=header)\n",
    "        response.json()\n",
    "        return response.json()['task_id']\n",
    "\n",
    "    def get_data(task_id):\n",
    "\n",
    "        response_got = False\n",
    "        while not response_got:\n",
    "            req = f\"https://api.ikna.io/quicklock/get_task_state/{task_id}?include_path_details=false\"\n",
    "            response = requests.get(req, headers=header)\n",
    "            response_json = response.json()\n",
    "            if response_json['state'] in [\"done\", \"timeout\"]:\n",
    "                response_got = True\n",
    "            else:\n",
    "                time.sleep(2)\n",
    "\n",
    "        rq_get_result = f\"https://api.ikna.io/quicklock/get_task_state/{task_id}?include_path_details=true\"\n",
    "\n",
    "        response = requests.get(rq_get_result, headers=header)\n",
    "        result = response.json()\n",
    "        results = result['results']\n",
    "        data = {\n",
    "            \"address\": address,\n",
    "            \"pct_traced_to_exchange\": results['pct_traced_to_exchange'],\n",
    "            \"nr_pathes_found\": results['nr_pathes_found']\n",
    "        }\n",
    "        return data\n",
    "\n",
    "    task_id = get_task_id(address)\n",
    "    return get_data(task_id)\n",
    "\n",
    "address_list = addresses['address'].to_list()[:10]\n",
    "\n",
    "results_list = []\n",
    "for address in tqdm(address_list, desc=\"Processing addresses\"):\n",
    "    results_list.append(get_QL_results(address))\n",
    "\n",
    "df_ql = pd.DataFrame(results_list)\n",
    "df_ql"
   ],
   "outputs": [
    {
     "name": "stderr",
     "output_type": "stream",
     "text": [
      "Processing addresses: 100%|██████████| 10/10 [00:41<00:00,  4.13s/it]\n"
     ]
    },
    {
     "data": {
      "text/plain": [
       "                              address  pct_traced_to_exchange  nr_pathes_found\n",
       "0  1JwRp2J8bQcoG8XTUbxQZaEj9QB4RB6zEa                3.109556                9\n",
       "1  1EZS92K4xJbymDLwG4F7PNF5idPE62e9XY                0.000000                0\n",
       "2  16B4HuSAJ4WRdCq7dzA5b4ASh6QQ7ytZWB                0.000000                0\n",
       "3  1EdX5vtBiHGmkqbJc7VRSuVMx9Kpgh53Tp               45.495085               19\n",
       "4  3Ch7RPfwkJ3wHhiBfA4CNc8SagGdjbZwVs                0.000000                0\n",
       "5  19GqTJDhu7A1qg7rnK3KS7tmCkCTMTz6xD                0.013151                2\n",
       "6  1NMRCQMfhfVyAyuEubdfneE2H458Njog3v                0.000000                0\n",
       "7  16XhmM7nPvR15eFdmVJs4QWcWpnYVS6FTv                0.000000                0\n",
       "8  1EyXwmxKd74HeyqbZbmXJsNxmfpiPeAF3F                0.000000                0\n",
       "9  1NPy1TBRyk6vMeGG3e5GaJWxYa9HbsNtDm               21.851681                1"
      ],
      "text/html": [
       "<div>\n",
       "<style scoped>\n",
       "    .dataframe tbody tr th:only-of-type {\n",
       "        vertical-align: middle;\n",
       "    }\n",
       "\n",
       "    .dataframe tbody tr th {\n",
       "        vertical-align: top;\n",
       "    }\n",
       "\n",
       "    .dataframe thead th {\n",
       "        text-align: right;\n",
       "    }\n",
       "</style>\n",
       "<table border=\"1\" class=\"dataframe\">\n",
       "  <thead>\n",
       "    <tr style=\"text-align: right;\">\n",
       "      <th></th>\n",
       "      <th>address</th>\n",
       "      <th>pct_traced_to_exchange</th>\n",
       "      <th>nr_pathes_found</th>\n",
       "    </tr>\n",
       "  </thead>\n",
       "  <tbody>\n",
       "    <tr>\n",
       "      <th>0</th>\n",
       "      <td>1JwRp2J8bQcoG8XTUbxQZaEj9QB4RB6zEa</td>\n",
       "      <td>3.109556</td>\n",
       "      <td>9</td>\n",
       "    </tr>\n",
       "    <tr>\n",
       "      <th>1</th>\n",
       "      <td>1EZS92K4xJbymDLwG4F7PNF5idPE62e9XY</td>\n",
       "      <td>0.000000</td>\n",
       "      <td>0</td>\n",
       "    </tr>\n",
       "    <tr>\n",
       "      <th>2</th>\n",
       "      <td>16B4HuSAJ4WRdCq7dzA5b4ASh6QQ7ytZWB</td>\n",
       "      <td>0.000000</td>\n",
       "      <td>0</td>\n",
       "    </tr>\n",
       "    <tr>\n",
       "      <th>3</th>\n",
       "      <td>1EdX5vtBiHGmkqbJc7VRSuVMx9Kpgh53Tp</td>\n",
       "      <td>45.495085</td>\n",
       "      <td>19</td>\n",
       "    </tr>\n",
       "    <tr>\n",
       "      <th>4</th>\n",
       "      <td>3Ch7RPfwkJ3wHhiBfA4CNc8SagGdjbZwVs</td>\n",
       "      <td>0.000000</td>\n",
       "      <td>0</td>\n",
       "    </tr>\n",
       "    <tr>\n",
       "      <th>5</th>\n",
       "      <td>19GqTJDhu7A1qg7rnK3KS7tmCkCTMTz6xD</td>\n",
       "      <td>0.013151</td>\n",
       "      <td>2</td>\n",
       "    </tr>\n",
       "    <tr>\n",
       "      <th>6</th>\n",
       "      <td>1NMRCQMfhfVyAyuEubdfneE2H458Njog3v</td>\n",
       "      <td>0.000000</td>\n",
       "      <td>0</td>\n",
       "    </tr>\n",
       "    <tr>\n",
       "      <th>7</th>\n",
       "      <td>16XhmM7nPvR15eFdmVJs4QWcWpnYVS6FTv</td>\n",
       "      <td>0.000000</td>\n",
       "      <td>0</td>\n",
       "    </tr>\n",
       "    <tr>\n",
       "      <th>8</th>\n",
       "      <td>1EyXwmxKd74HeyqbZbmXJsNxmfpiPeAF3F</td>\n",
       "      <td>0.000000</td>\n",
       "      <td>0</td>\n",
       "    </tr>\n",
       "    <tr>\n",
       "      <th>9</th>\n",
       "      <td>1NPy1TBRyk6vMeGG3e5GaJWxYa9HbsNtDm</td>\n",
       "      <td>21.851681</td>\n",
       "      <td>1</td>\n",
       "    </tr>\n",
       "  </tbody>\n",
       "</table>\n",
       "</div>"
      ]
     },
     "execution_count": 64,
     "metadata": {},
     "output_type": "execute_result"
    }
   ],
   "execution_count": 64
  },
  {
   "metadata": {
    "ExecuteTime": {
     "end_time": "2025-01-13T09:46:34.673133Z",
     "start_time": "2025-01-13T09:46:03.854245Z"
    }
   },
   "cell_type": "code",
   "source": "",
   "id": "bc539ab7e3bd3309",
   "outputs": [
    {
     "name": "stdout",
     "output_type": "stream",
     "text": [
      "https://api.ikna.io/quicklock/get_task_state/e6a3fa4d1a064c6966ae8fbc16ba30a7?include_path_details=false\n",
      "https://api.ikna.io/quicklock/get_task_state/e6a3fa4d1a064c6966ae8fbc16ba30a7?include_path_details=false\n",
      "https://api.ikna.io/quicklock/get_task_state/e6a3fa4d1a064c6966ae8fbc16ba30a7?include_path_details=false\n",
      "https://api.ikna.io/quicklock/get_task_state/e6a3fa4d1a064c6966ae8fbc16ba30a7?include_path_details=false\n",
      "{'address': '15sJ8z2VXR6T7spiDj2W7UJbjJhqWpy33W', 'pct_traced_to_exchange': 53.20496806360333, 'nr_pathes_found': 107}\n"
     ]
    }
   ],
   "execution_count": 58
  },
  {
   "metadata": {
    "ExecuteTime": {
     "end_time": "2025-01-13T09:44:32.590275Z",
     "start_time": "2025-01-13T09:44:32.587832Z"
    }
   },
   "cell_type": "code",
   "source": "",
   "id": "3126e1aa93073350",
   "outputs": [
    {
     "data": {
      "text/plain": [
       "107"
      ]
     },
     "execution_count": 55,
     "metadata": {},
     "output_type": "execute_result"
    }
   ],
   "execution_count": 55
  },
  {
   "cell_type": "markdown",
   "id": "cd780afb",
   "metadata": {
    "id": "cd780afb"
   },
   "source": [
    "# Q3: Can i link more addresses to our seed addresses?"
   ]
  },
  {
   "cell_type": "markdown",
   "id": "06671447",
   "metadata": {
    "id": "06671447"
   },
   "source": [
    "We now fetch summary statistics for each entity."
   ]
  },
  {
   "cell_type": "code",
   "id": "75e7fe37",
   "metadata": {
    "colab": {
     "base_uri": "https://localhost:8080/",
     "height": 468
    },
    "id": "75e7fe37",
    "outputId": "c83ebc74-30a6-4d87-cf45-68404d348f9b",
    "ExecuteTime": {
     "end_time": "2025-01-13T09:36:47.346047Z",
     "start_time": "2025-01-13T09:36:45.994461Z"
    }
   },
   "source": [
    "with graphsense.ApiClient(configuration) as clnt:\n",
    "  blkapi = bulk_api.BulkApi(api_client)\n",
    "  rcsv = blkapi.bulk_csv(\n",
    "                                 CURRENCY,\n",
    "                                 operation = \"get_entity\",\n",
    "                                 body={\n",
    "                                     'entity': respAddrDF['entity'].drop_duplicates().to_list()\n",
    "                                     },\n",
    "                                 num_pages=1,\n",
    "                                 _preload_content=False\n",
    "                                 )\n",
    "  respEntityDF = pd.read_csv(rcsv)\n",
    "\n",
    "respEntityDF[\n",
    "    [\"best_address_tag_label\",\n",
    "     \"root_address\",\n",
    "     \"no_addresses\",\n",
    "     \"balance_eur\",\n",
    "     \"total_received_eur\",\n",
    "     \"total_spent_eur\",\n",
    "     \"in_degree\",\n",
    "     \"out_degree\",\n",
    "     \"no_incoming_txs\",\n",
    "     \"no_outgoing_txs\",\n",
    "     \"first_tx_height\",\n",
    "     \"last_tx_height\"]\n",
    "     ]"
   ],
   "outputs": [
    {
     "data": {
      "text/plain": [
       "   best_address_tag_label                        root_address  no_addresses  \\\n",
       "0         Sextortion Spam  17YQspbjPuCR65TUtEDqsc37qVZKR7zuBJ             2   \n",
       "1         Sextortion Spam  12L7czMjP1P9Sd35of8jRsbgVcLmy22LQ2             4   \n",
       "2         Sextortion Spam  12VA3fnjCkJBYwgxffD138xXqFNYTWwV5w             2   \n",
       "3         Sextortion Spam  1BzkoGfrLtL59ZGjhKfvBwy47DEb6oba5f            22   \n",
       "4         Sextortion Spam  17cehgZvgasN7gi7wUHBcLqtRuJmyYpJti             4   \n",
       "..                    ...                                 ...           ...   \n",
       "91        Sextortion Spam  1GR7rJfntdcbfhKT1s33RDby4z5ex1ou4Z             4   \n",
       "92        Sextortion Spam  1DVU5Q2HQ4srFNSSaWBrVNMtL4pvBkfP5w            19   \n",
       "93        Sextortion Spam  16e6KPCPGy5RNAmsBFKKChe91PcjgLDN6o             1   \n",
       "94        Sextortion Spam   1EGMpZV7AnKKpNK9C1ziPMaQqNc9zVT4C            38   \n",
       "95        Sextortion Spam  1QFNFoWpvmxLywMFcaHT3QmwvnKHpWWgyF             1   \n",
       "\n",
       "    balance_eur  total_received_eur  total_spent_eur  in_degree  out_degree  \\\n",
       "0          0.00                1.28             1.28          1           2   \n",
       "1          0.00             1588.48          1727.12          4           1   \n",
       "2          0.00                1.31             1.32          2           1   \n",
       "3          3.04           160123.50        158363.14        255          14   \n",
       "4          0.00             7440.59          7518.55         16          10   \n",
       "..          ...                 ...              ...        ...         ...   \n",
       "91         0.00            12208.39         11790.50         24           4   \n",
       "92      4352.46            99749.96         96475.85        205          15   \n",
       "93         0.00             5958.79          5960.50         10           8   \n",
       "94         0.00            25797.67         16432.64         45           4   \n",
       "95         0.00              666.20           666.20          1           1   \n",
       "\n",
       "    no_incoming_txs  no_outgoing_txs  first_tx_height  last_tx_height  \n",
       "0                 1                1           557906          557906  \n",
       "1                 4                1           558400          564600  \n",
       "2                 2                1           557906          557906  \n",
       "3               299               13           548022          566798  \n",
       "4                16                5           545648          559739  \n",
       "..              ...              ...              ...             ...  \n",
       "91               24                4           551269          553564  \n",
       "92              250               14           547232          762446  \n",
       "93               10                4           543361          569578  \n",
       "94               47                4           547938          560647  \n",
       "95                1                1           563938          563939  \n",
       "\n",
       "[96 rows x 12 columns]"
      ],
      "text/html": [
       "<div>\n",
       "<style scoped>\n",
       "    .dataframe tbody tr th:only-of-type {\n",
       "        vertical-align: middle;\n",
       "    }\n",
       "\n",
       "    .dataframe tbody tr th {\n",
       "        vertical-align: top;\n",
       "    }\n",
       "\n",
       "    .dataframe thead th {\n",
       "        text-align: right;\n",
       "    }\n",
       "</style>\n",
       "<table border=\"1\" class=\"dataframe\">\n",
       "  <thead>\n",
       "    <tr style=\"text-align: right;\">\n",
       "      <th></th>\n",
       "      <th>best_address_tag_label</th>\n",
       "      <th>root_address</th>\n",
       "      <th>no_addresses</th>\n",
       "      <th>balance_eur</th>\n",
       "      <th>total_received_eur</th>\n",
       "      <th>total_spent_eur</th>\n",
       "      <th>in_degree</th>\n",
       "      <th>out_degree</th>\n",
       "      <th>no_incoming_txs</th>\n",
       "      <th>no_outgoing_txs</th>\n",
       "      <th>first_tx_height</th>\n",
       "      <th>last_tx_height</th>\n",
       "    </tr>\n",
       "  </thead>\n",
       "  <tbody>\n",
       "    <tr>\n",
       "      <th>0</th>\n",
       "      <td>Sextortion Spam</td>\n",
       "      <td>17YQspbjPuCR65TUtEDqsc37qVZKR7zuBJ</td>\n",
       "      <td>2</td>\n",
       "      <td>0.00</td>\n",
       "      <td>1.28</td>\n",
       "      <td>1.28</td>\n",
       "      <td>1</td>\n",
       "      <td>2</td>\n",
       "      <td>1</td>\n",
       "      <td>1</td>\n",
       "      <td>557906</td>\n",
       "      <td>557906</td>\n",
       "    </tr>\n",
       "    <tr>\n",
       "      <th>1</th>\n",
       "      <td>Sextortion Spam</td>\n",
       "      <td>12L7czMjP1P9Sd35of8jRsbgVcLmy22LQ2</td>\n",
       "      <td>4</td>\n",
       "      <td>0.00</td>\n",
       "      <td>1588.48</td>\n",
       "      <td>1727.12</td>\n",
       "      <td>4</td>\n",
       "      <td>1</td>\n",
       "      <td>4</td>\n",
       "      <td>1</td>\n",
       "      <td>558400</td>\n",
       "      <td>564600</td>\n",
       "    </tr>\n",
       "    <tr>\n",
       "      <th>2</th>\n",
       "      <td>Sextortion Spam</td>\n",
       "      <td>12VA3fnjCkJBYwgxffD138xXqFNYTWwV5w</td>\n",
       "      <td>2</td>\n",
       "      <td>0.00</td>\n",
       "      <td>1.31</td>\n",
       "      <td>1.32</td>\n",
       "      <td>2</td>\n",
       "      <td>1</td>\n",
       "      <td>2</td>\n",
       "      <td>1</td>\n",
       "      <td>557906</td>\n",
       "      <td>557906</td>\n",
       "    </tr>\n",
       "    <tr>\n",
       "      <th>3</th>\n",
       "      <td>Sextortion Spam</td>\n",
       "      <td>1BzkoGfrLtL59ZGjhKfvBwy47DEb6oba5f</td>\n",
       "      <td>22</td>\n",
       "      <td>3.04</td>\n",
       "      <td>160123.50</td>\n",
       "      <td>158363.14</td>\n",
       "      <td>255</td>\n",
       "      <td>14</td>\n",
       "      <td>299</td>\n",
       "      <td>13</td>\n",
       "      <td>548022</td>\n",
       "      <td>566798</td>\n",
       "    </tr>\n",
       "    <tr>\n",
       "      <th>4</th>\n",
       "      <td>Sextortion Spam</td>\n",
       "      <td>17cehgZvgasN7gi7wUHBcLqtRuJmyYpJti</td>\n",
       "      <td>4</td>\n",
       "      <td>0.00</td>\n",
       "      <td>7440.59</td>\n",
       "      <td>7518.55</td>\n",
       "      <td>16</td>\n",
       "      <td>10</td>\n",
       "      <td>16</td>\n",
       "      <td>5</td>\n",
       "      <td>545648</td>\n",
       "      <td>559739</td>\n",
       "    </tr>\n",
       "    <tr>\n",
       "      <th>...</th>\n",
       "      <td>...</td>\n",
       "      <td>...</td>\n",
       "      <td>...</td>\n",
       "      <td>...</td>\n",
       "      <td>...</td>\n",
       "      <td>...</td>\n",
       "      <td>...</td>\n",
       "      <td>...</td>\n",
       "      <td>...</td>\n",
       "      <td>...</td>\n",
       "      <td>...</td>\n",
       "      <td>...</td>\n",
       "    </tr>\n",
       "    <tr>\n",
       "      <th>91</th>\n",
       "      <td>Sextortion Spam</td>\n",
       "      <td>1GR7rJfntdcbfhKT1s33RDby4z5ex1ou4Z</td>\n",
       "      <td>4</td>\n",
       "      <td>0.00</td>\n",
       "      <td>12208.39</td>\n",
       "      <td>11790.50</td>\n",
       "      <td>24</td>\n",
       "      <td>4</td>\n",
       "      <td>24</td>\n",
       "      <td>4</td>\n",
       "      <td>551269</td>\n",
       "      <td>553564</td>\n",
       "    </tr>\n",
       "    <tr>\n",
       "      <th>92</th>\n",
       "      <td>Sextortion Spam</td>\n",
       "      <td>1DVU5Q2HQ4srFNSSaWBrVNMtL4pvBkfP5w</td>\n",
       "      <td>19</td>\n",
       "      <td>4352.46</td>\n",
       "      <td>99749.96</td>\n",
       "      <td>96475.85</td>\n",
       "      <td>205</td>\n",
       "      <td>15</td>\n",
       "      <td>250</td>\n",
       "      <td>14</td>\n",
       "      <td>547232</td>\n",
       "      <td>762446</td>\n",
       "    </tr>\n",
       "    <tr>\n",
       "      <th>93</th>\n",
       "      <td>Sextortion Spam</td>\n",
       "      <td>16e6KPCPGy5RNAmsBFKKChe91PcjgLDN6o</td>\n",
       "      <td>1</td>\n",
       "      <td>0.00</td>\n",
       "      <td>5958.79</td>\n",
       "      <td>5960.50</td>\n",
       "      <td>10</td>\n",
       "      <td>8</td>\n",
       "      <td>10</td>\n",
       "      <td>4</td>\n",
       "      <td>543361</td>\n",
       "      <td>569578</td>\n",
       "    </tr>\n",
       "    <tr>\n",
       "      <th>94</th>\n",
       "      <td>Sextortion Spam</td>\n",
       "      <td>1EGMpZV7AnKKpNK9C1ziPMaQqNc9zVT4C</td>\n",
       "      <td>38</td>\n",
       "      <td>0.00</td>\n",
       "      <td>25797.67</td>\n",
       "      <td>16432.64</td>\n",
       "      <td>45</td>\n",
       "      <td>4</td>\n",
       "      <td>47</td>\n",
       "      <td>4</td>\n",
       "      <td>547938</td>\n",
       "      <td>560647</td>\n",
       "    </tr>\n",
       "    <tr>\n",
       "      <th>95</th>\n",
       "      <td>Sextortion Spam</td>\n",
       "      <td>1QFNFoWpvmxLywMFcaHT3QmwvnKHpWWgyF</td>\n",
       "      <td>1</td>\n",
       "      <td>0.00</td>\n",
       "      <td>666.20</td>\n",
       "      <td>666.20</td>\n",
       "      <td>1</td>\n",
       "      <td>1</td>\n",
       "      <td>1</td>\n",
       "      <td>1</td>\n",
       "      <td>563938</td>\n",
       "      <td>563939</td>\n",
       "    </tr>\n",
       "  </tbody>\n",
       "</table>\n",
       "<p>96 rows × 12 columns</p>\n",
       "</div>"
      ]
     },
     "execution_count": 43,
     "metadata": {},
     "output_type": "execute_result"
    }
   ],
   "execution_count": 43
  }
 ],
 "metadata": {
  "colab": {
   "provenance": []
  },
  "hide_input": false,
  "kernelspec": {
   "display_name": "venv",
   "language": "python",
   "name": "python3"
  },
  "language_info": {
   "codemirror_mode": {
    "name": "ipython",
    "version": 3
   },
   "file_extension": ".py",
   "mimetype": "text/x-python",
   "name": "python",
   "nbconvert_exporter": "python",
   "pygments_lexer": "ipython3",
   "version": "3.10.16"
  }
 },
 "nbformat": 4,
 "nbformat_minor": 5
}
