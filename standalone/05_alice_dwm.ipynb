{
 "cells": [
  {
   "cell_type": "markdown",
   "id": "turned-startup",
   "metadata": {
    "ExecuteTime": {
     "end_time": "2021-03-22T08:41:40.812538Z",
     "start_time": "2021-03-22T08:41:40.809610Z"
    },
    "id": "turned-startup"
   },
   "source": [
    "# Exercise 5 - Automatically find Exchange links for DWM Query\n",
    "\n",
    "In this demo we will see how to combine DWM and Iknaio to automatically find connections to exchanges given a set of crypto addresses mentioned in some genre of darkweb sites. Our topic today is CSAM."
   ]
  },
  {
   "cell_type": "markdown",
   "id": "a38755d3",
   "metadata": {
    "id": "a38755d3"
   },
   "source": [
    "## Preparations"
   ]
  },
  {
   "cell_type": "markdown",
   "id": "a0b3e94f",
   "metadata": {
    "id": "a0b3e94f"
   },
   "source": [
    "First, we install the graphsense-python package and define an API-key. An API-key for the [GraphSense](https://graphsense.github.io/) instance hosted by [Iknaio](https://www.ikna.io/) can be requested by sending an email to [contact@iknaio.com](contact@iknaio.com)."
   ]
  },
  {
   "cell_type": "code",
   "execution_count": 3,
   "id": "68589d91",
   "metadata": {
    "colab": {
     "base_uri": "https://localhost:8080/"
    },
    "id": "68589d91",
    "outputId": "d79588b0-b573-48b8-8e07-13aa50d148cc"
   },
   "outputs": [
    {
     "name": "stdout",
     "output_type": "stream",
     "text": [
      "Requirement already satisfied: graphsense-python in /home/mf/Documents/ikna/src/tutorials/iknaio-api-tutorial/venv/lib/python3.10/site-packages (1.4.1)\n",
      "Requirement already satisfied: seaborn in /home/mf/Documents/ikna/src/tutorials/iknaio-api-tutorial/venv/lib/python3.10/site-packages (0.13.2)\n",
      "Requirement already satisfied: tqdm in /home/mf/Documents/ikna/src/tutorials/iknaio-api-tutorial/venv/lib/python3.10/site-packages (4.67.1)\n",
      "Requirement already satisfied: json-api-doc in /home/mf/Documents/ikna/src/tutorials/iknaio-api-tutorial/venv/lib/python3.10/site-packages (0.15.0)\n",
      "Requirement already satisfied: openpyxl in /home/mf/Documents/ikna/src/tutorials/iknaio-api-tutorial/venv/lib/python3.10/site-packages (3.1.5)\n",
      "Requirement already satisfied: urllib3>=1.25.3 in /home/mf/Documents/ikna/src/tutorials/iknaio-api-tutorial/venv/lib/python3.10/site-packages (from graphsense-python) (2.1.0)\n",
      "Requirement already satisfied: python-dateutil in /home/mf/Documents/ikna/src/tutorials/iknaio-api-tutorial/venv/lib/python3.10/site-packages (from graphsense-python) (2.8.2)\n",
      "Requirement already satisfied: pandas>=1.2 in /home/mf/Documents/ikna/src/tutorials/iknaio-api-tutorial/venv/lib/python3.10/site-packages (from seaborn) (2.1.4)\n",
      "Requirement already satisfied: numpy!=1.24.0,>=1.20 in /home/mf/Documents/ikna/src/tutorials/iknaio-api-tutorial/venv/lib/python3.10/site-packages (from seaborn) (1.26.2)\n",
      "Requirement already satisfied: matplotlib!=3.6.1,>=3.4 in /home/mf/Documents/ikna/src/tutorials/iknaio-api-tutorial/venv/lib/python3.10/site-packages (from seaborn) (3.10.0)\n",
      "Requirement already satisfied: et-xmlfile in /home/mf/Documents/ikna/src/tutorials/iknaio-api-tutorial/venv/lib/python3.10/site-packages (from openpyxl) (2.0.0)\n",
      "Requirement already satisfied: fonttools>=4.22.0 in /home/mf/Documents/ikna/src/tutorials/iknaio-api-tutorial/venv/lib/python3.10/site-packages (from matplotlib!=3.6.1,>=3.4->seaborn) (4.55.3)\n",
      "Requirement already satisfied: cycler>=0.10 in /home/mf/Documents/ikna/src/tutorials/iknaio-api-tutorial/venv/lib/python3.10/site-packages (from matplotlib!=3.6.1,>=3.4->seaborn) (0.12.1)\n",
      "Requirement already satisfied: pillow>=8 in /home/mf/Documents/ikna/src/tutorials/iknaio-api-tutorial/venv/lib/python3.10/site-packages (from matplotlib!=3.6.1,>=3.4->seaborn) (11.1.0)\n",
      "Requirement already satisfied: contourpy>=1.0.1 in /home/mf/Documents/ikna/src/tutorials/iknaio-api-tutorial/venv/lib/python3.10/site-packages (from matplotlib!=3.6.1,>=3.4->seaborn) (1.3.1)\n",
      "Requirement already satisfied: kiwisolver>=1.3.1 in /home/mf/Documents/ikna/src/tutorials/iknaio-api-tutorial/venv/lib/python3.10/site-packages (from matplotlib!=3.6.1,>=3.4->seaborn) (1.4.8)\n",
      "Requirement already satisfied: pyparsing>=2.3.1 in /home/mf/Documents/ikna/src/tutorials/iknaio-api-tutorial/venv/lib/python3.10/site-packages (from matplotlib!=3.6.1,>=3.4->seaborn) (3.2.1)\n",
      "Requirement already satisfied: packaging>=20.0 in /home/mf/Documents/ikna/src/tutorials/iknaio-api-tutorial/venv/lib/python3.10/site-packages (from matplotlib!=3.6.1,>=3.4->seaborn) (23.2)\n",
      "Requirement already satisfied: pytz>=2020.1 in /home/mf/Documents/ikna/src/tutorials/iknaio-api-tutorial/venv/lib/python3.10/site-packages (from pandas>=1.2->seaborn) (2023.3.post1)\n",
      "Requirement already satisfied: tzdata>=2022.1 in /home/mf/Documents/ikna/src/tutorials/iknaio-api-tutorial/venv/lib/python3.10/site-packages (from pandas>=1.2->seaborn) (2023.3)\n",
      "Requirement already satisfied: six>=1.5 in /home/mf/Documents/ikna/src/tutorials/iknaio-api-tutorial/venv/lib/python3.10/site-packages (from python-dateutil->graphsense-python) (1.16.0)\n",
      "\n",
      "\u001b[1m[\u001b[0m\u001b[34;49mnotice\u001b[0m\u001b[1;39;49m]\u001b[0m\u001b[39;49m A new release of pip available: \u001b[0m\u001b[31;49m22.3.1\u001b[0m\u001b[39;49m -> \u001b[0m\u001b[32;49m24.3.1\u001b[0m\n",
      "\u001b[1m[\u001b[0m\u001b[34;49mnotice\u001b[0m\u001b[1;39;49m]\u001b[0m\u001b[39;49m To update, run: \u001b[0m\u001b[32;49mpip install --upgrade pip\u001b[0m\n"
     ]
    }
   ],
   "source": [
    "!pip install graphsense-python seaborn tqdm json-api-doc openpyxl\n",
    "\n",
    "import graphsense\n",
    "from graphsense.api import bulk_api, general_api\n",
    "\n",
    "import json\n",
    "import requests\n",
    "import pandas as pd\n",
    "import seaborn as sns\n",
    "import matplotlib.pyplot as plt\n",
    "from datetime import datetime\n",
    "\n",
    "\n",
    "# expect some local libs \n",
    "# files can be found at (https://github.com/iknaio/iknaio-api-tutorial/tree/main/standalone)\n",
    "# in google colab they are downloaded automatically\n",
    "try:\n",
    "    from google.colab import userdata\n",
    "    libs = [\"dwm\", \"gs\"]\n",
    "    for l in libs:\n",
    "        response = requests.get(f\"https://raw.githubusercontent.com/iknaio/iknaio-api-tutorial/refs/heads/main/standalone/{l}.py\")\n",
    "        with open(f\"{l}.py\", \"w\") as f:\n",
    "            f.write(response.text)\n",
    "except ImportError:\n",
    "    pass\n",
    "\n",
    "import dwm\n",
    "import gs\n",
    "\n",
    "def ts_to_pds(ts):\n",
    "    return datetime.fromtimestamp(ts).strftime('%Y-%m-%d %H:%M:%S')\n"
   ]
  },
  {
   "cell_type": "code",
   "execution_count": 4,
   "id": "92296496",
   "metadata": {},
   "outputs": [],
   "source": [
    "try:\n",
    "    from google.colab import userdata\n",
    "    \n",
    "    # Expected structure of the file\n",
    "    secrets = {\n",
    "         \"gs-api-key\" : userdata.get('gs-api-key'),\n",
    "         \"dwm-credentials\" : {\"username\": userdata.get('dwm-credentials-username'), \"password\": userdata.get('dwm-credentials-password')}\n",
    "    }\n",
    "except ImportError:\n",
    "    with open(\"secrets.json\") as f:\n",
    "        secrets = json.load(f)\n",
    "\n",
    "# We only work with BTC in this example\n",
    "CURRENCY = 'btc'"
   ]
  },
  {
   "cell_type": "markdown",
   "id": "9d9eafb5",
   "metadata": {
    "id": "9d9eafb5"
   },
   "source": [
    "# 1. DWM - Load addresses mentioned on Darkweb sites"
   ]
  },
  {
   "cell_type": "code",
   "execution_count": 5,
   "id": "709acc64",
   "metadata": {
    "colab": {
     "base_uri": "https://localhost:8080/",
     "height": 424
    },
    "id": "709acc64",
    "outputId": "61bafa91-6ecd-4c0e-8229-1cbbe2d042a6"
   },
   "outputs": [],
   "source": [
    "# Request authentication token\n",
    "headers = dwm.authenticate_api(secrets['dwm-credentials'])"
   ]
  },
  {
   "cell_type": "markdown",
   "id": "a7a3d6c9",
   "metadata": {},
   "source": [
    "## 1.a Load domains with a specific title"
   ]
  },
  {
   "cell_type": "code",
   "execution_count": null,
   "id": "75d83c2b",
   "metadata": {},
   "outputs": [
    {
     "ename": "KeyboardInterrupt",
     "evalue": "",
     "output_type": "error",
     "traceback": [
      "\u001b[0;31m---------------------------------------------------------------------------\u001b[0m",
      "\u001b[0;31mKeyboardInterrupt\u001b[0m                         Traceback (most recent call last)",
      "Cell \u001b[0;32mIn[43], line 4\u001b[0m\n\u001b[1;32m      1\u001b[0m \u001b[38;5;66;03m# Collect domains related to title\u001b[39;00m\n\u001b[1;32m      2\u001b[0m title \u001b[38;5;241m=\u001b[39m \u001b[38;5;124m\"\u001b[39m\u001b[38;5;124mAlice with violence CP\u001b[39m\u001b[38;5;124m\"\u001b[39m\n\u001b[0;32m----> 4\u001b[0m df_domains_all \u001b[38;5;241m=\u001b[39m \u001b[43mdwm\u001b[49m\u001b[38;5;241;43m.\u001b[39;49m\u001b[43mget_domains_by_title\u001b[49m\u001b[43m(\u001b[49m\u001b[43mtitle\u001b[49m\u001b[43m,\u001b[49m\u001b[43m \u001b[49m\u001b[43mheaders\u001b[49m\u001b[43m)\u001b[49m\n\u001b[1;32m      5\u001b[0m df_domains_all[[\u001b[38;5;124m\"\u001b[39m\u001b[38;5;124mdomain_url\u001b[39m\u001b[38;5;124m\"\u001b[39m, \u001b[38;5;124m\"\u001b[39m\u001b[38;5;124mtitle\u001b[39m\u001b[38;5;124m\"\u001b[39m, \u001b[38;5;124m\"\u001b[39m\u001b[38;5;124mstatus\u001b[39m\u001b[38;5;124m\"\u001b[39m, \u001b[38;5;124m\"\u001b[39m\u001b[38;5;124mdiscovered_at\u001b[39m\u001b[38;5;124m\"\u001b[39m]]\n",
      "File \u001b[0;32m~/Documents/ikna/src/tutorials/iknaio-api-tutorial/standalone/dwm.py:74\u001b[0m, in \u001b[0;36mget_domains_by_title\u001b[0;34m(title, headers)\u001b[0m\n\u001b[1;32m     71\u001b[0m page \u001b[38;5;241m=\u001b[39m \u001b[38;5;241m1\u001b[39m\n\u001b[1;32m     72\u001b[0m \u001b[38;5;28;01mwhile\u001b[39;00m \u001b[38;5;28;01mTrue\u001b[39;00m:\n\u001b[1;32m     73\u001b[0m     \u001b[38;5;66;03m# request domains with title\u001b[39;00m\n\u001b[0;32m---> 74\u001b[0m     data, meta \u001b[38;5;241m=\u001b[39m \u001b[43msend_request\u001b[49m\u001b[43m(\u001b[49m\n\u001b[1;32m     75\u001b[0m \u001b[43m        \u001b[49m\u001b[43mendpoint\u001b[49m\u001b[38;5;241;43m=\u001b[39;49m\u001b[38;5;124;43m\"\u001b[39;49m\u001b[38;5;124;43mdarknet-domains\u001b[39;49m\u001b[38;5;124;43m\"\u001b[39;49m\u001b[43m,\u001b[49m\n\u001b[1;32m     76\u001b[0m \u001b[43m        \u001b[49m\u001b[43mheaders\u001b[49m\u001b[38;5;241;43m=\u001b[39;49m\u001b[43mheaders\u001b[49m\u001b[43m,\u001b[49m\n\u001b[1;32m     77\u001b[0m \u001b[43m        \u001b[49m\u001b[43mparams\u001b[49m\u001b[38;5;241;43m=\u001b[39;49m\u001b[43m{\u001b[49m\n\u001b[1;32m     78\u001b[0m \u001b[43m            \u001b[49m\u001b[38;5;124;43m\"\u001b[39;49m\u001b[38;5;124;43mtitle\u001b[39;49m\u001b[38;5;124;43m\"\u001b[39;49m\u001b[43m:\u001b[49m\u001b[43m \u001b[49m\u001b[43mtitle\u001b[49m\u001b[43m,\u001b[49m\n\u001b[1;32m     79\u001b[0m \u001b[43m            \u001b[49m\u001b[38;5;124;43m\"\u001b[39;49m\u001b[38;5;124;43mpage\u001b[39;49m\u001b[38;5;124;43m\"\u001b[39;49m\u001b[43m:\u001b[49m\u001b[43m \u001b[49m\u001b[43mpage\u001b[49m\u001b[43m,\u001b[49m\n\u001b[1;32m     80\u001b[0m \u001b[43m            \u001b[49m\u001b[38;5;124;43m\"\u001b[39;49m\u001b[38;5;124;43mlimit\u001b[39;49m\u001b[38;5;124;43m\"\u001b[39;49m\u001b[43m:\u001b[49m\u001b[43m \u001b[49m\u001b[38;5;241;43m1000\u001b[39;49m\u001b[43m,\u001b[49m\n\u001b[1;32m     81\u001b[0m \u001b[43m        \u001b[49m\u001b[43m}\u001b[49m\u001b[43m,\u001b[49m\n\u001b[1;32m     82\u001b[0m \u001b[43m    \u001b[49m\u001b[43m)\u001b[49m\n\u001b[1;32m     84\u001b[0m     \u001b[38;5;66;03m# add domains to domain data\u001b[39;00m\n\u001b[1;32m     85\u001b[0m     domain_data\u001b[38;5;241m.\u001b[39mextend(data)\n",
      "File \u001b[0;32m~/Documents/ikna/src/tutorials/iknaio-api-tutorial/standalone/dwm.py:45\u001b[0m, in \u001b[0;36msend_request\u001b[0;34m(endpoint, headers, params, deserialize)\u001b[0m\n\u001b[1;32m     42\u001b[0m \u001b[38;5;28;01mdef\u001b[39;00m \u001b[38;5;21msend_request\u001b[39m(\n\u001b[1;32m     43\u001b[0m     endpoint: \u001b[38;5;28mstr\u001b[39m, headers, params\u001b[38;5;241m=\u001b[39m{}, deserialize: \u001b[38;5;28mbool\u001b[39m \u001b[38;5;241m=\u001b[39m \u001b[38;5;28;01mTrue\u001b[39;00m\n\u001b[1;32m     44\u001b[0m ):\n\u001b[0;32m---> 45\u001b[0m     response \u001b[38;5;241m=\u001b[39m \u001b[43msession\u001b[49m\u001b[38;5;241;43m.\u001b[39;49m\u001b[43mget\u001b[49m\u001b[43m(\u001b[49m\n\u001b[1;32m     46\u001b[0m \u001b[43m        \u001b[49m\u001b[43murl\u001b[49m\u001b[38;5;241;43m=\u001b[39;49m\u001b[43mbase_path\u001b[49m\u001b[43m \u001b[49m\u001b[38;5;241;43m+\u001b[39;49m\u001b[43m \u001b[49m\u001b[43mendpoint\u001b[49m\u001b[43m,\u001b[49m\n\u001b[1;32m     47\u001b[0m \u001b[43m        \u001b[49m\u001b[43mheaders\u001b[49m\u001b[38;5;241;43m=\u001b[39;49m\u001b[43mheaders\u001b[49m\u001b[43m,\u001b[49m\n\u001b[1;32m     48\u001b[0m \u001b[43m        \u001b[49m\u001b[43mparams\u001b[49m\u001b[38;5;241;43m=\u001b[39;49m\u001b[43mparams\u001b[49m\u001b[43m,\u001b[49m\n\u001b[1;32m     49\u001b[0m \u001b[43m        \u001b[49m\u001b[43mtimeout\u001b[49m\u001b[38;5;241;43m=\u001b[39;49m\u001b[38;5;241;43m120\u001b[39;49m\u001b[43m,\u001b[49m\n\u001b[1;32m     50\u001b[0m \u001b[43m    \u001b[49m\u001b[43m)\u001b[49m\n\u001b[1;32m     52\u001b[0m     \u001b[38;5;66;03m# Handle Successful Requests\u001b[39;00m\n\u001b[1;32m     53\u001b[0m     \u001b[38;5;28;01mif\u001b[39;00m response\u001b[38;5;241m.\u001b[39mstatus_code \u001b[38;5;241m==\u001b[39m \u001b[38;5;241m200\u001b[39m \u001b[38;5;129;01mor\u001b[39;00m response\u001b[38;5;241m.\u001b[39mstatus_code \u001b[38;5;241m==\u001b[39m \u001b[38;5;241m201\u001b[39m:\n",
      "File \u001b[0;32m~/Documents/ikna/src/tutorials/iknaio-api-tutorial/venv/lib64/python3.10/site-packages/requests/sessions.py:602\u001b[0m, in \u001b[0;36mSession.get\u001b[0;34m(self, url, **kwargs)\u001b[0m\n\u001b[1;32m    594\u001b[0m \u001b[38;5;250m\u001b[39m\u001b[38;5;124mr\u001b[39m\u001b[38;5;124;03m\"\"\"Sends a GET request. Returns :class:`Response` object.\u001b[39;00m\n\u001b[1;32m    595\u001b[0m \n\u001b[1;32m    596\u001b[0m \u001b[38;5;124;03m:param url: URL for the new :class:`Request` object.\u001b[39;00m\n\u001b[1;32m    597\u001b[0m \u001b[38;5;124;03m:param \\*\\*kwargs: Optional arguments that ``request`` takes.\u001b[39;00m\n\u001b[1;32m    598\u001b[0m \u001b[38;5;124;03m:rtype: requests.Response\u001b[39;00m\n\u001b[1;32m    599\u001b[0m \u001b[38;5;124;03m\"\"\"\u001b[39;00m\n\u001b[1;32m    601\u001b[0m kwargs\u001b[38;5;241m.\u001b[39msetdefault(\u001b[38;5;124m\"\u001b[39m\u001b[38;5;124mallow_redirects\u001b[39m\u001b[38;5;124m\"\u001b[39m, \u001b[38;5;28;01mTrue\u001b[39;00m)\n\u001b[0;32m--> 602\u001b[0m \u001b[38;5;28;01mreturn\u001b[39;00m \u001b[38;5;28;43mself\u001b[39;49m\u001b[38;5;241;43m.\u001b[39;49m\u001b[43mrequest\u001b[49m\u001b[43m(\u001b[49m\u001b[38;5;124;43m\"\u001b[39;49m\u001b[38;5;124;43mGET\u001b[39;49m\u001b[38;5;124;43m\"\u001b[39;49m\u001b[43m,\u001b[49m\u001b[43m \u001b[49m\u001b[43murl\u001b[49m\u001b[43m,\u001b[49m\u001b[43m \u001b[49m\u001b[38;5;241;43m*\u001b[39;49m\u001b[38;5;241;43m*\u001b[39;49m\u001b[43mkwargs\u001b[49m\u001b[43m)\u001b[49m\n",
      "File \u001b[0;32m~/Documents/ikna/src/tutorials/iknaio-api-tutorial/venv/lib64/python3.10/site-packages/requests/sessions.py:589\u001b[0m, in \u001b[0;36mSession.request\u001b[0;34m(self, method, url, params, data, headers, cookies, files, auth, timeout, allow_redirects, proxies, hooks, stream, verify, cert, json)\u001b[0m\n\u001b[1;32m    584\u001b[0m send_kwargs \u001b[38;5;241m=\u001b[39m {\n\u001b[1;32m    585\u001b[0m     \u001b[38;5;124m\"\u001b[39m\u001b[38;5;124mtimeout\u001b[39m\u001b[38;5;124m\"\u001b[39m: timeout,\n\u001b[1;32m    586\u001b[0m     \u001b[38;5;124m\"\u001b[39m\u001b[38;5;124mallow_redirects\u001b[39m\u001b[38;5;124m\"\u001b[39m: allow_redirects,\n\u001b[1;32m    587\u001b[0m }\n\u001b[1;32m    588\u001b[0m send_kwargs\u001b[38;5;241m.\u001b[39mupdate(settings)\n\u001b[0;32m--> 589\u001b[0m resp \u001b[38;5;241m=\u001b[39m \u001b[38;5;28;43mself\u001b[39;49m\u001b[38;5;241;43m.\u001b[39;49m\u001b[43msend\u001b[49m\u001b[43m(\u001b[49m\u001b[43mprep\u001b[49m\u001b[43m,\u001b[49m\u001b[43m \u001b[49m\u001b[38;5;241;43m*\u001b[39;49m\u001b[38;5;241;43m*\u001b[39;49m\u001b[43msend_kwargs\u001b[49m\u001b[43m)\u001b[49m\n\u001b[1;32m    591\u001b[0m \u001b[38;5;28;01mreturn\u001b[39;00m resp\n",
      "File \u001b[0;32m~/Documents/ikna/src/tutorials/iknaio-api-tutorial/venv/lib64/python3.10/site-packages/requests/sessions.py:703\u001b[0m, in \u001b[0;36mSession.send\u001b[0;34m(self, request, **kwargs)\u001b[0m\n\u001b[1;32m    700\u001b[0m start \u001b[38;5;241m=\u001b[39m preferred_clock()\n\u001b[1;32m    702\u001b[0m \u001b[38;5;66;03m# Send the request\u001b[39;00m\n\u001b[0;32m--> 703\u001b[0m r \u001b[38;5;241m=\u001b[39m \u001b[43madapter\u001b[49m\u001b[38;5;241;43m.\u001b[39;49m\u001b[43msend\u001b[49m\u001b[43m(\u001b[49m\u001b[43mrequest\u001b[49m\u001b[43m,\u001b[49m\u001b[43m \u001b[49m\u001b[38;5;241;43m*\u001b[39;49m\u001b[38;5;241;43m*\u001b[39;49m\u001b[43mkwargs\u001b[49m\u001b[43m)\u001b[49m\n\u001b[1;32m    705\u001b[0m \u001b[38;5;66;03m# Total elapsed time of the request (approximately)\u001b[39;00m\n\u001b[1;32m    706\u001b[0m elapsed \u001b[38;5;241m=\u001b[39m preferred_clock() \u001b[38;5;241m-\u001b[39m start\n",
      "File \u001b[0;32m~/Documents/ikna/src/tutorials/iknaio-api-tutorial/venv/lib64/python3.10/site-packages/requests/adapters.py:486\u001b[0m, in \u001b[0;36mHTTPAdapter.send\u001b[0;34m(self, request, stream, timeout, verify, cert, proxies)\u001b[0m\n\u001b[1;32m    483\u001b[0m     timeout \u001b[38;5;241m=\u001b[39m TimeoutSauce(connect\u001b[38;5;241m=\u001b[39mtimeout, read\u001b[38;5;241m=\u001b[39mtimeout)\n\u001b[1;32m    485\u001b[0m \u001b[38;5;28;01mtry\u001b[39;00m:\n\u001b[0;32m--> 486\u001b[0m     resp \u001b[38;5;241m=\u001b[39m \u001b[43mconn\u001b[49m\u001b[38;5;241;43m.\u001b[39;49m\u001b[43murlopen\u001b[49m\u001b[43m(\u001b[49m\n\u001b[1;32m    487\u001b[0m \u001b[43m        \u001b[49m\u001b[43mmethod\u001b[49m\u001b[38;5;241;43m=\u001b[39;49m\u001b[43mrequest\u001b[49m\u001b[38;5;241;43m.\u001b[39;49m\u001b[43mmethod\u001b[49m\u001b[43m,\u001b[49m\n\u001b[1;32m    488\u001b[0m \u001b[43m        \u001b[49m\u001b[43murl\u001b[49m\u001b[38;5;241;43m=\u001b[39;49m\u001b[43murl\u001b[49m\u001b[43m,\u001b[49m\n\u001b[1;32m    489\u001b[0m \u001b[43m        \u001b[49m\u001b[43mbody\u001b[49m\u001b[38;5;241;43m=\u001b[39;49m\u001b[43mrequest\u001b[49m\u001b[38;5;241;43m.\u001b[39;49m\u001b[43mbody\u001b[49m\u001b[43m,\u001b[49m\n\u001b[1;32m    490\u001b[0m \u001b[43m        \u001b[49m\u001b[43mheaders\u001b[49m\u001b[38;5;241;43m=\u001b[39;49m\u001b[43mrequest\u001b[49m\u001b[38;5;241;43m.\u001b[39;49m\u001b[43mheaders\u001b[49m\u001b[43m,\u001b[49m\n\u001b[1;32m    491\u001b[0m \u001b[43m        \u001b[49m\u001b[43mredirect\u001b[49m\u001b[38;5;241;43m=\u001b[39;49m\u001b[38;5;28;43;01mFalse\u001b[39;49;00m\u001b[43m,\u001b[49m\n\u001b[1;32m    492\u001b[0m \u001b[43m        \u001b[49m\u001b[43massert_same_host\u001b[49m\u001b[38;5;241;43m=\u001b[39;49m\u001b[38;5;28;43;01mFalse\u001b[39;49;00m\u001b[43m,\u001b[49m\n\u001b[1;32m    493\u001b[0m \u001b[43m        \u001b[49m\u001b[43mpreload_content\u001b[49m\u001b[38;5;241;43m=\u001b[39;49m\u001b[38;5;28;43;01mFalse\u001b[39;49;00m\u001b[43m,\u001b[49m\n\u001b[1;32m    494\u001b[0m \u001b[43m        \u001b[49m\u001b[43mdecode_content\u001b[49m\u001b[38;5;241;43m=\u001b[39;49m\u001b[38;5;28;43;01mFalse\u001b[39;49;00m\u001b[43m,\u001b[49m\n\u001b[1;32m    495\u001b[0m \u001b[43m        \u001b[49m\u001b[43mretries\u001b[49m\u001b[38;5;241;43m=\u001b[39;49m\u001b[38;5;28;43mself\u001b[39;49m\u001b[38;5;241;43m.\u001b[39;49m\u001b[43mmax_retries\u001b[49m\u001b[43m,\u001b[49m\n\u001b[1;32m    496\u001b[0m \u001b[43m        \u001b[49m\u001b[43mtimeout\u001b[49m\u001b[38;5;241;43m=\u001b[39;49m\u001b[43mtimeout\u001b[49m\u001b[43m,\u001b[49m\n\u001b[1;32m    497\u001b[0m \u001b[43m        \u001b[49m\u001b[43mchunked\u001b[49m\u001b[38;5;241;43m=\u001b[39;49m\u001b[43mchunked\u001b[49m\u001b[43m,\u001b[49m\n\u001b[1;32m    498\u001b[0m \u001b[43m    \u001b[49m\u001b[43m)\u001b[49m\n\u001b[1;32m    500\u001b[0m \u001b[38;5;28;01mexcept\u001b[39;00m (ProtocolError, \u001b[38;5;167;01mOSError\u001b[39;00m) \u001b[38;5;28;01mas\u001b[39;00m err:\n\u001b[1;32m    501\u001b[0m     \u001b[38;5;28;01mraise\u001b[39;00m \u001b[38;5;167;01mConnectionError\u001b[39;00m(err, request\u001b[38;5;241m=\u001b[39mrequest)\n",
      "File \u001b[0;32m~/Documents/ikna/src/tutorials/iknaio-api-tutorial/venv/lib64/python3.10/site-packages/urllib3/connectionpool.py:790\u001b[0m, in \u001b[0;36mHTTPConnectionPool.urlopen\u001b[0;34m(self, method, url, body, headers, retries, redirect, assert_same_host, timeout, pool_timeout, release_conn, chunked, body_pos, preload_content, decode_content, **response_kw)\u001b[0m\n\u001b[1;32m    787\u001b[0m response_conn \u001b[38;5;241m=\u001b[39m conn \u001b[38;5;28;01mif\u001b[39;00m \u001b[38;5;129;01mnot\u001b[39;00m release_conn \u001b[38;5;28;01melse\u001b[39;00m \u001b[38;5;28;01mNone\u001b[39;00m\n\u001b[1;32m    789\u001b[0m \u001b[38;5;66;03m# Make the request on the HTTPConnection object\u001b[39;00m\n\u001b[0;32m--> 790\u001b[0m response \u001b[38;5;241m=\u001b[39m \u001b[38;5;28;43mself\u001b[39;49m\u001b[38;5;241;43m.\u001b[39;49m\u001b[43m_make_request\u001b[49m\u001b[43m(\u001b[49m\n\u001b[1;32m    791\u001b[0m \u001b[43m    \u001b[49m\u001b[43mconn\u001b[49m\u001b[43m,\u001b[49m\n\u001b[1;32m    792\u001b[0m \u001b[43m    \u001b[49m\u001b[43mmethod\u001b[49m\u001b[43m,\u001b[49m\n\u001b[1;32m    793\u001b[0m \u001b[43m    \u001b[49m\u001b[43murl\u001b[49m\u001b[43m,\u001b[49m\n\u001b[1;32m    794\u001b[0m \u001b[43m    \u001b[49m\u001b[43mtimeout\u001b[49m\u001b[38;5;241;43m=\u001b[39;49m\u001b[43mtimeout_obj\u001b[49m\u001b[43m,\u001b[49m\n\u001b[1;32m    795\u001b[0m \u001b[43m    \u001b[49m\u001b[43mbody\u001b[49m\u001b[38;5;241;43m=\u001b[39;49m\u001b[43mbody\u001b[49m\u001b[43m,\u001b[49m\n\u001b[1;32m    796\u001b[0m \u001b[43m    \u001b[49m\u001b[43mheaders\u001b[49m\u001b[38;5;241;43m=\u001b[39;49m\u001b[43mheaders\u001b[49m\u001b[43m,\u001b[49m\n\u001b[1;32m    797\u001b[0m \u001b[43m    \u001b[49m\u001b[43mchunked\u001b[49m\u001b[38;5;241;43m=\u001b[39;49m\u001b[43mchunked\u001b[49m\u001b[43m,\u001b[49m\n\u001b[1;32m    798\u001b[0m \u001b[43m    \u001b[49m\u001b[43mretries\u001b[49m\u001b[38;5;241;43m=\u001b[39;49m\u001b[43mretries\u001b[49m\u001b[43m,\u001b[49m\n\u001b[1;32m    799\u001b[0m \u001b[43m    \u001b[49m\u001b[43mresponse_conn\u001b[49m\u001b[38;5;241;43m=\u001b[39;49m\u001b[43mresponse_conn\u001b[49m\u001b[43m,\u001b[49m\n\u001b[1;32m    800\u001b[0m \u001b[43m    \u001b[49m\u001b[43mpreload_content\u001b[49m\u001b[38;5;241;43m=\u001b[39;49m\u001b[43mpreload_content\u001b[49m\u001b[43m,\u001b[49m\n\u001b[1;32m    801\u001b[0m \u001b[43m    \u001b[49m\u001b[43mdecode_content\u001b[49m\u001b[38;5;241;43m=\u001b[39;49m\u001b[43mdecode_content\u001b[49m\u001b[43m,\u001b[49m\n\u001b[1;32m    802\u001b[0m \u001b[43m    \u001b[49m\u001b[38;5;241;43m*\u001b[39;49m\u001b[38;5;241;43m*\u001b[39;49m\u001b[43mresponse_kw\u001b[49m\u001b[43m,\u001b[49m\n\u001b[1;32m    803\u001b[0m \u001b[43m\u001b[49m\u001b[43m)\u001b[49m\n\u001b[1;32m    805\u001b[0m \u001b[38;5;66;03m# Everything went great!\u001b[39;00m\n\u001b[1;32m    806\u001b[0m clean_exit \u001b[38;5;241m=\u001b[39m \u001b[38;5;28;01mTrue\u001b[39;00m\n",
      "File \u001b[0;32m~/Documents/ikna/src/tutorials/iknaio-api-tutorial/venv/lib64/python3.10/site-packages/urllib3/connectionpool.py:536\u001b[0m, in \u001b[0;36mHTTPConnectionPool._make_request\u001b[0;34m(self, conn, method, url, body, headers, retries, timeout, chunked, response_conn, preload_content, decode_content, enforce_content_length)\u001b[0m\n\u001b[1;32m    534\u001b[0m \u001b[38;5;66;03m# Receive the response from the server\u001b[39;00m\n\u001b[1;32m    535\u001b[0m \u001b[38;5;28;01mtry\u001b[39;00m:\n\u001b[0;32m--> 536\u001b[0m     response \u001b[38;5;241m=\u001b[39m \u001b[43mconn\u001b[49m\u001b[38;5;241;43m.\u001b[39;49m\u001b[43mgetresponse\u001b[49m\u001b[43m(\u001b[49m\u001b[43m)\u001b[49m\n\u001b[1;32m    537\u001b[0m \u001b[38;5;28;01mexcept\u001b[39;00m (BaseSSLError, \u001b[38;5;167;01mOSError\u001b[39;00m) \u001b[38;5;28;01mas\u001b[39;00m e:\n\u001b[1;32m    538\u001b[0m     \u001b[38;5;28mself\u001b[39m\u001b[38;5;241m.\u001b[39m_raise_timeout(err\u001b[38;5;241m=\u001b[39me, url\u001b[38;5;241m=\u001b[39murl, timeout_value\u001b[38;5;241m=\u001b[39mread_timeout)\n",
      "File \u001b[0;32m~/Documents/ikna/src/tutorials/iknaio-api-tutorial/venv/lib64/python3.10/site-packages/urllib3/connection.py:461\u001b[0m, in \u001b[0;36mHTTPConnection.getresponse\u001b[0;34m(self)\u001b[0m\n\u001b[1;32m    458\u001b[0m \u001b[38;5;28;01mfrom\u001b[39;00m \u001b[38;5;21;01m.\u001b[39;00m\u001b[38;5;21;01mresponse\u001b[39;00m \u001b[38;5;28;01mimport\u001b[39;00m HTTPResponse\n\u001b[1;32m    460\u001b[0m \u001b[38;5;66;03m# Get the response from http.client.HTTPConnection\u001b[39;00m\n\u001b[0;32m--> 461\u001b[0m httplib_response \u001b[38;5;241m=\u001b[39m \u001b[38;5;28;43msuper\u001b[39;49m\u001b[43m(\u001b[49m\u001b[43m)\u001b[49m\u001b[38;5;241;43m.\u001b[39;49m\u001b[43mgetresponse\u001b[49m\u001b[43m(\u001b[49m\u001b[43m)\u001b[49m\n\u001b[1;32m    463\u001b[0m \u001b[38;5;28;01mtry\u001b[39;00m:\n\u001b[1;32m    464\u001b[0m     assert_header_parsing(httplib_response\u001b[38;5;241m.\u001b[39mmsg)\n",
      "File \u001b[0;32m/usr/lib64/python3.10/http/client.py:1375\u001b[0m, in \u001b[0;36mHTTPConnection.getresponse\u001b[0;34m(self)\u001b[0m\n\u001b[1;32m   1373\u001b[0m \u001b[38;5;28;01mtry\u001b[39;00m:\n\u001b[1;32m   1374\u001b[0m     \u001b[38;5;28;01mtry\u001b[39;00m:\n\u001b[0;32m-> 1375\u001b[0m         \u001b[43mresponse\u001b[49m\u001b[38;5;241;43m.\u001b[39;49m\u001b[43mbegin\u001b[49m\u001b[43m(\u001b[49m\u001b[43m)\u001b[49m\n\u001b[1;32m   1376\u001b[0m     \u001b[38;5;28;01mexcept\u001b[39;00m \u001b[38;5;167;01mConnectionError\u001b[39;00m:\n\u001b[1;32m   1377\u001b[0m         \u001b[38;5;28mself\u001b[39m\u001b[38;5;241m.\u001b[39mclose()\n",
      "File \u001b[0;32m/usr/lib64/python3.10/http/client.py:318\u001b[0m, in \u001b[0;36mHTTPResponse.begin\u001b[0;34m(self)\u001b[0m\n\u001b[1;32m    316\u001b[0m \u001b[38;5;66;03m# read until we get a non-100 response\u001b[39;00m\n\u001b[1;32m    317\u001b[0m \u001b[38;5;28;01mwhile\u001b[39;00m \u001b[38;5;28;01mTrue\u001b[39;00m:\n\u001b[0;32m--> 318\u001b[0m     version, status, reason \u001b[38;5;241m=\u001b[39m \u001b[38;5;28;43mself\u001b[39;49m\u001b[38;5;241;43m.\u001b[39;49m\u001b[43m_read_status\u001b[49m\u001b[43m(\u001b[49m\u001b[43m)\u001b[49m\n\u001b[1;32m    319\u001b[0m     \u001b[38;5;28;01mif\u001b[39;00m status \u001b[38;5;241m!=\u001b[39m CONTINUE:\n\u001b[1;32m    320\u001b[0m         \u001b[38;5;28;01mbreak\u001b[39;00m\n",
      "File \u001b[0;32m/usr/lib64/python3.10/http/client.py:279\u001b[0m, in \u001b[0;36mHTTPResponse._read_status\u001b[0;34m(self)\u001b[0m\n\u001b[1;32m    278\u001b[0m \u001b[38;5;28;01mdef\u001b[39;00m \u001b[38;5;21m_read_status\u001b[39m(\u001b[38;5;28mself\u001b[39m):\n\u001b[0;32m--> 279\u001b[0m     line \u001b[38;5;241m=\u001b[39m \u001b[38;5;28mstr\u001b[39m(\u001b[38;5;28;43mself\u001b[39;49m\u001b[38;5;241;43m.\u001b[39;49m\u001b[43mfp\u001b[49m\u001b[38;5;241;43m.\u001b[39;49m\u001b[43mreadline\u001b[49m\u001b[43m(\u001b[49m\u001b[43m_MAXLINE\u001b[49m\u001b[43m \u001b[49m\u001b[38;5;241;43m+\u001b[39;49m\u001b[43m \u001b[49m\u001b[38;5;241;43m1\u001b[39;49m\u001b[43m)\u001b[49m, \u001b[38;5;124m\"\u001b[39m\u001b[38;5;124miso-8859-1\u001b[39m\u001b[38;5;124m\"\u001b[39m)\n\u001b[1;32m    280\u001b[0m     \u001b[38;5;28;01mif\u001b[39;00m \u001b[38;5;28mlen\u001b[39m(line) \u001b[38;5;241m>\u001b[39m _MAXLINE:\n\u001b[1;32m    281\u001b[0m         \u001b[38;5;28;01mraise\u001b[39;00m LineTooLong(\u001b[38;5;124m\"\u001b[39m\u001b[38;5;124mstatus line\u001b[39m\u001b[38;5;124m\"\u001b[39m)\n",
      "File \u001b[0;32m/usr/lib64/python3.10/socket.py:717\u001b[0m, in \u001b[0;36mSocketIO.readinto\u001b[0;34m(self, b)\u001b[0m\n\u001b[1;32m    715\u001b[0m \u001b[38;5;28;01mwhile\u001b[39;00m \u001b[38;5;28;01mTrue\u001b[39;00m:\n\u001b[1;32m    716\u001b[0m     \u001b[38;5;28;01mtry\u001b[39;00m:\n\u001b[0;32m--> 717\u001b[0m         \u001b[38;5;28;01mreturn\u001b[39;00m \u001b[38;5;28;43mself\u001b[39;49m\u001b[38;5;241;43m.\u001b[39;49m\u001b[43m_sock\u001b[49m\u001b[38;5;241;43m.\u001b[39;49m\u001b[43mrecv_into\u001b[49m\u001b[43m(\u001b[49m\u001b[43mb\u001b[49m\u001b[43m)\u001b[49m\n\u001b[1;32m    718\u001b[0m     \u001b[38;5;28;01mexcept\u001b[39;00m timeout:\n\u001b[1;32m    719\u001b[0m         \u001b[38;5;28mself\u001b[39m\u001b[38;5;241m.\u001b[39m_timeout_occurred \u001b[38;5;241m=\u001b[39m \u001b[38;5;28;01mTrue\u001b[39;00m\n",
      "File \u001b[0;32m/usr/lib64/python3.10/ssl.py:1307\u001b[0m, in \u001b[0;36mSSLSocket.recv_into\u001b[0;34m(self, buffer, nbytes, flags)\u001b[0m\n\u001b[1;32m   1303\u001b[0m     \u001b[38;5;28;01mif\u001b[39;00m flags \u001b[38;5;241m!=\u001b[39m \u001b[38;5;241m0\u001b[39m:\n\u001b[1;32m   1304\u001b[0m         \u001b[38;5;28;01mraise\u001b[39;00m \u001b[38;5;167;01mValueError\u001b[39;00m(\n\u001b[1;32m   1305\u001b[0m           \u001b[38;5;124m\"\u001b[39m\u001b[38;5;124mnon-zero flags not allowed in calls to recv_into() on \u001b[39m\u001b[38;5;132;01m%s\u001b[39;00m\u001b[38;5;124m\"\u001b[39m \u001b[38;5;241m%\u001b[39m\n\u001b[1;32m   1306\u001b[0m           \u001b[38;5;28mself\u001b[39m\u001b[38;5;241m.\u001b[39m\u001b[38;5;18m__class__\u001b[39m)\n\u001b[0;32m-> 1307\u001b[0m     \u001b[38;5;28;01mreturn\u001b[39;00m \u001b[38;5;28;43mself\u001b[39;49m\u001b[38;5;241;43m.\u001b[39;49m\u001b[43mread\u001b[49m\u001b[43m(\u001b[49m\u001b[43mnbytes\u001b[49m\u001b[43m,\u001b[49m\u001b[43m \u001b[49m\u001b[43mbuffer\u001b[49m\u001b[43m)\u001b[49m\n\u001b[1;32m   1308\u001b[0m \u001b[38;5;28;01melse\u001b[39;00m:\n\u001b[1;32m   1309\u001b[0m     \u001b[38;5;28;01mreturn\u001b[39;00m \u001b[38;5;28msuper\u001b[39m()\u001b[38;5;241m.\u001b[39mrecv_into(buffer, nbytes, flags)\n",
      "File \u001b[0;32m/usr/lib64/python3.10/ssl.py:1163\u001b[0m, in \u001b[0;36mSSLSocket.read\u001b[0;34m(self, len, buffer)\u001b[0m\n\u001b[1;32m   1161\u001b[0m \u001b[38;5;28;01mtry\u001b[39;00m:\n\u001b[1;32m   1162\u001b[0m     \u001b[38;5;28;01mif\u001b[39;00m buffer \u001b[38;5;129;01mis\u001b[39;00m \u001b[38;5;129;01mnot\u001b[39;00m \u001b[38;5;28;01mNone\u001b[39;00m:\n\u001b[0;32m-> 1163\u001b[0m         \u001b[38;5;28;01mreturn\u001b[39;00m \u001b[38;5;28;43mself\u001b[39;49m\u001b[38;5;241;43m.\u001b[39;49m\u001b[43m_sslobj\u001b[49m\u001b[38;5;241;43m.\u001b[39;49m\u001b[43mread\u001b[49m\u001b[43m(\u001b[49m\u001b[38;5;28;43mlen\u001b[39;49m\u001b[43m,\u001b[49m\u001b[43m \u001b[49m\u001b[43mbuffer\u001b[49m\u001b[43m)\u001b[49m\n\u001b[1;32m   1164\u001b[0m     \u001b[38;5;28;01melse\u001b[39;00m:\n\u001b[1;32m   1165\u001b[0m         \u001b[38;5;28;01mreturn\u001b[39;00m \u001b[38;5;28mself\u001b[39m\u001b[38;5;241m.\u001b[39m_sslobj\u001b[38;5;241m.\u001b[39mread(\u001b[38;5;28mlen\u001b[39m)\n",
      "\u001b[0;31mKeyboardInterrupt\u001b[0m: "
     ]
    }
   ],
   "source": [
    "# Collect domains related to title\n",
    "title = \"Alice with violence CP\"\n",
    "\n",
    "df_domains_all = dwm.get_domains_by_title(title, headers)\n",
    "df_domains_all[[\"domain_url\", \"title\", \"status\", \"discovered_at\"]].head(10)"
   ]
  },
  {
   "cell_type": "markdown",
   "id": "374e39ac",
   "metadata": {},
   "source": [
    "### Only Keep only offline domains"
   ]
  },
  {
   "cell_type": "code",
   "execution_count": 9,
   "id": "8ad87fe2",
   "metadata": {},
   "outputs": [
    {
     "name": "stdout",
     "output_type": "stream",
     "text": [
      "We have found 2383 domains with title: Alice with violence CP\n"
     ]
    }
   ],
   "source": [
    "# only keep offline domains\n",
    "# initial exploration has shown that flows from online websites all go trough service (tbdice)\n",
    "# thus are hard to trace\n",
    "df_domains = df_domains_all.query(\"status!='online'\")\n",
    "nr_domains = len(df_domains)\n",
    "print(f\"We have found {nr_domains} offline domains with title: {title}\")"
   ]
  },
  {
   "cell_type": "markdown",
   "id": "d721bf02",
   "metadata": {},
   "source": [
    "## 1.b Get crypto addresses on the domains"
   ]
  },
  {
   "cell_type": "code",
   "execution_count": null,
   "id": "392bdd85",
   "metadata": {},
   "outputs": [
    {
     "name": "stderr",
     "output_type": "stream",
     "text": [
      "Processing domains: 100%|██████████| 2383/2383 [25:15<00:00,  1.57it/s]  \n"
     ]
    }
   ],
   "source": [
    "# Caution long-running (takes up to 1h)\n",
    "df_cryptos_all = dwm.get_crypto_addresses_for_domains(df_domains, headers)\n",
    "\n",
    "df_cryptos_all.head(5)"
   ]
  },
  {
   "cell_type": "markdown",
   "id": "2ac0d49c",
   "metadata": {},
   "source": [
    "### Only keep BTC addresses"
   ]
  },
  {
   "cell_type": "code",
   "execution_count": 10,
   "id": "a4663bd7",
   "metadata": {},
   "outputs": [
    {
     "name": "stdout",
     "output_type": "stream",
     "text": [
      "We have found 37090 BTC-addresses on these domains 23626 of which are unique\n"
     ]
    }
   ],
   "source": [
    "df_cryptos = df_cryptos_all.query(f\"type=='{CURRENCY.upper()}'\")\n",
    "unique_addresses = len(df_cryptos[\"address\"].unique())\n",
    "print(f\"We have found {len(df_cryptos)} BTC-addresses on these domains {unique_addresses} of which are unique\")"
   ]
  },
  {
   "cell_type": "markdown",
   "id": "29b4942d",
   "metadata": {},
   "source": [
    "### Save results"
   ]
  },
  {
   "cell_type": "code",
   "execution_count": 11,
   "id": "65dab8fa",
   "metadata": {},
   "outputs": [],
   "source": [
    "# save output in an excel file\n",
    "with pd.ExcelWriter(\"alice_dwm.xlsx\") as writer:\n",
    "    df_domains.to_excel(writer, sheet_name=\"Domains\", index=False)\n",
    "    df_cryptos.to_excel(writer, sheet_name=\"Crypto-Assets\", index=False)\n",
    "\n",
    "# Save unique addresses in a CSV file\n",
    "df_cryptos[[\"address\"]].drop_duplicates(subset=[\"address\"]).to_csv(\"addresses.csv\")"
   ]
  },
  {
   "cell_type": "markdown",
   "id": "44a4d403",
   "metadata": {},
   "source": [
    "# 2. Iknaio - Address Usage and Finding Exitpoints"
   ]
  },
  {
   "cell_type": "code",
   "execution_count": 7,
   "id": "15d96a7c",
   "metadata": {
    "id": "15d96a7c"
   },
   "outputs": [],
   "source": [
    "configuration = graphsense.Configuration(\n",
    "    host = \"https://api.ikna.io/\",\n",
    "    api_key = {\n",
    "        'api_key': secrets[\"gs-api-key\"]\n",
    "    }\n",
    ")"
   ]
  },
  {
   "cell_type": "markdown",
   "id": "68b0c9e9",
   "metadata": {
    "id": "68b0c9e9"
   },
   "source": [
    "We can test whether or client works, by checking what data the GraphSense endpoint provides"
   ]
  },
  {
   "cell_type": "code",
   "execution_count": 8,
   "id": "15c87b84",
   "metadata": {
    "colab": {
     "base_uri": "https://localhost:8080/",
     "height": 833
    },
    "id": "15c87b84",
    "outputId": "edb09fd4-f4de-4f68-f691-a3521ea3c22f"
   },
   "outputs": [
    {
     "data": {
      "text/plain": [
       "{'btc': 879079,\n",
       " 'bch': 880846,\n",
       " 'ltc': 2826526,\n",
       " 'zec': 2784842,\n",
       " 'eth': 21615968,\n",
       " 'trx': 68635588}"
      ]
     },
     "metadata": {},
     "output_type": "display_data"
    }
   ],
   "source": [
    "with graphsense.ApiClient(configuration) as api_client:\n",
    "    api_instance = general_api.GeneralApi(api_client)\n",
    "    api_response = api_instance.get_statistics()\n",
    "    display({x['name']:x['no_blocks'] for x in api_response['currencies']})"
   ]
  },
  {
   "cell_type": "markdown",
   "id": "intended-screw",
   "metadata": {
    "id": "intended-screw"
   },
   "source": [
    "# 2.a How many of the found addresses are used?"
   ]
  },
  {
   "cell_type": "markdown",
   "id": "60546702",
   "metadata": {
    "id": "60546702"
   },
   "source": [
    "Instead of querying each address individually, we just pass the dataframe of the known addresses."
   ]
  },
  {
   "cell_type": "code",
   "execution_count": 10,
   "id": "aec6d39e",
   "metadata": {
    "colab": {
     "base_uri": "https://localhost:8080/",
     "height": 424
    },
    "id": "aec6d39e",
    "outputId": "2dcaea5b-4400-4b14-cf7c-c8f2ba2e751c"
   },
   "outputs": [],
   "source": [
    "seed_addresses = pd.read_csv(\"addresses.csv\")\n",
    "\n",
    "respAddrDF = gs.get_csv(configuration, \"get_address\", CURRENCY, {\n",
    "                    'address': seed_addresses['address'].to_list()\n",
    "                })\n",
    "\n",
    "used_addresses = respAddrDF[[\"address\", \"balance_eur\", \"total_received_eur\", \"total_spent_eur\", \"in_degree\", \"out_degree\", \"no_incoming_txs\", \"no_outgoing_txs\", \"first_tx_timestamp\", \"last_tx_timestamp\", \"entity\"]].dropna()\n",
    "used_addresses.head(5)\n",
    "used_addresses[[\"address\"]].to_csv(\"used_addresses.csv\")"
   ]
  },
  {
   "cell_type": "code",
   "execution_count": 11,
   "id": "owned-audit",
   "metadata": {
    "ExecuteTime": {
     "end_time": "2021-03-23T08:40:58.763995Z",
     "start_time": "2021-03-23T08:40:58.755781Z"
    },
    "colab": {
     "base_uri": "https://localhost:8080/"
    },
    "id": "owned-audit",
    "outputId": "c144ec8b-df6e-466f-c80e-665f9d334235"
   },
   "outputs": [
    {
     "name": "stdout",
     "output_type": "stream",
     "text": [
      "345 addresses received 32192.64 EUR, Balance 642.38 EUR\n",
      "Activity period of the addresses was: 2019-12-13 13:14:24 to 2025-01-04 22:50:09\n"
     ]
    }
   ],
   "source": [
    "print(f\"{len(used_addresses)} addresses received {sum(used_addresses['total_received_eur']):.2f} EUR, Balance {sum(used_addresses['balance_eur']):.2f} EUR\")\n",
    "print(f\"Activity period of the addresses was: {ts_to_pds(min(used_addresses['first_tx_timestamp']))} to {ts_to_pds(max(used_addresses['last_tx_timestamp']))}\")"
   ]
  },
  {
   "cell_type": "markdown",
   "id": "intended-noise",
   "metadata": {
    "id": "intended-noise"
   },
   "source": [
    "# 2.b Are there direct links to exchanges?\n",
    "\n",
    "Direct link here means without any hops in-between directly form the source address found in the darkweb."
   ]
  },
  {
   "cell_type": "code",
   "execution_count": 13,
   "id": "545a44c7",
   "metadata": {
    "colab": {
     "base_uri": "https://localhost:8080/"
    },
    "id": "545a44c7",
    "outputId": "351883a3-0356-44d9-ed9a-063a54a78323"
   },
   "outputs": [
    {
     "name": "stdout",
     "output_type": "stream",
     "text": [
      "We have found 621 outgoing neighbors, 46 are known\n"
     ]
    },
    {
     "data": {
      "text/html": [
       "<div>\n",
       "<style scoped>\n",
       "    .dataframe tbody tr th:only-of-type {\n",
       "        vertical-align: middle;\n",
       "    }\n",
       "\n",
       "    .dataframe tbody tr th {\n",
       "        vertical-align: top;\n",
       "    }\n",
       "\n",
       "    .dataframe thead th {\n",
       "        text-align: right;\n",
       "    }\n",
       "</style>\n",
       "<table border=\"1\" class=\"dataframe\">\n",
       "  <thead>\n",
       "    <tr style=\"text-align: right;\">\n",
       "      <th></th>\n",
       "      <th>_request_address</th>\n",
       "      <th>address_address</th>\n",
       "      <th>labels</th>\n",
       "    </tr>\n",
       "  </thead>\n",
       "  <tbody>\n",
       "    <tr>\n",
       "      <th>19</th>\n",
       "      <td>3FWgtSB2rfMjtP7dVUxSfb2WTTk1APVwye</td>\n",
       "      <td>3FtduGyvPXsJV3Z44MgRThoensbNopWE6Z</td>\n",
       "      <td>Dark Web</td>\n",
       "    </tr>\n",
       "    <tr>\n",
       "      <th>25</th>\n",
       "      <td>3H5kaAbBLmpXf9yqdfiZefYrChR3XAnSA1</td>\n",
       "      <td>bc1qlduqs0yax4zftfuez8frvpenlxk9gmfpmaayyr</td>\n",
       "      <td>Wasabi</td>\n",
       "    </tr>\n",
       "    <tr>\n",
       "      <th>54</th>\n",
       "      <td>3PVmuqk5xDUaMv7hV8RyBqhf1xEf9DAp1o</td>\n",
       "      <td>3FtduGyvPXsJV3Z44MgRThoensbNopWE6Z</td>\n",
       "      <td>Dark Web</td>\n",
       "    </tr>\n",
       "    <tr>\n",
       "      <th>56</th>\n",
       "      <td>3F7SA4dEy4mUY4LQK5ieQtCAwxJM8MF4Y4</td>\n",
       "      <td>3FtduGyvPXsJV3Z44MgRThoensbNopWE6Z</td>\n",
       "      <td>Dark Web</td>\n",
       "    </tr>\n",
       "    <tr>\n",
       "      <th>58</th>\n",
       "      <td>3QDpGxLhiqJCWtrH174nQsmWTaKqifRRRw</td>\n",
       "      <td>3FtduGyvPXsJV3Z44MgRThoensbNopWE6Z</td>\n",
       "      <td>Dark Web</td>\n",
       "    </tr>\n",
       "    <tr>\n",
       "      <th>89</th>\n",
       "      <td>348nRKTtfam4RVPL97TBzf6pxGjjFVpghP</td>\n",
       "      <td>3FtduGyvPXsJV3Z44MgRThoensbNopWE6Z</td>\n",
       "      <td>Dark Web</td>\n",
       "    </tr>\n",
       "    <tr>\n",
       "      <th>120</th>\n",
       "      <td>3L7S3aDjdHexMoBmAx3Pap2JfocTE5efBc</td>\n",
       "      <td>bc1qlduqs0yax4zftfuez8frvpenlxk9gmfpmaayyr</td>\n",
       "      <td>Wasabi</td>\n",
       "    </tr>\n",
       "    <tr>\n",
       "      <th>130</th>\n",
       "      <td>14smqvFY4PgMpjmAHmfg4X824bh5to6HXn</td>\n",
       "      <td>1QJcNN3TdF5yQmbbXJtuBTtoeNABRJ2hbJ</td>\n",
       "      <td>Dark Web</td>\n",
       "    </tr>\n",
       "    <tr>\n",
       "      <th>138</th>\n",
       "      <td>32wH4LfP9nWzRheH6v64XtcUMxJUyBxTyz</td>\n",
       "      <td>3FtduGyvPXsJV3Z44MgRThoensbNopWE6Z</td>\n",
       "      <td>Dark Web</td>\n",
       "    </tr>\n",
       "    <tr>\n",
       "      <th>164</th>\n",
       "      <td>1NSy21LjaF3dPGWBVX9JfxxGTMCX3YoXjj</td>\n",
       "      <td>3CTuxSTzkTayenjZQjpzru3uXwHmRjS1yT</td>\n",
       "      <td>Dark Web</td>\n",
       "    </tr>\n",
       "    <tr>\n",
       "      <th>167</th>\n",
       "      <td>3PdUZQEEhmpRvz44UB5Lcvoz66XQ5F6knZ</td>\n",
       "      <td>bc1qlduqs0yax4zftfuez8frvpenlxk9gmfpmaayyr</td>\n",
       "      <td>Wasabi</td>\n",
       "    </tr>\n",
       "    <tr>\n",
       "      <th>169</th>\n",
       "      <td>3KpAPc5yyKDjx8bm6BzcMUAPuPvxCf9yby</td>\n",
       "      <td>bc1qlduqs0yax4zftfuez8frvpenlxk9gmfpmaayyr</td>\n",
       "      <td>Wasabi</td>\n",
       "    </tr>\n",
       "    <tr>\n",
       "      <th>174</th>\n",
       "      <td>3PJrBxShw96D5s5xDy9FeEaF3ukiBMj5iz</td>\n",
       "      <td>bc1qlduqs0yax4zftfuez8frvpenlxk9gmfpmaayyr</td>\n",
       "      <td>Wasabi</td>\n",
       "    </tr>\n",
       "    <tr>\n",
       "      <th>179</th>\n",
       "      <td>15eKF32fjAE2Smdkpywg5gRbYRMGShrmzg</td>\n",
       "      <td>1LvWSNSnXmsrU7Dn74WY2CU7qUsM8STyux</td>\n",
       "      <td>Dark Web</td>\n",
       "    </tr>\n",
       "    <tr>\n",
       "      <th>186</th>\n",
       "      <td>3Cm4s3naBDELk8JUxh5s43fQ73wr1mZwB7</td>\n",
       "      <td>3FtduGyvPXsJV3Z44MgRThoensbNopWE6Z</td>\n",
       "      <td>Dark Web</td>\n",
       "    </tr>\n",
       "    <tr>\n",
       "      <th>201</th>\n",
       "      <td>3CoViGohAxzWLrMQC9LgGwRcWRhVjmtHdf</td>\n",
       "      <td>3FtduGyvPXsJV3Z44MgRThoensbNopWE6Z</td>\n",
       "      <td>Dark Web</td>\n",
       "    </tr>\n",
       "    <tr>\n",
       "      <th>221</th>\n",
       "      <td>38MFMLquUukopMs5pfxEhZRPmCEnqDUiDg</td>\n",
       "      <td>3FtduGyvPXsJV3Z44MgRThoensbNopWE6Z</td>\n",
       "      <td>Dark Web</td>\n",
       "    </tr>\n",
       "    <tr>\n",
       "      <th>238</th>\n",
       "      <td>13zAKsrTNxejFqpNxC6B6ZxPaKqVJgXayg</td>\n",
       "      <td>14pjtZxCxFJpNbnXF8bcHpPPRbaLpfjFqf</td>\n",
       "      <td>Dark Web</td>\n",
       "    </tr>\n",
       "    <tr>\n",
       "      <th>249</th>\n",
       "      <td>1BAG4rcCWdxsi8nFC82Sz1tDrbahe8UPMg</td>\n",
       "      <td>1GkUE1my2vJA2s8Ww5rLRwirhvwx2oLD24</td>\n",
       "      <td>Dark Web</td>\n",
       "    </tr>\n",
       "    <tr>\n",
       "      <th>266</th>\n",
       "      <td>14yJBevZHDcpBWWSzsfPMSN4uHXQYbQnDi</td>\n",
       "      <td>1AjNqcTgk4qgS68JMXGiHwYDPEHiJN3VSH</td>\n",
       "      <td>Dark Web</td>\n",
       "    </tr>\n",
       "    <tr>\n",
       "      <th>267</th>\n",
       "      <td>14yJBevZHDcpBWWSzsfPMSN4uHXQYbQnDi</td>\n",
       "      <td>1D3YVSRcW1oRrXbdtgKS6c5xYkqrX24S9k</td>\n",
       "      <td>Dark Web</td>\n",
       "    </tr>\n",
       "    <tr>\n",
       "      <th>270</th>\n",
       "      <td>bc1qgg36x9587cg2zh2cjkplsr8qdlrznpm9yrl74u</td>\n",
       "      <td>bc1qw3xxzl3kwl0hhl7xpnkhmnpuzj7xy30q7epuk7</td>\n",
       "      <td>Dark Web</td>\n",
       "    </tr>\n",
       "    <tr>\n",
       "      <th>292</th>\n",
       "      <td>1Fzq519zjZCqwgrs1yegwhJ5Wo6aJKGVUs</td>\n",
       "      <td>1MU5poTRknzN5abQTx8fmpnDrNjcnQ3p22</td>\n",
       "      <td>Dark Web</td>\n",
       "    </tr>\n",
       "    <tr>\n",
       "      <th>293</th>\n",
       "      <td>1Fzq519zjZCqwgrs1yegwhJ5Wo6aJKGVUs</td>\n",
       "      <td>14t49dKHDDFtEi3GS63nn3S3zgMDBhhV6f</td>\n",
       "      <td>Dark Web</td>\n",
       "    </tr>\n",
       "    <tr>\n",
       "      <th>307</th>\n",
       "      <td>bc1qwt7n66u465rfwf4gqwk20ywxlqwmrv8zkwf03s</td>\n",
       "      <td>bc1qdyvxjc502ndn4ku7544hplqfmf0h70vyw5vpxq</td>\n",
       "      <td>Binance</td>\n",
       "    </tr>\n",
       "    <tr>\n",
       "      <th>323</th>\n",
       "      <td>1A1yNs2grferxDH3ffFfReo56ZERJfJhkK</td>\n",
       "      <td>1QJcNN3TdF5yQmbbXJtuBTtoeNABRJ2hbJ</td>\n",
       "      <td>Dark Web</td>\n",
       "    </tr>\n",
       "    <tr>\n",
       "      <th>324</th>\n",
       "      <td>1A1yNs2grferxDH3ffFfReo56ZERJfJhkK</td>\n",
       "      <td>1AjNqcTgk4qgS68JMXGiHwYDPEHiJN3VSH</td>\n",
       "      <td>Dark Web</td>\n",
       "    </tr>\n",
       "    <tr>\n",
       "      <th>325</th>\n",
       "      <td>1A1yNs2grferxDH3ffFfReo56ZERJfJhkK</td>\n",
       "      <td>1EXGogFdqmhqcKo7V57UfSsBADaPYEsEqw</td>\n",
       "      <td>Dark Web</td>\n",
       "    </tr>\n",
       "    <tr>\n",
       "      <th>327</th>\n",
       "      <td>1PmqwTh14wwWET7mqmwujWK5ook93e2bD6</td>\n",
       "      <td>1FGob8526nQDxpHWgmB69JfLZnnCrZQha1</td>\n",
       "      <td>bitcoinabuse_ransomware</td>\n",
       "    </tr>\n",
       "    <tr>\n",
       "      <th>338</th>\n",
       "      <td>3681ymf82FpntQ75xubrVBsFGmkNyujc3z</td>\n",
       "      <td>3FtduGyvPXsJV3Z44MgRThoensbNopWE6Z</td>\n",
       "      <td>Dark Web</td>\n",
       "    </tr>\n",
       "    <tr>\n",
       "      <th>363</th>\n",
       "      <td>1DZME63SRmoXtdLGfY7YDw6mfXAGG8MLZk</td>\n",
       "      <td>16CR6sYEnNr4UgkAJxkzqZhaReUqRmvNsJ</td>\n",
       "      <td>Dark Web</td>\n",
       "    </tr>\n",
       "    <tr>\n",
       "      <th>364</th>\n",
       "      <td>1DZME63SRmoXtdLGfY7YDw6mfXAGG8MLZk</td>\n",
       "      <td>1JjKNuGQWf3ox3d5aH7QGx82mhyBvYGjKk</td>\n",
       "      <td>Dark Web</td>\n",
       "    </tr>\n",
       "    <tr>\n",
       "      <th>366</th>\n",
       "      <td>1NRF2Dh7QLgsiwVVupPkCZAXAey6UAqUDm</td>\n",
       "      <td>1AjNqcTgk4qgS68JMXGiHwYDPEHiJN3VSH</td>\n",
       "      <td>Dark Web</td>\n",
       "    </tr>\n",
       "    <tr>\n",
       "      <th>367</th>\n",
       "      <td>1NRF2Dh7QLgsiwVVupPkCZAXAey6UAqUDm</td>\n",
       "      <td>15MUXkETpeTXEQyGiWQBinkAgjEizBAAth</td>\n",
       "      <td>Dark Web</td>\n",
       "    </tr>\n",
       "    <tr>\n",
       "      <th>382</th>\n",
       "      <td>3AaT8CciugRh6UU3CahNvEZsnR7wDid7Qb</td>\n",
       "      <td>3FtduGyvPXsJV3Z44MgRThoensbNopWE6Z</td>\n",
       "      <td>Dark Web</td>\n",
       "    </tr>\n",
       "    <tr>\n",
       "      <th>393</th>\n",
       "      <td>1AiQPyYhM9yQhiYwDmPA9K98pqjb8wyNHy</td>\n",
       "      <td>16cYCNrJXvwA3LVTCPFkew9VCKvwbqYh7Z</td>\n",
       "      <td>Dark Web</td>\n",
       "    </tr>\n",
       "    <tr>\n",
       "      <th>394</th>\n",
       "      <td>1AiQPyYhM9yQhiYwDmPA9K98pqjb8wyNHy</td>\n",
       "      <td>1J2UUxkuB7YUgHKGHuJYCHqQQUozWnne6P</td>\n",
       "      <td>Dark Web</td>\n",
       "    </tr>\n",
       "    <tr>\n",
       "      <th>399</th>\n",
       "      <td>3DvJ5FZMD2e3tFiHFibc6dsXqkCvbzDtkf</td>\n",
       "      <td>bc1qctuyq2ydygplrtx37rr97j2yqysm564darud8m</td>\n",
       "      <td>Wasabi</td>\n",
       "    </tr>\n",
       "    <tr>\n",
       "      <th>401</th>\n",
       "      <td>3DvJ5FZMD2e3tFiHFibc6dsXqkCvbzDtkf</td>\n",
       "      <td>bc1qcc7kgdpzf77ju3c3yayn9mmsxnu5hv3ztesep6</td>\n",
       "      <td>Wasabi</td>\n",
       "    </tr>\n",
       "    <tr>\n",
       "      <th>465</th>\n",
       "      <td>13SrPjcAey7rDtShJH2BkaLzFgEBXc8A92</td>\n",
       "      <td>12r2NHAzEyyWwUPX5viRB2T7owKzFfFBL7</td>\n",
       "      <td>Dark Web</td>\n",
       "    </tr>\n",
       "    <tr>\n",
       "      <th>482</th>\n",
       "      <td>37bFkZMmCrpLXQbR6vRcb7BqF2uUErnx2p</td>\n",
       "      <td>3FtduGyvPXsJV3Z44MgRThoensbNopWE6Z</td>\n",
       "      <td>Dark Web</td>\n",
       "    </tr>\n",
       "    <tr>\n",
       "      <th>488</th>\n",
       "      <td>1Aj4SuCxVyQbgm8HgcSCCtfTs2VEB7wCDo</td>\n",
       "      <td>1HVihZUk9LVz6mScvGMmeDHcy8c1tKaCts</td>\n",
       "      <td>Dark Web</td>\n",
       "    </tr>\n",
       "    <tr>\n",
       "      <th>511</th>\n",
       "      <td>3QsijbecnQ8V72K7n1whAFwUpnS5NZjCuJ</td>\n",
       "      <td>3FtduGyvPXsJV3Z44MgRThoensbNopWE6Z</td>\n",
       "      <td>Dark Web</td>\n",
       "    </tr>\n",
       "    <tr>\n",
       "      <th>514</th>\n",
       "      <td>1c6k6fg2cvMprjANc29Qpdk46XoBX17hN</td>\n",
       "      <td>16cYCNrJXvwA3LVTCPFkew9VCKvwbqYh7Z</td>\n",
       "      <td>Dark Web</td>\n",
       "    </tr>\n",
       "    <tr>\n",
       "      <th>515</th>\n",
       "      <td>1c6k6fg2cvMprjANc29Qpdk46XoBX17hN</td>\n",
       "      <td>1MybbU68yGcFvDWV8Atj6pmNcFGxQZkmQq</td>\n",
       "      <td>Dark Web</td>\n",
       "    </tr>\n",
       "    <tr>\n",
       "      <th>516</th>\n",
       "      <td>1c6k6fg2cvMprjANc29Qpdk46XoBX17hN</td>\n",
       "      <td>1KoPHxLJiq2vGnkKnJ3Z9AhsDc5vWrthdC</td>\n",
       "      <td>Dark Web</td>\n",
       "    </tr>\n",
       "  </tbody>\n",
       "</table>\n",
       "</div>"
      ],
      "text/plain": [
       "                               _request_address  \\\n",
       "19           3FWgtSB2rfMjtP7dVUxSfb2WTTk1APVwye   \n",
       "25           3H5kaAbBLmpXf9yqdfiZefYrChR3XAnSA1   \n",
       "54           3PVmuqk5xDUaMv7hV8RyBqhf1xEf9DAp1o   \n",
       "56           3F7SA4dEy4mUY4LQK5ieQtCAwxJM8MF4Y4   \n",
       "58           3QDpGxLhiqJCWtrH174nQsmWTaKqifRRRw   \n",
       "89           348nRKTtfam4RVPL97TBzf6pxGjjFVpghP   \n",
       "120          3L7S3aDjdHexMoBmAx3Pap2JfocTE5efBc   \n",
       "130          14smqvFY4PgMpjmAHmfg4X824bh5to6HXn   \n",
       "138          32wH4LfP9nWzRheH6v64XtcUMxJUyBxTyz   \n",
       "164          1NSy21LjaF3dPGWBVX9JfxxGTMCX3YoXjj   \n",
       "167          3PdUZQEEhmpRvz44UB5Lcvoz66XQ5F6knZ   \n",
       "169          3KpAPc5yyKDjx8bm6BzcMUAPuPvxCf9yby   \n",
       "174          3PJrBxShw96D5s5xDy9FeEaF3ukiBMj5iz   \n",
       "179          15eKF32fjAE2Smdkpywg5gRbYRMGShrmzg   \n",
       "186          3Cm4s3naBDELk8JUxh5s43fQ73wr1mZwB7   \n",
       "201          3CoViGohAxzWLrMQC9LgGwRcWRhVjmtHdf   \n",
       "221          38MFMLquUukopMs5pfxEhZRPmCEnqDUiDg   \n",
       "238          13zAKsrTNxejFqpNxC6B6ZxPaKqVJgXayg   \n",
       "249          1BAG4rcCWdxsi8nFC82Sz1tDrbahe8UPMg   \n",
       "266          14yJBevZHDcpBWWSzsfPMSN4uHXQYbQnDi   \n",
       "267          14yJBevZHDcpBWWSzsfPMSN4uHXQYbQnDi   \n",
       "270  bc1qgg36x9587cg2zh2cjkplsr8qdlrznpm9yrl74u   \n",
       "292          1Fzq519zjZCqwgrs1yegwhJ5Wo6aJKGVUs   \n",
       "293          1Fzq519zjZCqwgrs1yegwhJ5Wo6aJKGVUs   \n",
       "307  bc1qwt7n66u465rfwf4gqwk20ywxlqwmrv8zkwf03s   \n",
       "323          1A1yNs2grferxDH3ffFfReo56ZERJfJhkK   \n",
       "324          1A1yNs2grferxDH3ffFfReo56ZERJfJhkK   \n",
       "325          1A1yNs2grferxDH3ffFfReo56ZERJfJhkK   \n",
       "327          1PmqwTh14wwWET7mqmwujWK5ook93e2bD6   \n",
       "338          3681ymf82FpntQ75xubrVBsFGmkNyujc3z   \n",
       "363          1DZME63SRmoXtdLGfY7YDw6mfXAGG8MLZk   \n",
       "364          1DZME63SRmoXtdLGfY7YDw6mfXAGG8MLZk   \n",
       "366          1NRF2Dh7QLgsiwVVupPkCZAXAey6UAqUDm   \n",
       "367          1NRF2Dh7QLgsiwVVupPkCZAXAey6UAqUDm   \n",
       "382          3AaT8CciugRh6UU3CahNvEZsnR7wDid7Qb   \n",
       "393          1AiQPyYhM9yQhiYwDmPA9K98pqjb8wyNHy   \n",
       "394          1AiQPyYhM9yQhiYwDmPA9K98pqjb8wyNHy   \n",
       "399          3DvJ5FZMD2e3tFiHFibc6dsXqkCvbzDtkf   \n",
       "401          3DvJ5FZMD2e3tFiHFibc6dsXqkCvbzDtkf   \n",
       "465          13SrPjcAey7rDtShJH2BkaLzFgEBXc8A92   \n",
       "482          37bFkZMmCrpLXQbR6vRcb7BqF2uUErnx2p   \n",
       "488          1Aj4SuCxVyQbgm8HgcSCCtfTs2VEB7wCDo   \n",
       "511          3QsijbecnQ8V72K7n1whAFwUpnS5NZjCuJ   \n",
       "514           1c6k6fg2cvMprjANc29Qpdk46XoBX17hN   \n",
       "515           1c6k6fg2cvMprjANc29Qpdk46XoBX17hN   \n",
       "516           1c6k6fg2cvMprjANc29Qpdk46XoBX17hN   \n",
       "\n",
       "                                address_address                   labels  \n",
       "19           3FtduGyvPXsJV3Z44MgRThoensbNopWE6Z                 Dark Web  \n",
       "25   bc1qlduqs0yax4zftfuez8frvpenlxk9gmfpmaayyr                   Wasabi  \n",
       "54           3FtduGyvPXsJV3Z44MgRThoensbNopWE6Z                 Dark Web  \n",
       "56           3FtduGyvPXsJV3Z44MgRThoensbNopWE6Z                 Dark Web  \n",
       "58           3FtduGyvPXsJV3Z44MgRThoensbNopWE6Z                 Dark Web  \n",
       "89           3FtduGyvPXsJV3Z44MgRThoensbNopWE6Z                 Dark Web  \n",
       "120  bc1qlduqs0yax4zftfuez8frvpenlxk9gmfpmaayyr                   Wasabi  \n",
       "130          1QJcNN3TdF5yQmbbXJtuBTtoeNABRJ2hbJ                 Dark Web  \n",
       "138          3FtduGyvPXsJV3Z44MgRThoensbNopWE6Z                 Dark Web  \n",
       "164          3CTuxSTzkTayenjZQjpzru3uXwHmRjS1yT                 Dark Web  \n",
       "167  bc1qlduqs0yax4zftfuez8frvpenlxk9gmfpmaayyr                   Wasabi  \n",
       "169  bc1qlduqs0yax4zftfuez8frvpenlxk9gmfpmaayyr                   Wasabi  \n",
       "174  bc1qlduqs0yax4zftfuez8frvpenlxk9gmfpmaayyr                   Wasabi  \n",
       "179          1LvWSNSnXmsrU7Dn74WY2CU7qUsM8STyux                 Dark Web  \n",
       "186          3FtduGyvPXsJV3Z44MgRThoensbNopWE6Z                 Dark Web  \n",
       "201          3FtduGyvPXsJV3Z44MgRThoensbNopWE6Z                 Dark Web  \n",
       "221          3FtduGyvPXsJV3Z44MgRThoensbNopWE6Z                 Dark Web  \n",
       "238          14pjtZxCxFJpNbnXF8bcHpPPRbaLpfjFqf                 Dark Web  \n",
       "249          1GkUE1my2vJA2s8Ww5rLRwirhvwx2oLD24                 Dark Web  \n",
       "266          1AjNqcTgk4qgS68JMXGiHwYDPEHiJN3VSH                 Dark Web  \n",
       "267          1D3YVSRcW1oRrXbdtgKS6c5xYkqrX24S9k                 Dark Web  \n",
       "270  bc1qw3xxzl3kwl0hhl7xpnkhmnpuzj7xy30q7epuk7                 Dark Web  \n",
       "292          1MU5poTRknzN5abQTx8fmpnDrNjcnQ3p22                 Dark Web  \n",
       "293          14t49dKHDDFtEi3GS63nn3S3zgMDBhhV6f                 Dark Web  \n",
       "307  bc1qdyvxjc502ndn4ku7544hplqfmf0h70vyw5vpxq                  Binance  \n",
       "323          1QJcNN3TdF5yQmbbXJtuBTtoeNABRJ2hbJ                 Dark Web  \n",
       "324          1AjNqcTgk4qgS68JMXGiHwYDPEHiJN3VSH                 Dark Web  \n",
       "325          1EXGogFdqmhqcKo7V57UfSsBADaPYEsEqw                 Dark Web  \n",
       "327          1FGob8526nQDxpHWgmB69JfLZnnCrZQha1  bitcoinabuse_ransomware  \n",
       "338          3FtduGyvPXsJV3Z44MgRThoensbNopWE6Z                 Dark Web  \n",
       "363          16CR6sYEnNr4UgkAJxkzqZhaReUqRmvNsJ                 Dark Web  \n",
       "364          1JjKNuGQWf3ox3d5aH7QGx82mhyBvYGjKk                 Dark Web  \n",
       "366          1AjNqcTgk4qgS68JMXGiHwYDPEHiJN3VSH                 Dark Web  \n",
       "367          15MUXkETpeTXEQyGiWQBinkAgjEizBAAth                 Dark Web  \n",
       "382          3FtduGyvPXsJV3Z44MgRThoensbNopWE6Z                 Dark Web  \n",
       "393          16cYCNrJXvwA3LVTCPFkew9VCKvwbqYh7Z                 Dark Web  \n",
       "394          1J2UUxkuB7YUgHKGHuJYCHqQQUozWnne6P                 Dark Web  \n",
       "399  bc1qctuyq2ydygplrtx37rr97j2yqysm564darud8m                   Wasabi  \n",
       "401  bc1qcc7kgdpzf77ju3c3yayn9mmsxnu5hv3ztesep6                   Wasabi  \n",
       "465          12r2NHAzEyyWwUPX5viRB2T7owKzFfFBL7                 Dark Web  \n",
       "482          3FtduGyvPXsJV3Z44MgRThoensbNopWE6Z                 Dark Web  \n",
       "488          1HVihZUk9LVz6mScvGMmeDHcy8c1tKaCts                 Dark Web  \n",
       "511          3FtduGyvPXsJV3Z44MgRThoensbNopWE6Z                 Dark Web  \n",
       "514          16cYCNrJXvwA3LVTCPFkew9VCKvwbqYh7Z                 Dark Web  \n",
       "515          1MybbU68yGcFvDWV8Atj6pmNcFGxQZkmQq                 Dark Web  \n",
       "516          1KoPHxLJiq2vGnkKnJ3Z9AhsDc5vWrthdC                 Dark Web  "
      ]
     },
     "execution_count": 13,
     "metadata": {},
     "output_type": "execute_result"
    }
   ],
   "source": [
    "respAddrNbrDF = gs.get_csv(configuration, \"list_address_neighbors\", CURRENCY, {\n",
    "                    'address': used_addresses['address'].to_list(),\n",
    "                    'direction': 'out',\n",
    "                    'include_labels': True\n",
    "                })\n",
    "\n",
    "with_label_direct = respAddrNbrDF.query(\"labels.notnull()\")\n",
    "\n",
    "with_outgoing_direct = respAddrNbrDF.query(\"_info != 'no data'\")\n",
    "\n",
    "print(f\"We have found {len(with_outgoing_direct)} outgoing neighbors, {len(with_label_direct)} are known\")\n",
    "\n",
    "with_label_direct[[\"_request_address\", \"address_address\", \"labels\"]]"
   ]
  },
  {
   "cell_type": "code",
   "execution_count": 44,
   "id": "26ed9090",
   "metadata": {},
   "outputs": [
    {
     "name": "stdout",
     "output_type": "stream",
     "text": [
      "https://app.ikna.io/pathfinder/btc/path/PA_bc1qwt7n66u465rfwf4gqwk20ywxlqwmrv8zkwf03s,T_d9344a24b30d9650bfaeb116f32203f732faa0205d1d42d0d0ab4dbd6be58611,HA_bc1qdyvxjc502ndn4ku7544hplqfmf0h70vyw5vpxq\n"
     ]
    }
   ],
   "source": [
    "binance_direct = gs.get_csv(configuration, \"list_address_links\", CURRENCY, {\n",
    "                    'address': [\"bc1qwt7n66u465rfwf4gqwk20ywxlqwmrv8zkwf03s\"],\n",
    "                    'neighbor': ['bc1qdyvxjc502ndn4ku7544hplqfmf0h70vyw5vpxq'],\n",
    "                })\n",
    "binance_direct\n",
    "\n",
    "for i, r in binance_direct.iterrows():\n",
    "    print(f\"https://app.ikna.io/pathfinder/{r['currency']}/path/PA_{r['_request_address']},T_{r['tx_hash']},HA_{r['_request_neighbor']}\")"
   ]
  },
  {
   "cell_type": "markdown",
   "id": "cd780afb",
   "metadata": {
    "id": "cd780afb"
   },
   "source": [
    "# 2.c Can I find links to exchange via Clusters?"
   ]
  },
  {
   "cell_type": "markdown",
   "id": "06671447",
   "metadata": {
    "id": "06671447"
   },
   "source": [
    "We now fetch the cluster for each address"
   ]
  },
  {
   "cell_type": "code",
   "execution_count": 22,
   "id": "75e7fe37",
   "metadata": {
    "colab": {
     "base_uri": "https://localhost:8080/",
     "height": 468
    },
    "id": "75e7fe37",
    "outputId": "c83ebc74-30a6-4d87-cf45-68404d348f9b"
   },
   "outputs": [
    {
     "name": "stdout",
     "output_type": "stream",
     "text": [
      "12726 new addresses have been found. In 91 clusters. They received 1378571.12 EUR, Balance 6607.20 EUR\n",
      "Activity period of the cluster addresses were: 2014-08-09 23:48:57 to 2025-01-12 13:50:05\n"
     ]
    },
    {
     "data": {
      "text/html": [
       "<div>\n",
       "<style scoped>\n",
       "    .dataframe tbody tr th:only-of-type {\n",
       "        vertical-align: middle;\n",
       "    }\n",
       "\n",
       "    .dataframe tbody tr th {\n",
       "        vertical-align: top;\n",
       "    }\n",
       "\n",
       "    .dataframe thead th {\n",
       "        text-align: right;\n",
       "    }\n",
       "</style>\n",
       "<table border=\"1\" class=\"dataframe\">\n",
       "  <thead>\n",
       "    <tr style=\"text-align: right;\">\n",
       "      <th></th>\n",
       "      <th>best_address_tag_label</th>\n",
       "      <th>root_address</th>\n",
       "      <th>no_addresses</th>\n",
       "      <th>best_address_tag_label</th>\n",
       "      <th>balance_eur</th>\n",
       "      <th>total_received_eur</th>\n",
       "      <th>total_spent_eur</th>\n",
       "      <th>first_tx_timestamp</th>\n",
       "      <th>last_tx_timestamp</th>\n",
       "    </tr>\n",
       "  </thead>\n",
       "  <tbody>\n",
       "  </tbody>\n",
       "</table>\n",
       "</div>"
      ],
      "text/plain": [
       "Empty DataFrame\n",
       "Columns: [best_address_tag_label, root_address, no_addresses, best_address_tag_label, balance_eur, total_received_eur, total_spent_eur, first_tx_timestamp, last_tx_timestamp]\n",
       "Index: []"
      ]
     },
     "execution_count": 22,
     "metadata": {},
     "output_type": "execute_result"
    }
   ],
   "source": [
    "respEntityDF = gs.get_csv(configuration, \"get_entity\", CURRENCY, {\n",
    "                                     'entity': used_addresses['entity'].drop_duplicates().to_list(),\n",
    "                                     \"exclude_best_address_tag\": True\n",
    "                                     })\n",
    "\n",
    "clusters = respEntityDF[\n",
    "    [\"best_address_tag_label\",\n",
    "     \"root_address\",\n",
    "     \"no_addresses\",\n",
    "     \"best_address_tag_label\",\n",
    "     \"balance_eur\",\n",
    "     \"total_received_eur\",\n",
    "     \"total_spent_eur\",\n",
    "     \"first_tx_timestamp\",\n",
    "     \"last_tx_timestamp\"]\n",
    "     ]\n",
    "\n",
    "print(f\"{sum(clusters['no_addresses'])-len(used_addresses)} new addresses have been found. In {len(clusters)} clusters. They received {sum(clusters['total_received_eur']):.2f} EUR, Balance {sum(clusters['balance_eur']):.2f} EUR\")\n",
    "print(f\"Activity period of the cluster addresses were: {ts_to_pds(min(clusters['first_tx_timestamp']))} to {ts_to_pds(max(clusters['last_tx_timestamp']))}\")\n",
    "clusters.query(\"best_address_tag_label.notnull()\")"
   ]
  },
  {
   "cell_type": "code",
   "execution_count": 47,
   "id": "e363537f",
   "metadata": {},
   "outputs": [
    {
     "data": {
      "text/plain": [
       "13071"
      ]
     },
     "execution_count": 47,
     "metadata": {},
     "output_type": "execute_result"
    }
   ],
   "source": [
    "respEntityDF[\"no_addresses\"].sum()"
   ]
  },
  {
   "cell_type": "code",
   "execution_count": null,
   "id": "2ddec8d0",
   "metadata": {},
   "outputs": [
    {
     "data": {
      "text/html": [
       "<div>\n",
       "<style scoped>\n",
       "    .dataframe tbody tr th:only-of-type {\n",
       "        vertical-align: middle;\n",
       "    }\n",
       "\n",
       "    .dataframe tbody tr th {\n",
       "        vertical-align: top;\n",
       "    }\n",
       "\n",
       "    .dataframe thead th {\n",
       "        text-align: right;\n",
       "    }\n",
       "</style>\n",
       "<table border=\"1\" class=\"dataframe\">\n",
       "  <thead>\n",
       "    <tr style=\"text-align: right;\">\n",
       "      <th></th>\n",
       "      <th>best_address_tag_label</th>\n",
       "      <th>root_address</th>\n",
       "      <th>no_addresses</th>\n",
       "      <th>best_address_tag_label</th>\n",
       "      <th>balance_eur</th>\n",
       "      <th>total_received_eur</th>\n",
       "      <th>total_spent_eur</th>\n",
       "      <th>first_tx_timestamp</th>\n",
       "      <th>last_tx_timestamp</th>\n",
       "    </tr>\n",
       "  </thead>\n",
       "  <tbody>\n",
       "  </tbody>\n",
       "</table>\n",
       "</div>"
      ],
      "text/plain": [
       "Empty DataFrame\n",
       "Columns: [best_address_tag_label, root_address, no_addresses, best_address_tag_label, balance_eur, total_received_eur, total_spent_eur, first_tx_timestamp, last_tx_timestamp]\n",
       "Index: []"
      ]
     },
     "execution_count": 37,
     "metadata": {},
     "output_type": "execute_result"
    }
   ],
   "source": [
    "# get nbrs of the entities of the seed addresses\n",
    "respEntityNbrs = gs.get_csv(configuration, \"list_entity_neighbors\", CURRENCY, {\n",
    "                    'entity': used_addresses['entity'].drop_duplicates().to_list(),\n",
    "                    'direction': 'out',\n",
    "                    'include_labels': True\n",
    "                })\n",
    "\n",
    "respEntityNbrs[\"_request_entity\"] = respEntityNbrs[\"_request_entity\"].apply(int)\n",
    "nbrs_id = respEntityNbrs[\"_request_entity\"].unique().tolist()\n",
    "\n",
    "# get detailed entities data with tags\n",
    "respNbrsEntitiesDF = gs.get_csv(configuration, \"get_entity\", CURRENCY, {\n",
    "                                     'entity': nbrs_id,\n",
    "                                     \"exclude_best_address_tag\": True\n",
    "                                     })\n",
    "\n",
    "clustersNbrs = respEntityDF[\n",
    "    [\"best_address_tag_label\",\n",
    "     \"root_address\",\n",
    "     \"no_addresses\",\n",
    "     \"best_address_tag_label\",\n",
    "     \"balance_eur\",\n",
    "     \"total_received_eur\",\n",
    "     \"total_spent_eur\",\n",
    "     \"first_tx_timestamp\",\n",
    "     \"last_tx_timestamp\"]\n",
    "     ]\n",
    "\n",
    "\n",
    "clustersNbrs.query(\"best_address_tag_label.notnull()\")"
   ]
  },
  {
   "cell_type": "markdown",
   "id": "c244106f",
   "metadata": {},
   "source": [
    "# 2.d What if I look at multiple hops (using QL)? Are there any exchanges?"
   ]
  },
  {
   "cell_type": "code",
   "execution_count": 41,
   "id": "88541cc9",
   "metadata": {},
   "outputs": [
    {
     "name": "stderr",
     "output_type": "stream",
     "text": [
      "Searching centralized exchange connections for addresses:  30%|██▉       | 103/345 [04:06<09:57,  2.47s/it]"
     ]
    }
   ],
   "source": [
    "import shelve\n",
    "\n",
    "addresses_used_list = used_addresses[\"address\"].to_list()\n",
    "\n",
    "with shelve.open('trace_cache.db') as cache:\n",
    "    x = gs.get_QL_results_many(addresses_used_list, CURRENCY, {\"Authorization\": secrets[\"gs-api-key\"]}, cache)\n",
    "\n",
    "relevant_traces = sorted([y for y in x if y['nr_pathes_found'] > 0], key=lambda x: x[\"pct_traced_to_exchange\"])\n",
    "\n",
    "print(f\"Found {len(relevant_traces)} paths to exchange\")\n",
    "\n",
    "gs.get_Pathfinder_link_from_ql_result(relevant_traces[0])"
   ]
  },
  {
   "cell_type": "code",
   "execution_count": 42,
   "id": "7b54731d",
   "metadata": {},
   "outputs": [
    {
     "data": {
      "text/plain": [
       "'https://app.ikna.io/pathfinder/btc/path/PA_bc1q7zu3ffsnm55ltss0r0yj5vj6z5766ngdm34ast,T_1c81da30153892bec6cbe680634d83221030800d21d4e4a539eae31667363124,HA_bc1q8gqc2fmycy3mxw3pjjkwtawlspqwgvhgxrl5s0,T_0b68df2fc7bedc5cb1fd7cd27783b5b354ee8ac5e2bbcca087686786eb6874cf,HA_bc1q2scftr55wqxjggj34hu9z9hhz3emdtejy5a04q,T_9238d83ea4ff11f7f2adc86a75c0abd4ad8eb7cc0ebcc67459ea53a9e0b72ac3,HA_bc1qns9f7yfx3ry9lj6yz7c9er0vwa0ye2eklpzqfw'"
      ]
     },
     "execution_count": 42,
     "metadata": {},
     "output_type": "execute_result"
    }
   ],
   "source": [
    "gs.get_Pathfinder_link_from_ql_result(relevant_traces[1])"
   ]
  }
 ],
 "metadata": {
  "colab": {
   "provenance": []
  },
  "hide_input": false,
  "kernelspec": {
   "display_name": "venv",
   "language": "python",
   "name": "python3"
  },
  "language_info": {
   "codemirror_mode": {
    "name": "ipython",
    "version": 3
   },
   "file_extension": ".py",
   "mimetype": "text/x-python",
   "name": "python",
   "nbconvert_exporter": "python",
   "pygments_lexer": "ipython3",
   "version": "3.10.16"
  }
 },
 "nbformat": 4,
 "nbformat_minor": 5
}
