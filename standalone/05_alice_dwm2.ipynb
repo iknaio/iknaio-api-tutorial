{
 "cells": [
  {
   "cell_type": "markdown",
   "id": "turned-startup",
   "metadata": {
    "ExecuteTime": {
     "end_time": "2021-03-22T08:41:40.812538Z",
     "start_time": "2021-03-22T08:41:40.809610Z"
    },
    "id": "turned-startup"
   },
   "source": [
    "# Exercise 5 - Automatically find Exchange links for DWM Query\n",
    "\n",
    "In this demo we will see how to combine DWM and Iknaio to automatically find connections to exchanges given a set of crypto addresses mentioned in some genre of darkweb sites. Our topic today is CP."
   ]
  },
  {
   "cell_type": "markdown",
   "id": "a38755d3",
   "metadata": {
    "id": "a38755d3"
   },
   "source": [
    "## Preparations"
   ]
  },
  {
   "cell_type": "markdown",
   "id": "a0b3e94f",
   "metadata": {
    "id": "a0b3e94f"
   },
   "source": [
    "First, we install the graphsense-python package and define an API-key. An API-key for the [GraphSense](https://graphsense.github.io/) instance hosted by [Iknaio](https://www.ikna.io/) can be requested by sending an email to [contact@iknaio.com](contact@iknaio.com)."
   ]
  },
  {
   "cell_type": "code",
   "execution_count": 57,
   "id": "68589d91",
   "metadata": {
    "colab": {
     "base_uri": "https://localhost:8080/"
    },
    "id": "68589d91",
    "outputId": "d79588b0-b573-48b8-8e07-13aa50d148cc"
   },
   "outputs": [
    {
     "name": "stdout",
     "output_type": "stream",
     "text": [
      "Requirement already satisfied: graphsense-python in /home/mf/Documents/ikna/src/tutorials/iknaio-api-tutorial/venv/lib/python3.10/site-packages (1.4.1)\n",
      "Requirement already satisfied: seaborn in /home/mf/Documents/ikna/src/tutorials/iknaio-api-tutorial/venv/lib/python3.10/site-packages (0.13.2)\n",
      "Requirement already satisfied: tqdm in /home/mf/Documents/ikna/src/tutorials/iknaio-api-tutorial/venv/lib/python3.10/site-packages (4.67.1)\n",
      "Requirement already satisfied: json-api-doc in /home/mf/Documents/ikna/src/tutorials/iknaio-api-tutorial/venv/lib/python3.10/site-packages (0.15.0)\n",
      "Requirement already satisfied: openpyxl in /home/mf/Documents/ikna/src/tutorials/iknaio-api-tutorial/venv/lib/python3.10/site-packages (3.1.5)\n",
      "Requirement already satisfied: python-dateutil in /home/mf/Documents/ikna/src/tutorials/iknaio-api-tutorial/venv/lib/python3.10/site-packages (from graphsense-python) (2.8.2)\n",
      "Requirement already satisfied: urllib3>=1.25.3 in /home/mf/Documents/ikna/src/tutorials/iknaio-api-tutorial/venv/lib/python3.10/site-packages (from graphsense-python) (2.1.0)\n",
      "Requirement already satisfied: numpy!=1.24.0,>=1.20 in /home/mf/Documents/ikna/src/tutorials/iknaio-api-tutorial/venv/lib/python3.10/site-packages (from seaborn) (1.26.2)\n",
      "Requirement already satisfied: matplotlib!=3.6.1,>=3.4 in /home/mf/Documents/ikna/src/tutorials/iknaio-api-tutorial/venv/lib/python3.10/site-packages (from seaborn) (3.10.0)\n",
      "Requirement already satisfied: pandas>=1.2 in /home/mf/Documents/ikna/src/tutorials/iknaio-api-tutorial/venv/lib/python3.10/site-packages (from seaborn) (2.1.4)\n",
      "Requirement already satisfied: et-xmlfile in /home/mf/Documents/ikna/src/tutorials/iknaio-api-tutorial/venv/lib/python3.10/site-packages (from openpyxl) (2.0.0)\n",
      "Requirement already satisfied: kiwisolver>=1.3.1 in /home/mf/Documents/ikna/src/tutorials/iknaio-api-tutorial/venv/lib/python3.10/site-packages (from matplotlib!=3.6.1,>=3.4->seaborn) (1.4.8)\n",
      "Requirement already satisfied: cycler>=0.10 in /home/mf/Documents/ikna/src/tutorials/iknaio-api-tutorial/venv/lib/python3.10/site-packages (from matplotlib!=3.6.1,>=3.4->seaborn) (0.12.1)\n",
      "Requirement already satisfied: packaging>=20.0 in /home/mf/Documents/ikna/src/tutorials/iknaio-api-tutorial/venv/lib/python3.10/site-packages (from matplotlib!=3.6.1,>=3.4->seaborn) (23.2)\n",
      "Requirement already satisfied: pillow>=8 in /home/mf/Documents/ikna/src/tutorials/iknaio-api-tutorial/venv/lib/python3.10/site-packages (from matplotlib!=3.6.1,>=3.4->seaborn) (11.1.0)\n",
      "Requirement already satisfied: fonttools>=4.22.0 in /home/mf/Documents/ikna/src/tutorials/iknaio-api-tutorial/venv/lib/python3.10/site-packages (from matplotlib!=3.6.1,>=3.4->seaborn) (4.55.3)\n",
      "Requirement already satisfied: pyparsing>=2.3.1 in /home/mf/Documents/ikna/src/tutorials/iknaio-api-tutorial/venv/lib/python3.10/site-packages (from matplotlib!=3.6.1,>=3.4->seaborn) (3.2.1)\n",
      "Requirement already satisfied: contourpy>=1.0.1 in /home/mf/Documents/ikna/src/tutorials/iknaio-api-tutorial/venv/lib/python3.10/site-packages (from matplotlib!=3.6.1,>=3.4->seaborn) (1.3.1)\n",
      "Requirement already satisfied: tzdata>=2022.1 in /home/mf/Documents/ikna/src/tutorials/iknaio-api-tutorial/venv/lib/python3.10/site-packages (from pandas>=1.2->seaborn) (2023.3)\n",
      "Requirement already satisfied: pytz>=2020.1 in /home/mf/Documents/ikna/src/tutorials/iknaio-api-tutorial/venv/lib/python3.10/site-packages (from pandas>=1.2->seaborn) (2023.3.post1)\n",
      "Requirement already satisfied: six>=1.5 in /home/mf/Documents/ikna/src/tutorials/iknaio-api-tutorial/venv/lib/python3.10/site-packages (from python-dateutil->graphsense-python) (1.16.0)\n",
      "\n",
      "\u001b[1m[\u001b[0m\u001b[34;49mnotice\u001b[0m\u001b[1;39;49m]\u001b[0m\u001b[39;49m A new release of pip available: \u001b[0m\u001b[31;49m22.3.1\u001b[0m\u001b[39;49m -> \u001b[0m\u001b[32;49m24.3.1\u001b[0m\n",
      "\u001b[1m[\u001b[0m\u001b[34;49mnotice\u001b[0m\u001b[1;39;49m]\u001b[0m\u001b[39;49m To update, run: \u001b[0m\u001b[32;49mpip install --upgrade pip\u001b[0m\n"
     ]
    }
   ],
   "source": [
    "!pip install graphsense-python seaborn tqdm json-api-doc openpyxl\n",
    "\n",
    "import graphsense\n",
    "from graphsense.api import bulk_api, general_api\n",
    "\n",
    "import json\n",
    "import pandas as pd\n",
    "import seaborn as sns\n",
    "import matplotlib.pyplot as plt\n",
    "from datetime import datetime\n",
    "\n",
    "# Request the HTML for this web page:\n",
    "# response = requests.get(\"https://stackoverflow.com/questions/31126596/saving-response-from-requests-to-file\")\n",
    "# with open(\"dwm.py\", \"w\") as f:\n",
    "#     f.write(response.text)\n",
    "\n",
    "import dwm\n",
    "\n",
    "def ts_to_pds(ts):\n",
    "    return datetime.fromtimestamp(ts).strftime('%Y-%m-%d %H:%M:%S')\n"
   ]
  },
  {
   "cell_type": "code",
   "execution_count": 2,
   "id": "92296496",
   "metadata": {},
   "outputs": [],
   "source": [
    "# secrets = {\n",
    "#     \"gs-api-key\" : \"\",\n",
    "#     \"dwm-credentials\" : {\"username\": \"somename@somedomain.io\", \"password\": \"\"}\n",
    "# }\n",
    "with open(\"secrets.json\") as f:\n",
    "    secrets = json.load(f)"
   ]
  },
  {
   "cell_type": "markdown",
   "id": "9d9eafb5",
   "metadata": {
    "id": "9d9eafb5"
   },
   "source": [
    "# 1. Load Starting Addresses from DWM"
   ]
  },
  {
   "cell_type": "code",
   "execution_count": 3,
   "id": "709acc64",
   "metadata": {
    "colab": {
     "base_uri": "https://localhost:8080/",
     "height": 424
    },
    "id": "709acc64",
    "outputId": "61bafa91-6ecd-4c0e-8229-1cbbe2d042a6"
   },
   "outputs": [],
   "source": [
    "# Request authentication token\n",
    "headers = dwm.authenticate_api(secrets['dwm-credentials'])"
   ]
  },
  {
   "cell_type": "markdown",
   "id": "a7a3d6c9",
   "metadata": {},
   "source": [
    "## Load Domains"
   ]
  },
  {
   "cell_type": "code",
   "execution_count": 4,
   "id": "75d83c2b",
   "metadata": {},
   "outputs": [
    {
     "name": "stdout",
     "output_type": "stream",
     "text": [
      "Processed 1 out of 3 pages\n",
      "Processed 2 out of 3 pages\n",
      "Processed 3 out of 3 pages\n"
     ]
    },
    {
     "data": {
      "text/html": [
       "<div>\n",
       "<style scoped>\n",
       "    .dataframe tbody tr th:only-of-type {\n",
       "        vertical-align: middle;\n",
       "    }\n",
       "\n",
       "    .dataframe tbody tr th {\n",
       "        vertical-align: top;\n",
       "    }\n",
       "\n",
       "    .dataframe thead th {\n",
       "        text-align: right;\n",
       "    }\n",
       "</style>\n",
       "<table border=\"1\" class=\"dataframe\">\n",
       "  <thead>\n",
       "    <tr style=\"text-align: right;\">\n",
       "      <th></th>\n",
       "      <th>type</th>\n",
       "      <th>id</th>\n",
       "      <th>domain_url</th>\n",
       "      <th>title</th>\n",
       "      <th>status</th>\n",
       "      <th>uptime</th>\n",
       "      <th>page_count</th>\n",
       "      <th>clearnet_cohost_count</th>\n",
       "      <th>darknet_cohost_count</th>\n",
       "      <th>inbound_count</th>\n",
       "      <th>outbound_count</th>\n",
       "      <th>discovered_at</th>\n",
       "    </tr>\n",
       "  </thead>\n",
       "  <tbody>\n",
       "    <tr>\n",
       "      <th>0</th>\n",
       "      <td>torv3</td>\n",
       "      <td>15979412</td>\n",
       "      <td>http://x5w2vdx4lmvha27xjgnnnceudiqd6f3gjuegadu...</td>\n",
       "      <td>Alice with violence CP</td>\n",
       "      <td>online</td>\n",
       "      <td>93</td>\n",
       "      <td>4</td>\n",
       "      <td>0</td>\n",
       "      <td>0</td>\n",
       "      <td>2</td>\n",
       "      <td>0</td>\n",
       "      <td>2024-10-29T20:28:53.000Z</td>\n",
       "    </tr>\n",
       "    <tr>\n",
       "      <th>1</th>\n",
       "      <td>torv3</td>\n",
       "      <td>15979413</td>\n",
       "      <td>http://x5cj2bvcxngjohqi7hpkf67fqbqg7wkptcqa2sa...</td>\n",
       "      <td>Alice with violence CP</td>\n",
       "      <td>online</td>\n",
       "      <td>96</td>\n",
       "      <td>4</td>\n",
       "      <td>0</td>\n",
       "      <td>0</td>\n",
       "      <td>2</td>\n",
       "      <td>0</td>\n",
       "      <td>2024-10-29T20:28:53.000Z</td>\n",
       "    </tr>\n",
       "    <tr>\n",
       "      <th>2</th>\n",
       "      <td>torv3</td>\n",
       "      <td>15979414</td>\n",
       "      <td>http://vvniruuxyborklcc3i7s5mlerjuysw2rwrd6svr...</td>\n",
       "      <td>Alice with violence CP</td>\n",
       "      <td>online</td>\n",
       "      <td>94</td>\n",
       "      <td>4</td>\n",
       "      <td>0</td>\n",
       "      <td>0</td>\n",
       "      <td>1</td>\n",
       "      <td>0</td>\n",
       "      <td>2024-10-29T20:28:53.000Z</td>\n",
       "    </tr>\n",
       "    <tr>\n",
       "      <th>3</th>\n",
       "      <td>torv3</td>\n",
       "      <td>15979415</td>\n",
       "      <td>http://bv34z4lb4mr7djs7y7y62db6pocnmwoa7suxs4o...</td>\n",
       "      <td>Alice with violence CP</td>\n",
       "      <td>online</td>\n",
       "      <td>98</td>\n",
       "      <td>4</td>\n",
       "      <td>0</td>\n",
       "      <td>0</td>\n",
       "      <td>1</td>\n",
       "      <td>0</td>\n",
       "      <td>2024-10-29T20:28:53.000Z</td>\n",
       "    </tr>\n",
       "    <tr>\n",
       "      <th>4</th>\n",
       "      <td>torv3</td>\n",
       "      <td>15979416</td>\n",
       "      <td>http://bzuk5hv4r2z3n3asimysuxzwctm75eq3fzcd2ah...</td>\n",
       "      <td>Alice with violence CP</td>\n",
       "      <td>online</td>\n",
       "      <td>99</td>\n",
       "      <td>4</td>\n",
       "      <td>0</td>\n",
       "      <td>0</td>\n",
       "      <td>1</td>\n",
       "      <td>0</td>\n",
       "      <td>2024-10-29T20:28:53.000Z</td>\n",
       "    </tr>\n",
       "    <tr>\n",
       "      <th>...</th>\n",
       "      <td>...</td>\n",
       "      <td>...</td>\n",
       "      <td>...</td>\n",
       "      <td>...</td>\n",
       "      <td>...</td>\n",
       "      <td>...</td>\n",
       "      <td>...</td>\n",
       "      <td>...</td>\n",
       "      <td>...</td>\n",
       "      <td>...</td>\n",
       "      <td>...</td>\n",
       "      <td>...</td>\n",
       "    </tr>\n",
       "    <tr>\n",
       "      <th>2378</th>\n",
       "      <td>torv2</td>\n",
       "      <td>213940</td>\n",
       "      <td>http://ai4gvgc3syetwn4q.onion</td>\n",
       "      <td>Alice with violence CP</td>\n",
       "      <td>offline</td>\n",
       "      <td>83</td>\n",
       "      <td>4</td>\n",
       "      <td>0</td>\n",
       "      <td>0</td>\n",
       "      <td>4</td>\n",
       "      <td>0</td>\n",
       "      <td>2020-03-31T19:20:52.000Z</td>\n",
       "    </tr>\n",
       "    <tr>\n",
       "      <th>2379</th>\n",
       "      <td>torv2</td>\n",
       "      <td>213884</td>\n",
       "      <td>http://4cw2nl4jpeaekp2x.onion</td>\n",
       "      <td>Alice with violence CP</td>\n",
       "      <td>offline</td>\n",
       "      <td>83</td>\n",
       "      <td>4</td>\n",
       "      <td>0</td>\n",
       "      <td>0</td>\n",
       "      <td>4</td>\n",
       "      <td>0</td>\n",
       "      <td>2020-03-31T19:19:16.000Z</td>\n",
       "    </tr>\n",
       "    <tr>\n",
       "      <th>2380</th>\n",
       "      <td>torv3</td>\n",
       "      <td>206429</td>\n",
       "      <td>http://c5u4kpqwzbns7ikojebppox22mic44ewokk2mxl...</td>\n",
       "      <td>Alice with violence CP</td>\n",
       "      <td>offline</td>\n",
       "      <td>79</td>\n",
       "      <td>3</td>\n",
       "      <td>0</td>\n",
       "      <td>0</td>\n",
       "      <td>34</td>\n",
       "      <td>0</td>\n",
       "      <td>2020-03-13T01:57:51.000Z</td>\n",
       "    </tr>\n",
       "    <tr>\n",
       "      <th>2381</th>\n",
       "      <td>torv2</td>\n",
       "      <td>171377</td>\n",
       "      <td>http://yt33fue5lk4j7bks.onion</td>\n",
       "      <td>Alice with violence CP</td>\n",
       "      <td>offline</td>\n",
       "      <td>5</td>\n",
       "      <td>3</td>\n",
       "      <td>0</td>\n",
       "      <td>0</td>\n",
       "      <td>0</td>\n",
       "      <td>0</td>\n",
       "      <td>2020-02-04T09:18:26.000Z</td>\n",
       "    </tr>\n",
       "    <tr>\n",
       "      <th>2382</th>\n",
       "      <td>torv3</td>\n",
       "      <td>164529</td>\n",
       "      <td>http://4jzuktlmy5536aq2nmafp2uf6jwj33msjeyuopv...</td>\n",
       "      <td>Alice with violence CP</td>\n",
       "      <td>offline</td>\n",
       "      <td>84</td>\n",
       "      <td>3</td>\n",
       "      <td>0</td>\n",
       "      <td>0</td>\n",
       "      <td>112</td>\n",
       "      <td>0</td>\n",
       "      <td>2020-01-27T02:33:06.000Z</td>\n",
       "    </tr>\n",
       "  </tbody>\n",
       "</table>\n",
       "<p>2383 rows × 12 columns</p>\n",
       "</div>"
      ],
      "text/plain": [
       "       type        id                                         domain_url  \\\n",
       "0     torv3  15979412  http://x5w2vdx4lmvha27xjgnnnceudiqd6f3gjuegadu...   \n",
       "1     torv3  15979413  http://x5cj2bvcxngjohqi7hpkf67fqbqg7wkptcqa2sa...   \n",
       "2     torv3  15979414  http://vvniruuxyborklcc3i7s5mlerjuysw2rwrd6svr...   \n",
       "3     torv3  15979415  http://bv34z4lb4mr7djs7y7y62db6pocnmwoa7suxs4o...   \n",
       "4     torv3  15979416  http://bzuk5hv4r2z3n3asimysuxzwctm75eq3fzcd2ah...   \n",
       "...     ...       ...                                                ...   \n",
       "2378  torv2    213940                      http://ai4gvgc3syetwn4q.onion   \n",
       "2379  torv2    213884                      http://4cw2nl4jpeaekp2x.onion   \n",
       "2380  torv3    206429  http://c5u4kpqwzbns7ikojebppox22mic44ewokk2mxl...   \n",
       "2381  torv2    171377                      http://yt33fue5lk4j7bks.onion   \n",
       "2382  torv3    164529  http://4jzuktlmy5536aq2nmafp2uf6jwj33msjeyuopv...   \n",
       "\n",
       "                       title   status  uptime  page_count  \\\n",
       "0     Alice with violence CP   online      93           4   \n",
       "1     Alice with violence CP   online      96           4   \n",
       "2     Alice with violence CP   online      94           4   \n",
       "3     Alice with violence CP   online      98           4   \n",
       "4     Alice with violence CP   online      99           4   \n",
       "...                      ...      ...     ...         ...   \n",
       "2378  Alice with violence CP  offline      83           4   \n",
       "2379  Alice with violence CP  offline      83           4   \n",
       "2380  Alice with violence CP  offline      79           3   \n",
       "2381  Alice with violence CP  offline       5           3   \n",
       "2382  Alice with violence CP  offline      84           3   \n",
       "\n",
       "      clearnet_cohost_count  darknet_cohost_count  inbound_count  \\\n",
       "0                         0                     0              2   \n",
       "1                         0                     0              2   \n",
       "2                         0                     0              1   \n",
       "3                         0                     0              1   \n",
       "4                         0                     0              1   \n",
       "...                     ...                   ...            ...   \n",
       "2378                      0                     0              4   \n",
       "2379                      0                     0              4   \n",
       "2380                      0                     0             34   \n",
       "2381                      0                     0              0   \n",
       "2382                      0                     0            112   \n",
       "\n",
       "      outbound_count             discovered_at  \n",
       "0                  0  2024-10-29T20:28:53.000Z  \n",
       "1                  0  2024-10-29T20:28:53.000Z  \n",
       "2                  0  2024-10-29T20:28:53.000Z  \n",
       "3                  0  2024-10-29T20:28:53.000Z  \n",
       "4                  0  2024-10-29T20:28:53.000Z  \n",
       "...              ...                       ...  \n",
       "2378               0  2020-03-31T19:20:52.000Z  \n",
       "2379               0  2020-03-31T19:19:16.000Z  \n",
       "2380               0  2020-03-13T01:57:51.000Z  \n",
       "2381               0  2020-02-04T09:18:26.000Z  \n",
       "2382               0  2020-01-27T02:33:06.000Z  \n",
       "\n",
       "[2383 rows x 12 columns]"
      ]
     },
     "execution_count": 4,
     "metadata": {},
     "output_type": "execute_result"
    }
   ],
   "source": [
    "# Collect domains related to title\n",
    "title = \"Alice with violence CP\"\n",
    "\n",
    "df_domains_all = dwm.get_domains_by_title(title, headers)\n",
    "df_domains_all"
   ]
  },
  {
   "cell_type": "markdown",
   "id": "374e39ac",
   "metadata": {},
   "source": [
    "### Only Keep Online Domains"
   ]
  },
  {
   "cell_type": "code",
   "execution_count": 14,
   "id": "8ad87fe2",
   "metadata": {},
   "outputs": [
    {
     "name": "stdout",
     "output_type": "stream",
     "text": [
      "We have found 590 online domains with title: Alice with violence CP\n"
     ]
    }
   ],
   "source": [
    "# only keep online domains\n",
    "df_domains = df_domains_all.query(\"status=='online'\")\n",
    "nr_domains = len(df_domains)\n",
    "print(f\"We have found {nr_domains} online domains with title: {title}\")"
   ]
  },
  {
   "cell_type": "markdown",
   "id": "d721bf02",
   "metadata": {},
   "source": [
    "## Get Crypto Addresses on the Domains"
   ]
  },
  {
   "cell_type": "code",
   "execution_count": 6,
   "id": "392bdd85",
   "metadata": {},
   "outputs": [
    {
     "name": "stderr",
     "output_type": "stream",
     "text": [
      "Processing domains: 100%|██████████| 590/590 [05:17<00:00,  1.86it/s]\n"
     ]
    }
   ],
   "source": [
    "df_cryptos_all = dwm.get_crypto_addresses_for_domains(df_domains, headers)"
   ]
  },
  {
   "cell_type": "markdown",
   "id": "2ac0d49c",
   "metadata": {},
   "source": [
    "### Only Keep BTC"
   ]
  },
  {
   "cell_type": "code",
   "execution_count": 17,
   "id": "a4663bd7",
   "metadata": {},
   "outputs": [
    {
     "name": "stdout",
     "output_type": "stream",
     "text": [
      "We have found 8483 addresses on these domains 6226 of which are unique\n"
     ]
    }
   ],
   "source": [
    "df_cryptos = df_cryptos_all.query(\"type=='BTC'\")\n",
    "unique_addresses = len(df_cryptos[\"address\"].unique())\n",
    "print(f\"We have found {len(df_cryptos)} addresses on these domains {unique_addresses} of which are unique\")"
   ]
  },
  {
   "cell_type": "code",
   "execution_count": 49,
   "id": "65dab8fa",
   "metadata": {},
   "outputs": [],
   "source": [
    "# save output in an excel file\n",
    "with pd.ExcelWriter(\"alice_dwm.xlsx\") as writer:\n",
    "    df_domains.to_excel(writer, sheet_name=\"Domains\", index=False)\n",
    "    df_cryptos.to_excel(writer, sheet_name=\"Crypto-Assets\", index=False)\n",
    "\n",
    "# Save unique addresses in a CSV file\n",
    "df_cryptos[[\"address\"]].drop_duplicates(subset=[\"address\"]).to_csv(\"addresses.csv\")"
   ]
  },
  {
   "cell_type": "markdown",
   "id": "44a4d403",
   "metadata": {},
   "source": [
    "# 2. Finding Exchanges with Iknaio"
   ]
  },
  {
   "cell_type": "code",
   "execution_count": 23,
   "id": "15d96a7c",
   "metadata": {
    "id": "15d96a7c"
   },
   "outputs": [],
   "source": [
    "configuration = graphsense.Configuration(\n",
    "    host = \"https://api.ikna.io/\",\n",
    "    api_key = {\n",
    "        'api_key': secrets[\"gs-api-key\"]\n",
    "    }\n",
    ")"
   ]
  },
  {
   "cell_type": "markdown",
   "id": "43bcf76e",
   "metadata": {
    "id": "43bcf76e"
   },
   "source": [
    "GraphSense supports Bitcoin-like UTXO and Ethereum-like Account-Model ledgers. Iknaio currently hosts BTC, LTC, BCH, ZEC, and ETH.\n",
    "\n",
    "We are investigating Bitcoin transactions, therefore we set the default currency to Bitcoin **BTC**."
   ]
  },
  {
   "cell_type": "code",
   "execution_count": 24,
   "id": "54da1436",
   "metadata": {
    "id": "54da1436"
   },
   "outputs": [],
   "source": [
    "CURRENCY = 'btc'"
   ]
  },
  {
   "cell_type": "markdown",
   "id": "68b0c9e9",
   "metadata": {
    "id": "68b0c9e9"
   },
   "source": [
    "We can test whether or client works, by checking what data the GraphSense endpoint provides"
   ]
  },
  {
   "cell_type": "code",
   "execution_count": 25,
   "id": "15c87b84",
   "metadata": {
    "colab": {
     "base_uri": "https://localhost:8080/",
     "height": 833
    },
    "id": "15c87b84",
    "outputId": "edb09fd4-f4de-4f68-f691-a3521ea3c22f"
   },
   "outputs": [
    {
     "data": {
      "text/plain": [
       "{'btc': 879056,\n",
       " 'bch': 880818,\n",
       " 'ltc': 2826418,\n",
       " 'zec': 2784600,\n",
       " 'eth': 21614477,\n",
       " 'trx': 68627653}"
      ]
     },
     "metadata": {},
     "output_type": "display_data"
    }
   ],
   "source": [
    "with graphsense.ApiClient(configuration) as api_client:\n",
    "    api_instance = general_api.GeneralApi(api_client)\n",
    "    api_response = api_instance.get_statistics()\n",
    "    display({x['name']:x['no_blocks'] for x in api_response['currencies']})"
   ]
  },
  {
   "cell_type": "markdown",
   "id": "intended-screw",
   "metadata": {
    "id": "intended-screw"
   },
   "source": [
    "# Q1. How many of the addresses are used?"
   ]
  },
  {
   "cell_type": "markdown",
   "id": "60546702",
   "metadata": {
    "id": "60546702"
   },
   "source": [
    "Instead of querying each address individually, we just pass the dataframe of the known addresses."
   ]
  },
  {
   "cell_type": "code",
   "execution_count": 79,
   "id": "aec6d39e",
   "metadata": {
    "colab": {
     "base_uri": "https://localhost:8080/",
     "height": 424
    },
    "id": "aec6d39e",
    "outputId": "2dcaea5b-4400-4b14-cf7c-c8f2ba2e751c"
   },
   "outputs": [
    {
     "data": {
      "text/html": [
       "<div>\n",
       "<style scoped>\n",
       "    .dataframe tbody tr th:only-of-type {\n",
       "        vertical-align: middle;\n",
       "    }\n",
       "\n",
       "    .dataframe tbody tr th {\n",
       "        vertical-align: top;\n",
       "    }\n",
       "\n",
       "    .dataframe thead th {\n",
       "        text-align: right;\n",
       "    }\n",
       "</style>\n",
       "<table border=\"1\" class=\"dataframe\">\n",
       "  <thead>\n",
       "    <tr style=\"text-align: right;\">\n",
       "      <th></th>\n",
       "      <th>address</th>\n",
       "      <th>balance_eur</th>\n",
       "      <th>total_received_eur</th>\n",
       "      <th>total_spent_eur</th>\n",
       "      <th>in_degree</th>\n",
       "      <th>out_degree</th>\n",
       "      <th>no_incoming_txs</th>\n",
       "      <th>no_outgoing_txs</th>\n",
       "      <th>first_tx_timestamp</th>\n",
       "      <th>last_tx_timestamp</th>\n",
       "      <th>entity</th>\n",
       "    </tr>\n",
       "  </thead>\n",
       "  <tbody>\n",
       "    <tr>\n",
       "      <th>6173</th>\n",
       "      <td>3BHqn4f41ee6Rhb7mXTsoL65BmyBsqjcRL</td>\n",
       "      <td>34.07</td>\n",
       "      <td>35.18</td>\n",
       "      <td>0.00</td>\n",
       "      <td>1.0</td>\n",
       "      <td>0.0</td>\n",
       "      <td>1.0</td>\n",
       "      <td>0.0</td>\n",
       "      <td>1.735207e+09</td>\n",
       "      <td>1.735207e+09</td>\n",
       "      <td>1.357103e+09</td>\n",
       "    </tr>\n",
       "    <tr>\n",
       "      <th>6174</th>\n",
       "      <td>3MnjbkxCdkTYgZD3BkWbC8JA38sGS374To</td>\n",
       "      <td>37.70</td>\n",
       "      <td>38.56</td>\n",
       "      <td>0.00</td>\n",
       "      <td>1.0</td>\n",
       "      <td>0.0</td>\n",
       "      <td>1.0</td>\n",
       "      <td>0.0</td>\n",
       "      <td>1.736027e+09</td>\n",
       "      <td>1.736027e+09</td>\n",
       "      <td>1.360100e+09</td>\n",
       "    </tr>\n",
       "    <tr>\n",
       "      <th>6175</th>\n",
       "      <td>3Ettx8jZGs1AK7WLs48sSEcjX1nz5EoeLt</td>\n",
       "      <td>33.10</td>\n",
       "      <td>33.07</td>\n",
       "      <td>0.00</td>\n",
       "      <td>1.0</td>\n",
       "      <td>0.0</td>\n",
       "      <td>1.0</td>\n",
       "      <td>0.0</td>\n",
       "      <td>1.733043e+09</td>\n",
       "      <td>1.733043e+09</td>\n",
       "      <td>1.348621e+09</td>\n",
       "    </tr>\n",
       "    <tr>\n",
       "      <th>6176</th>\n",
       "      <td>3CmTgpAcgGU8XwzX7Sqowrj2AA2chLajCK</td>\n",
       "      <td>52.41</td>\n",
       "      <td>31.39</td>\n",
       "      <td>0.00</td>\n",
       "      <td>1.0</td>\n",
       "      <td>0.0</td>\n",
       "      <td>1.0</td>\n",
       "      <td>0.0</td>\n",
       "      <td>1.728061e+09</td>\n",
       "      <td>1.728061e+09</td>\n",
       "      <td>1.330405e+09</td>\n",
       "    </tr>\n",
       "    <tr>\n",
       "      <th>6177</th>\n",
       "      <td>3DKx1zDQw3F7zz5Gwo7G9qbrikSmWjvqHP</td>\n",
       "      <td>0.00</td>\n",
       "      <td>0.27</td>\n",
       "      <td>0.27</td>\n",
       "      <td>1.0</td>\n",
       "      <td>1.0</td>\n",
       "      <td>1.0</td>\n",
       "      <td>1.0</td>\n",
       "      <td>1.689982e+09</td>\n",
       "      <td>1.690897e+09</td>\n",
       "      <td>1.142124e+09</td>\n",
       "    </tr>\n",
       "  </tbody>\n",
       "</table>\n",
       "</div>"
      ],
      "text/plain": [
       "                                 address  balance_eur  total_received_eur  \\\n",
       "6173  3BHqn4f41ee6Rhb7mXTsoL65BmyBsqjcRL        34.07               35.18   \n",
       "6174  3MnjbkxCdkTYgZD3BkWbC8JA38sGS374To        37.70               38.56   \n",
       "6175  3Ettx8jZGs1AK7WLs48sSEcjX1nz5EoeLt        33.10               33.07   \n",
       "6176  3CmTgpAcgGU8XwzX7Sqowrj2AA2chLajCK        52.41               31.39   \n",
       "6177  3DKx1zDQw3F7zz5Gwo7G9qbrikSmWjvqHP         0.00                0.27   \n",
       "\n",
       "      total_spent_eur  in_degree  out_degree  no_incoming_txs  \\\n",
       "6173             0.00        1.0         0.0              1.0   \n",
       "6174             0.00        1.0         0.0              1.0   \n",
       "6175             0.00        1.0         0.0              1.0   \n",
       "6176             0.00        1.0         0.0              1.0   \n",
       "6177             0.27        1.0         1.0              1.0   \n",
       "\n",
       "      no_outgoing_txs  first_tx_timestamp  last_tx_timestamp        entity  \n",
       "6173              0.0        1.735207e+09       1.735207e+09  1.357103e+09  \n",
       "6174              0.0        1.736027e+09       1.736027e+09  1.360100e+09  \n",
       "6175              0.0        1.733043e+09       1.733043e+09  1.348621e+09  \n",
       "6176              0.0        1.728061e+09       1.728061e+09  1.330405e+09  \n",
       "6177              1.0        1.689982e+09       1.690897e+09  1.142124e+09  "
      ]
     },
     "execution_count": 79,
     "metadata": {},
     "output_type": "execute_result"
    }
   ],
   "source": [
    "seed_addresses = pd.read_csv(\"addresses.csv\")\n",
    "\n",
    "with graphsense.ApiClient(configuration) as clnt:\n",
    "    blkapi = bulk_api.BulkApi(clnt)\n",
    "\n",
    "    # documentation about available bulk operations can be found\n",
    "    # here https://api.ikna.io/#/bulk/bulk_csv\n",
    "    rcsv = blkapi.bulk_csv(\n",
    "                CURRENCY,\n",
    "                operation=\"get_address\",\n",
    "                body={\n",
    "                    'address': seed_addresses['address'].to_list()\n",
    "                },\n",
    "                num_pages=1,\n",
    "                _preload_content=False\n",
    "              )\n",
    "    respAddrDF = pd.read_csv(rcsv)\n",
    "\n",
    "used_addresses = respAddrDF[[\"address\", \"balance_eur\", \"total_received_eur\", \"total_spent_eur\", \"in_degree\", \"out_degree\", \"no_incoming_txs\", \"no_outgoing_txs\", \"first_tx_timestamp\", \"last_tx_timestamp\", \"entity\"]].dropna()\n",
    "used_addresses.head(5)"
   ]
  },
  {
   "cell_type": "code",
   "execution_count": 80,
   "id": "owned-audit",
   "metadata": {
    "ExecuteTime": {
     "end_time": "2021-03-23T08:40:58.763995Z",
     "start_time": "2021-03-23T08:40:58.755781Z"
    },
    "colab": {
     "base_uri": "https://localhost:8080/"
    },
    "id": "owned-audit",
    "outputId": "c144ec8b-df6e-466f-c80e-665f9d334235"
   },
   "outputs": [
    {
     "name": "stdout",
     "output_type": "stream",
     "text": [
      "53 addresses received 10044.19 EUR, Balance 546.49\n",
      "Activity period of the addresses was: 2020-10-26 06:29:13 to 2025-01-04 22:50:09\n"
     ]
    }
   ],
   "source": [
    "print(f\"{len(used_addresses)} addresses received {sum(used_addresses['total_received_eur']):.2f} EUR, Balance {sum(used_addresses['balance_eur']):.2f} EUR\")\n",
    "print(f\"Activity period of the addresses was: {ts_to_pds(min(used_addresses['first_tx_timestamp']))} to {ts_to_pds(max(used_addresses['last_tx_timestamp']))}\")"
   ]
  },
  {
   "cell_type": "markdown",
   "id": "intended-noise",
   "metadata": {
    "id": "intended-noise"
   },
   "source": [
    "# Q2: Are there direct links to exchanges?"
   ]
  },
  {
   "cell_type": "code",
   "execution_count": 81,
   "id": "545a44c7",
   "metadata": {
    "colab": {
     "base_uri": "https://localhost:8080/"
    },
    "id": "545a44c7",
    "outputId": "351883a3-0356-44d9-ed9a-063a54a78323"
   },
   "outputs": [
    {
     "name": "stdout",
     "output_type": "stream",
     "text": [
      "We have found 126 outgoing neighbors, 0 are known\n"
     ]
    }
   ],
   "source": [
    "with graphsense.ApiClient(configuration) as clnt:\n",
    "    blkapi = bulk_api.BulkApi(clnt)\n",
    "\n",
    "    # documentation about available bulk operations can be found\n",
    "    # here https://api.ikna.io/#/bulk/bulk_csv\n",
    "    rcsv = blkapi.bulk_csv(\n",
    "                CURRENCY,\n",
    "                operation=\"list_address_neighbors\",\n",
    "                body={\n",
    "                    'address': used_addresses['address'].to_list(),\n",
    "                    'direction': 'out',\n",
    "                    'include_labels': True\n",
    "                },\n",
    "                num_pages=1,\n",
    "                _preload_content=False\n",
    "              )\n",
    "    respAddrDF = pd.read_csv(rcsv)\n",
    "\n",
    "with_label = respAddrDF.query(\"labels.notnull()\")\n",
    "\n",
    "with_outgoing = respAddrDF.query(\"_info != 'no data'\")\n",
    "\n",
    "print(f\"We have found {len(with_outgoing)} outgoing neighbors, {len(with_label)} are known\")"
   ]
  },
  {
   "cell_type": "markdown",
   "id": "cd780afb",
   "metadata": {
    "id": "cd780afb"
   },
   "source": [
    "# Q3: Can I find connections via using Clusters?"
   ]
  },
  {
   "cell_type": "markdown",
   "id": "06671447",
   "metadata": {
    "id": "06671447"
   },
   "source": [
    "We now fetch summary statistics for each entity."
   ]
  },
  {
   "cell_type": "code",
   "execution_count": 87,
   "id": "75e7fe37",
   "metadata": {
    "colab": {
     "base_uri": "https://localhost:8080/",
     "height": 468
    },
    "id": "75e7fe37",
    "outputId": "c83ebc74-30a6-4d87-cf45-68404d348f9b"
   },
   "outputs": [
    {
     "name": "stdout",
     "output_type": "stream",
     "text": [
      "4640 new addresses have been found. They received 543251.10 EUR, Balance 3370.23 EUR\n",
      "Activity period of the cluster addresses were: 2014-08-09 23:48:57 to 2025-01-12 13:50:05\n"
     ]
    },
    {
     "data": {
      "text/html": [
       "<div>\n",
       "<style scoped>\n",
       "    .dataframe tbody tr th:only-of-type {\n",
       "        vertical-align: middle;\n",
       "    }\n",
       "\n",
       "    .dataframe tbody tr th {\n",
       "        vertical-align: top;\n",
       "    }\n",
       "\n",
       "    .dataframe thead th {\n",
       "        text-align: right;\n",
       "    }\n",
       "</style>\n",
       "<table border=\"1\" class=\"dataframe\">\n",
       "  <thead>\n",
       "    <tr style=\"text-align: right;\">\n",
       "      <th></th>\n",
       "      <th>best_address_tag_label</th>\n",
       "      <th>root_address</th>\n",
       "      <th>no_addresses</th>\n",
       "      <th>balance_eur</th>\n",
       "      <th>total_received_eur</th>\n",
       "      <th>total_spent_eur</th>\n",
       "      <th>first_tx_timestamp</th>\n",
       "      <th>last_tx_timestamp</th>\n",
       "    </tr>\n",
       "  </thead>\n",
       "  <tbody>\n",
       "    <tr>\n",
       "      <th>1</th>\n",
       "      <td>Dark Web</td>\n",
       "      <td>3MnjbkxCdkTYgZD3BkWbC8JA38sGS374To</td>\n",
       "      <td>1</td>\n",
       "      <td>37.70</td>\n",
       "      <td>38.56</td>\n",
       "      <td>0.00</td>\n",
       "      <td>1736027409</td>\n",
       "      <td>1736027409</td>\n",
       "    </tr>\n",
       "    <tr>\n",
       "      <th>2</th>\n",
       "      <td>Dark Web</td>\n",
       "      <td>3BRfy6BnyFb5XEdzCGrhjbqwMK71egoRDu</td>\n",
       "      <td>1</td>\n",
       "      <td>0.94</td>\n",
       "      <td>0.95</td>\n",
       "      <td>0.00</td>\n",
       "      <td>1732533419</td>\n",
       "      <td>1732533419</td>\n",
       "    </tr>\n",
       "    <tr>\n",
       "      <th>4</th>\n",
       "      <td>Dark Web</td>\n",
       "      <td>3CmTgpAcgGU8XwzX7Sqowrj2AA2chLajCK</td>\n",
       "      <td>1</td>\n",
       "      <td>52.41</td>\n",
       "      <td>31.39</td>\n",
       "      <td>0.00</td>\n",
       "      <td>1728060509</td>\n",
       "      <td>1728060509</td>\n",
       "    </tr>\n",
       "    <tr>\n",
       "      <th>7</th>\n",
       "      <td>Dark Web</td>\n",
       "      <td>3E2YaXkyp3uxSRVLqwx81mveAowHGEWSQw</td>\n",
       "      <td>1</td>\n",
       "      <td>53.33</td>\n",
       "      <td>31.87</td>\n",
       "      <td>0.00</td>\n",
       "      <td>1727915708</td>\n",
       "      <td>1727915708</td>\n",
       "    </tr>\n",
       "    <tr>\n",
       "      <th>12</th>\n",
       "      <td>Dark Web</td>\n",
       "      <td>3NV97tRYA74egEFfMen9JD7JzbM5U8hjYc</td>\n",
       "      <td>1</td>\n",
       "      <td>30.34</td>\n",
       "      <td>31.86</td>\n",
       "      <td>0.00</td>\n",
       "      <td>1734306315</td>\n",
       "      <td>1734306315</td>\n",
       "    </tr>\n",
       "    <tr>\n",
       "      <th>13</th>\n",
       "      <td>Dark Web</td>\n",
       "      <td>3BHqn4f41ee6Rhb7mXTsoL65BmyBsqjcRL</td>\n",
       "      <td>1</td>\n",
       "      <td>34.07</td>\n",
       "      <td>35.18</td>\n",
       "      <td>0.00</td>\n",
       "      <td>1735206829</td>\n",
       "      <td>1735206829</td>\n",
       "    </tr>\n",
       "    <tr>\n",
       "      <th>16</th>\n",
       "      <td>Dark Web</td>\n",
       "      <td>3EC9u8Jz9RzFAfinDBttDjfHnNiq3c8cPi</td>\n",
       "      <td>1</td>\n",
       "      <td>59.02</td>\n",
       "      <td>35.34</td>\n",
       "      <td>0.00</td>\n",
       "      <td>1728079448</td>\n",
       "      <td>1728079448</td>\n",
       "    </tr>\n",
       "    <tr>\n",
       "      <th>17</th>\n",
       "      <td>Dark Web</td>\n",
       "      <td>3BPtjKVvFhsFfBu4R5NAHWcqtsQJ1yVZqF</td>\n",
       "      <td>1</td>\n",
       "      <td>48.09</td>\n",
       "      <td>242.54</td>\n",
       "      <td>315.33</td>\n",
       "      <td>1697853167</td>\n",
       "      <td>1735528705</td>\n",
       "    </tr>\n",
       "    <tr>\n",
       "      <th>20</th>\n",
       "      <td>Dark Web</td>\n",
       "      <td>3Ettx8jZGs1AK7WLs48sSEcjX1nz5EoeLt</td>\n",
       "      <td>1</td>\n",
       "      <td>33.10</td>\n",
       "      <td>33.07</td>\n",
       "      <td>0.00</td>\n",
       "      <td>1733043388</td>\n",
       "      <td>1733043388</td>\n",
       "    </tr>\n",
       "    <tr>\n",
       "      <th>25</th>\n",
       "      <td>Dark Web</td>\n",
       "      <td>37MVTJ315tNA1fcEUiGDBkrkyvPLxyrqsT</td>\n",
       "      <td>1</td>\n",
       "      <td>42.29</td>\n",
       "      <td>32.45</td>\n",
       "      <td>0.00</td>\n",
       "      <td>1731084774</td>\n",
       "      <td>1731084774</td>\n",
       "    </tr>\n",
       "    <tr>\n",
       "      <th>27</th>\n",
       "      <td>Dark Web</td>\n",
       "      <td>3M9CNsfsK6ZU3FeT9tQo6zc54ZSnzHZW6V</td>\n",
       "      <td>1</td>\n",
       "      <td>29.24</td>\n",
       "      <td>19.54</td>\n",
       "      <td>0.00</td>\n",
       "      <td>1729087346</td>\n",
       "      <td>1729087346</td>\n",
       "    </tr>\n",
       "    <tr>\n",
       "      <th>28</th>\n",
       "      <td>Dark Web</td>\n",
       "      <td>3GRWJQZM4GGcdchDj91Zzc138X8kvuXFws</td>\n",
       "      <td>1</td>\n",
       "      <td>33.10</td>\n",
       "      <td>33.62</td>\n",
       "      <td>0.00</td>\n",
       "      <td>1732498468</td>\n",
       "      <td>1732498468</td>\n",
       "    </tr>\n",
       "    <tr>\n",
       "      <th>30</th>\n",
       "      <td>Dark Web</td>\n",
       "      <td>39Z9THdYa9fmqLfK1ooxnFf7vbpGviNjDe</td>\n",
       "      <td>1</td>\n",
       "      <td>51.49</td>\n",
       "      <td>30.82</td>\n",
       "      <td>0.00</td>\n",
       "      <td>1728676685</td>\n",
       "      <td>1728676685</td>\n",
       "    </tr>\n",
       "  </tbody>\n",
       "</table>\n",
       "</div>"
      ],
      "text/plain": [
       "   best_address_tag_label                        root_address  no_addresses  \\\n",
       "1                Dark Web  3MnjbkxCdkTYgZD3BkWbC8JA38sGS374To             1   \n",
       "2                Dark Web  3BRfy6BnyFb5XEdzCGrhjbqwMK71egoRDu             1   \n",
       "4                Dark Web  3CmTgpAcgGU8XwzX7Sqowrj2AA2chLajCK             1   \n",
       "7                Dark Web  3E2YaXkyp3uxSRVLqwx81mveAowHGEWSQw             1   \n",
       "12               Dark Web  3NV97tRYA74egEFfMen9JD7JzbM5U8hjYc             1   \n",
       "13               Dark Web  3BHqn4f41ee6Rhb7mXTsoL65BmyBsqjcRL             1   \n",
       "16               Dark Web  3EC9u8Jz9RzFAfinDBttDjfHnNiq3c8cPi             1   \n",
       "17               Dark Web  3BPtjKVvFhsFfBu4R5NAHWcqtsQJ1yVZqF             1   \n",
       "20               Dark Web  3Ettx8jZGs1AK7WLs48sSEcjX1nz5EoeLt             1   \n",
       "25               Dark Web  37MVTJ315tNA1fcEUiGDBkrkyvPLxyrqsT             1   \n",
       "27               Dark Web  3M9CNsfsK6ZU3FeT9tQo6zc54ZSnzHZW6V             1   \n",
       "28               Dark Web  3GRWJQZM4GGcdchDj91Zzc138X8kvuXFws             1   \n",
       "30               Dark Web  39Z9THdYa9fmqLfK1ooxnFf7vbpGviNjDe             1   \n",
       "\n",
       "    balance_eur  total_received_eur  total_spent_eur  first_tx_timestamp  \\\n",
       "1         37.70               38.56             0.00          1736027409   \n",
       "2          0.94                0.95             0.00          1732533419   \n",
       "4         52.41               31.39             0.00          1728060509   \n",
       "7         53.33               31.87             0.00          1727915708   \n",
       "12        30.34               31.86             0.00          1734306315   \n",
       "13        34.07               35.18             0.00          1735206829   \n",
       "16        59.02               35.34             0.00          1728079448   \n",
       "17        48.09              242.54           315.33          1697853167   \n",
       "20        33.10               33.07             0.00          1733043388   \n",
       "25        42.29               32.45             0.00          1731084774   \n",
       "27        29.24               19.54             0.00          1729087346   \n",
       "28        33.10               33.62             0.00          1732498468   \n",
       "30        51.49               30.82             0.00          1728676685   \n",
       "\n",
       "    last_tx_timestamp  \n",
       "1          1736027409  \n",
       "2          1732533419  \n",
       "4          1728060509  \n",
       "7          1727915708  \n",
       "12         1734306315  \n",
       "13         1735206829  \n",
       "16         1728079448  \n",
       "17         1735528705  \n",
       "20         1733043388  \n",
       "25         1731084774  \n",
       "27         1729087346  \n",
       "28         1732498468  \n",
       "30         1728676685  "
      ]
     },
     "execution_count": 87,
     "metadata": {},
     "output_type": "execute_result"
    }
   ],
   "source": [
    "with graphsense.ApiClient(configuration) as clnt:\n",
    "  blkapi = bulk_api.BulkApi(api_client)\n",
    "  rcsv = blkapi.bulk_csv(\n",
    "                                 CURRENCY,\n",
    "                                 operation = \"get_entity\",\n",
    "                                 body={\n",
    "                                     'entity': used_addresses['entity'].drop_duplicates().to_list()\n",
    "                                     },\n",
    "                                 num_pages=1,\n",
    "                                 _preload_content=False\n",
    "                                 )\n",
    "  respEntityDF = pd.read_csv(rcsv)\n",
    "\n",
    "clusters = respEntityDF[\n",
    "    [\"best_address_tag_label\",\n",
    "     \"root_address\",\n",
    "     \"no_addresses\",\n",
    "     \"balance_eur\",\n",
    "     \"total_received_eur\",\n",
    "     \"total_spent_eur\",\n",
    "     \"first_tx_timestamp\",\n",
    "     \"last_tx_timestamp\"]\n",
    "     ]\n",
    "\n",
    "print(f\"{sum(clusters['no_addresses'])-len(used_addresses)} new addresses have been found. They received {sum(clusters['total_received_eur']):.2f} EUR, Balance {sum(clusters['balance_eur']):.2f} EUR\")\n",
    "print(f\"Activity period of the cluster addresses were: {ts_to_pds(min(clusters['first_tx_timestamp']))} to {ts_to_pds(max(clusters['last_tx_timestamp']))}\")\n",
    "clusters.query(\"best_address_tag_label.notnull()\")"
   ]
  },
  {
   "cell_type": "markdown",
   "id": "c244106f",
   "metadata": {},
   "source": [
    "# Q4: What if I look at multiple hops? Are there any exchanges?"
   ]
  },
  {
   "cell_type": "code",
   "execution_count": null,
   "id": "88541cc9",
   "metadata": {},
   "outputs": [],
   "source": []
  }
 ],
 "metadata": {
  "colab": {
   "provenance": []
  },
  "hide_input": false,
  "kernelspec": {
   "display_name": "venv",
   "language": "python",
   "name": "python3"
  },
  "language_info": {
   "codemirror_mode": {
    "name": "ipython",
    "version": 3
   },
   "file_extension": ".py",
   "mimetype": "text/x-python",
   "name": "python",
   "nbconvert_exporter": "python",
   "pygments_lexer": "ipython3",
   "version": "3.10.16"
  }
 },
 "nbformat": 4,
 "nbformat_minor": 5
}
