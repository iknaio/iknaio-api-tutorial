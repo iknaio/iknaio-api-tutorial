{
 "cells": [
  {
   "cell_type": "markdown",
   "id": "490f9cdd-0033-47ac-b955-6faa2bbc1409",
   "metadata": {},
   "source": [
    "# Install Dependencies"
   ]
  },
  {
   "cell_type": "code",
   "execution_count": 5,
   "id": "0798c462",
   "metadata": {},
   "outputs": [
    {
     "name": "stdout",
     "output_type": "stream",
     "text": [
      "Requirement already satisfied: graphsense-python in /home/mf/Documents/ikna/src/tutorials/iknaio-api-tutorial/venv/lib/python3.10/site-packages (1.4.0)\n",
      "Requirement already satisfied: python-dateutil in /home/mf/Documents/ikna/src/tutorials/iknaio-api-tutorial/venv/lib/python3.10/site-packages (from graphsense-python) (2.8.2)\n",
      "Requirement already satisfied: urllib3>=1.25.3 in /home/mf/Documents/ikna/src/tutorials/iknaio-api-tutorial/venv/lib/python3.10/site-packages (from graphsense-python) (2.1.0)\n",
      "Requirement already satisfied: six>=1.5 in /home/mf/Documents/ikna/src/tutorials/iknaio-api-tutorial/venv/lib/python3.10/site-packages (from python-dateutil->graphsense-python) (1.16.0)\n",
      "\n",
      "\u001b[1m[\u001b[0m\u001b[34;49mnotice\u001b[0m\u001b[1;39;49m]\u001b[0m\u001b[39;49m A new release of pip available: \u001b[0m\u001b[31;49m22.3.1\u001b[0m\u001b[39;49m -> \u001b[0m\u001b[32;49m23.3.1\u001b[0m\n",
      "\u001b[1m[\u001b[0m\u001b[34;49mnotice\u001b[0m\u001b[1;39;49m]\u001b[0m\u001b[39;49m To update, run: \u001b[0m\u001b[32;49mpip install --upgrade pip\u001b[0m\n"
     ]
    }
   ],
   "source": [
    "!pip install graphsense-python\n",
    "import pandas as pd\n",
    "import graphsense as gs\n",
    "from graphsense.api import addresses_api, blocks_api, entities_api, general_api, txs_api, bulk_api"
   ]
  },
  {
   "cell_type": "markdown",
   "id": "ed672386-3b9e-4ea7-955a-8ef3a4319e26",
   "metadata": {},
   "source": [
    "# Set Api Key"
   ]
  },
  {
   "cell_type": "code",
   "execution_count": 15,
   "id": "f953022b",
   "metadata": {},
   "outputs": [],
   "source": [
    "configuration = gs.Configuration(\n",
    "    host = \"https://api.test.ikna.io/\",\n",
    "    api_key = {\n",
    "        'api_key': \"\"\n",
    "    })"
   ]
  },
  {
   "cell_type": "markdown",
   "id": "8420c13a",
   "metadata": {},
   "source": [
    "# Prepare Tron Seed Addresses"
   ]
  },
  {
   "cell_type": "code",
   "execution_count": 7,
   "id": "b0aede0d",
   "metadata": {},
   "outputs": [],
   "source": [
    "addresses = [\n",
    "     \"TWS1onJnNTg8tJHomceqxBxTsUB1DHh7PV\"\n",
    "    ,\"TCQyM9ubSpKggiTYwYjAA31XzM7QH6GWqh\"\n",
    "    ,\"TKsF5YVJiAvrFMysA2pk17dWK84eVtSS8z\"\n",
    "]"
   ]
  },
  {
   "cell_type": "markdown",
   "id": "948e005a",
   "metadata": {},
   "source": [
    "# Load Address Details"
   ]
  },
  {
   "cell_type": "code",
   "execution_count": 16,
   "id": "a224bf4a",
   "metadata": {},
   "outputs": [
    {
     "data": {
      "text/html": [
       "<div>\n",
       "<style scoped>\n",
       "    .dataframe tbody tr th:only-of-type {\n",
       "        vertical-align: middle;\n",
       "    }\n",
       "\n",
       "    .dataframe tbody tr th {\n",
       "        vertical-align: top;\n",
       "    }\n",
       "\n",
       "    .dataframe thead th {\n",
       "        text-align: right;\n",
       "    }\n",
       "</style>\n",
       "<table border=\"1\" class=\"dataframe\">\n",
       "  <thead>\n",
       "    <tr style=\"text-align: right;\">\n",
       "      <th></th>\n",
       "      <th>_error</th>\n",
       "      <th>_info</th>\n",
       "      <th>_request_address</th>\n",
       "      <th>actors</th>\n",
       "      <th>address</th>\n",
       "      <th>balance_eur</th>\n",
       "      <th>balance_usd</th>\n",
       "      <th>balance_value</th>\n",
       "      <th>currency</th>\n",
       "      <th>entity</th>\n",
       "      <th>...</th>\n",
       "      <th>total_tokens_received_usdt_eur</th>\n",
       "      <th>total_tokens_received_usdt_usd</th>\n",
       "      <th>total_tokens_received_usdt_value</th>\n",
       "      <th>total_tokens_spent</th>\n",
       "      <th>total_tokens_spent_usdc_eur</th>\n",
       "      <th>total_tokens_spent_usdc_usd</th>\n",
       "      <th>total_tokens_spent_usdc_value</th>\n",
       "      <th>total_tokens_spent_usdt_eur</th>\n",
       "      <th>total_tokens_spent_usdt_usd</th>\n",
       "      <th>total_tokens_spent_usdt_value</th>\n",
       "    </tr>\n",
       "  </thead>\n",
       "  <tbody>\n",
       "    <tr>\n",
       "      <th>0</th>\n",
       "      <td>NaN</td>\n",
       "      <td>NaN</td>\n",
       "      <td>TCQyM9ubSpKggiTYwYjAA31XzM7QH6GWqh</td>\n",
       "      <td>NaN</td>\n",
       "      <td>TCQyM9ubSpKggiTYwYjAA31XzM7QH6GWqh</td>\n",
       "      <td>105.06</td>\n",
       "      <td>113.24</td>\n",
       "      <td>1080509801</td>\n",
       "      <td>trx</td>\n",
       "      <td>15960758</td>\n",
       "      <td>...</td>\n",
       "      <td>NaN</td>\n",
       "      <td>NaN</td>\n",
       "      <td>NaN</td>\n",
       "      <td>NaN</td>\n",
       "      <td>NaN</td>\n",
       "      <td>NaN</td>\n",
       "      <td>NaN</td>\n",
       "      <td>NaN</td>\n",
       "      <td>NaN</td>\n",
       "      <td>NaN</td>\n",
       "    </tr>\n",
       "    <tr>\n",
       "      <th>1</th>\n",
       "      <td>NaN</td>\n",
       "      <td>NaN</td>\n",
       "      <td>TKsF5YVJiAvrFMysA2pk17dWK84eVtSS8z</td>\n",
       "      <td>NaN</td>\n",
       "      <td>TKsF5YVJiAvrFMysA2pk17dWK84eVtSS8z</td>\n",
       "      <td>201389.99</td>\n",
       "      <td>217058.13</td>\n",
       "      <td>2071204105993</td>\n",
       "      <td>trx</td>\n",
       "      <td>153715842</td>\n",
       "      <td>...</td>\n",
       "      <td>NaN</td>\n",
       "      <td>NaN</td>\n",
       "      <td>NaN</td>\n",
       "      <td>NaN</td>\n",
       "      <td>NaN</td>\n",
       "      <td>NaN</td>\n",
       "      <td>NaN</td>\n",
       "      <td>NaN</td>\n",
       "      <td>NaN</td>\n",
       "      <td>NaN</td>\n",
       "    </tr>\n",
       "    <tr>\n",
       "      <th>2</th>\n",
       "      <td>NaN</td>\n",
       "      <td>NaN</td>\n",
       "      <td>TWS1onJnNTg8tJHomceqxBxTsUB1DHh7PV</td>\n",
       "      <td>NaN</td>\n",
       "      <td>TWS1onJnNTg8tJHomceqxBxTsUB1DHh7PV</td>\n",
       "      <td>3066477.08</td>\n",
       "      <td>3305049.10</td>\n",
       "      <td>31537317509555</td>\n",
       "      <td>trx</td>\n",
       "      <td>70411608</td>\n",
       "      <td>...</td>\n",
       "      <td>1.650325e+09</td>\n",
       "      <td>1.763367e+09</td>\n",
       "      <td>1.763367e+15</td>\n",
       "      <td>NaN</td>\n",
       "      <td>6701891.5</td>\n",
       "      <td>7216129.5</td>\n",
       "      <td>7.216129e+12</td>\n",
       "      <td>1.650734e+09</td>\n",
       "      <td>1.763727e+09</td>\n",
       "      <td>1.763727e+15</td>\n",
       "    </tr>\n",
       "  </tbody>\n",
       "</table>\n",
       "<p>3 rows × 49 columns</p>\n",
       "</div>"
      ],
      "text/plain": [
       "   _error  _info                    _request_address  actors  \\\n",
       "0     NaN    NaN  TCQyM9ubSpKggiTYwYjAA31XzM7QH6GWqh     NaN   \n",
       "1     NaN    NaN  TKsF5YVJiAvrFMysA2pk17dWK84eVtSS8z     NaN   \n",
       "2     NaN    NaN  TWS1onJnNTg8tJHomceqxBxTsUB1DHh7PV     NaN   \n",
       "\n",
       "                              address  balance_eur  balance_usd  \\\n",
       "0  TCQyM9ubSpKggiTYwYjAA31XzM7QH6GWqh       105.06       113.24   \n",
       "1  TKsF5YVJiAvrFMysA2pk17dWK84eVtSS8z    201389.99    217058.13   \n",
       "2  TWS1onJnNTg8tJHomceqxBxTsUB1DHh7PV   3066477.08   3305049.10   \n",
       "\n",
       "    balance_value currency     entity  ...  total_tokens_received_usdt_eur  \\\n",
       "0      1080509801      trx   15960758  ...                             NaN   \n",
       "1   2071204105993      trx  153715842  ...                             NaN   \n",
       "2  31537317509555      trx   70411608  ...                    1.650325e+09   \n",
       "\n",
       "   total_tokens_received_usdt_usd total_tokens_received_usdt_value  \\\n",
       "0                             NaN                              NaN   \n",
       "1                             NaN                              NaN   \n",
       "2                    1.763367e+09                     1.763367e+15   \n",
       "\n",
       "   total_tokens_spent  total_tokens_spent_usdc_eur  \\\n",
       "0                 NaN                          NaN   \n",
       "1                 NaN                          NaN   \n",
       "2                 NaN                    6701891.5   \n",
       "\n",
       "   total_tokens_spent_usdc_usd  total_tokens_spent_usdc_value  \\\n",
       "0                          NaN                            NaN   \n",
       "1                          NaN                            NaN   \n",
       "2                    7216129.5                   7.216129e+12   \n",
       "\n",
       "  total_tokens_spent_usdt_eur  total_tokens_spent_usdt_usd  \\\n",
       "0                         NaN                          NaN   \n",
       "1                         NaN                          NaN   \n",
       "2                1.650734e+09                 1.763727e+09   \n",
       "\n",
       "   total_tokens_spent_usdt_value  \n",
       "0                            NaN  \n",
       "1                            NaN  \n",
       "2                   1.763727e+15  \n",
       "\n",
       "[3 rows x 49 columns]"
      ]
     },
     "execution_count": 16,
     "metadata": {},
     "output_type": "execute_result"
    }
   ],
   "source": [
    "with gs.ApiClient(configuration) as api_client:\n",
    "    blkapi = bulk_api.BulkApi(api_client)\n",
    "    rcsv = blkapi.bulk_csv(\n",
    "                  \"trx\",\n",
    "                  \"get_address\", \n",
    "                  body = {\n",
    "                      \"address\": addresses\n",
    "                      },\n",
    "                  num_pages = 1,\n",
    "                  _preload_content=False\n",
    "                  )\n",
    "    df = pd.read_csv(rcsv)\n",
    "df"
   ]
  },
  {
   "cell_type": "code",
   "execution_count": null,
   "id": "1158faeb",
   "metadata": {},
   "outputs": [],
   "source": []
  }
 ],
 "metadata": {
  "kernelspec": {
   "display_name": "Python 3 (ipykernel)",
   "language": "python",
   "name": "python3"
  },
  "language_info": {
   "codemirror_mode": {
    "name": "ipython",
    "version": 3
   },
   "file_extension": ".py",
   "mimetype": "text/x-python",
   "name": "python",
   "nbconvert_exporter": "python",
   "pygments_lexer": "ipython3",
   "version": "3.10.13"
  }
 },
 "nbformat": 4,
 "nbformat_minor": 5
}
