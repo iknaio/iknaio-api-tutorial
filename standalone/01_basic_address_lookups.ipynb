{
 "cells": [
  {
   "cell_type": "markdown",
   "metadata": {
    "id": "3Y-JW86BXq5E"
   },
   "source": [
    "# Install dependencies"
   ]
  },
  {
   "cell_type": "code",
   "execution_count": 1,
   "metadata": {
    "colab": {
     "base_uri": "https://localhost:8080/"
    },
    "id": "iN-6IA0poLIp",
    "outputId": "3c815daf-4593-424a-cd30-f62ce19beb56",
    "ExecuteTime": {
     "end_time": "2023-10-10T10:19:22.497916093Z",
     "start_time": "2023-10-10T10:19:21.538356455Z"
    }
   },
   "outputs": [
    {
     "name": "stdout",
     "output_type": "stream",
     "text": [
      "Requirement already satisfied: graphsense-python in /home/tom/anaconda3/envs/iknaio-api-tutorial/lib/python3.11/site-packages (1.4.0)\r\n",
      "Requirement already satisfied: urllib3>=1.25.3 in /home/tom/anaconda3/envs/iknaio-api-tutorial/lib/python3.11/site-packages (from graphsense-python) (2.0.6)\r\n",
      "Requirement already satisfied: python-dateutil in /home/tom/anaconda3/envs/iknaio-api-tutorial/lib/python3.11/site-packages (from graphsense-python) (2.8.2)\r\n",
      "Requirement already satisfied: six>=1.5 in /home/tom/anaconda3/envs/iknaio-api-tutorial/lib/python3.11/site-packages (from python-dateutil->graphsense-python) (1.16.0)\r\n"
     ]
    }
   ],
   "source": [
    "!pip install graphsense-python\n",
    "import pandas as pd\n",
    "import graphsense as gs\n",
    "from graphsense.api import addresses_api, blocks_api, entities_api, general_api, txs_api, bulk_api\n",
    "import seaborn as sns\n",
    "import matplotlib.pyplot as plt"
   ]
  },
  {
   "cell_type": "markdown",
   "metadata": {
    "id": "BCoNLvI9X17T"
   },
   "source": [
    "# Configure Client"
   ]
  },
  {
   "cell_type": "code",
   "execution_count": 2,
   "metadata": {
    "colab": {
     "base_uri": "https://localhost:8080/",
     "height": 175
    },
    "id": "ttQ1wrqLMf-g",
    "outputId": "5fb7308a-0d7a-46b2-c513-9e668c7bfa7a",
    "ExecuteTime": {
     "end_time": "2023-10-10T10:19:22.519218125Z",
     "start_time": "2023-10-10T10:19:22.499990807Z"
    }
   },
   "outputs": [],
   "source": [
    "configuration = gs.Configuration(\n",
    "    host = \"https://api.ikna.io/\",\n",
    "    api_key = {\n",
    "        'api_key': \"\"\n",
    "    })\n"
   ]
  },
  {
   "cell_type": "markdown",
   "metadata": {
    "id": "WPa8z5HLYDMF"
   },
   "source": [
    "# Read Seed Addresses\n",
    "\n"
   ]
  },
  {
   "cell_type": "code",
   "execution_count": 3,
   "metadata": {
    "id": "N29ahMYoYG7W",
    "ExecuteTime": {
     "end_time": "2023-10-10T10:19:22.605548094Z",
     "start_time": "2023-10-10T10:19:22.506188929Z"
    }
   },
   "outputs": [
    {
     "data": {
      "text/plain": "                              address\n0  1JwRp2J8bQcoG8XTUbxQZaEj9QB4RB6zEa\n1  1EZS92K4xJbymDLwG4F7PNF5idPE62e9XY\n2  16B4HuSAJ4WRdCq7dzA5b4ASh6QQ7ytZWB\n3  1EdX5vtBiHGmkqbJc7VRSuVMx9Kpgh53Tp",
      "text/html": "<div>\n<style scoped>\n    .dataframe tbody tr th:only-of-type {\n        vertical-align: middle;\n    }\n\n    .dataframe tbody tr th {\n        vertical-align: top;\n    }\n\n    .dataframe thead th {\n        text-align: right;\n    }\n</style>\n<table border=\"1\" class=\"dataframe\">\n  <thead>\n    <tr style=\"text-align: right;\">\n      <th></th>\n      <th>address</th>\n    </tr>\n  </thead>\n  <tbody>\n    <tr>\n      <th>0</th>\n      <td>1JwRp2J8bQcoG8XTUbxQZaEj9QB4RB6zEa</td>\n    </tr>\n    <tr>\n      <th>1</th>\n      <td>1EZS92K4xJbymDLwG4F7PNF5idPE62e9XY</td>\n    </tr>\n    <tr>\n      <th>2</th>\n      <td>16B4HuSAJ4WRdCq7dzA5b4ASh6QQ7ytZWB</td>\n    </tr>\n    <tr>\n      <th>3</th>\n      <td>1EdX5vtBiHGmkqbJc7VRSuVMx9Kpgh53Tp</td>\n    </tr>\n  </tbody>\n</table>\n</div>"
     },
     "execution_count": 3,
     "metadata": {},
     "output_type": "execute_result"
    }
   ],
   "source": [
    "addresses = pd.read_csv(\n",
    "    \"https://raw.githubusercontent.com/iknaio/iknaio-api-tutorial/main/data/sextortion_addresses.csv\",\n",
    "    header=None,\n",
    "    names=[\"address\"]\n",
    ")\n",
    "addresses.head(4)"
   ]
  },
  {
   "cell_type": "markdown",
   "metadata": {
    "id": "QdcazxfBX01r"
   },
   "source": [
    "# First Request - System State\n"
   ]
  },
  {
   "cell_type": "code",
   "execution_count": 4,
   "metadata": {
    "id": "w_P4n7PJPoib",
    "ExecuteTime": {
     "end_time": "2023-10-10T10:19:22.699926472Z",
     "start_time": "2023-10-10T10:19:22.607332546Z"
    }
   },
   "outputs": [
    {
     "data": {
      "text/plain": "{'currencies': [{'name': 'btc',\n                 'no_address_relations': 8864712033,\n                 'no_addresses': 1198789660,\n                 'no_blocks': 811269,\n                 'no_entities': 539783429,\n                 'no_labels': 18757,\n                 'no_tagged_addresses': 286973684,\n                 'no_txs': 904137849,\n                 'timestamp': 1696791615},\n                {'name': 'bch',\n                 'no_address_relations': 2484600132,\n                 'no_addresses': 341611110,\n                 'no_blocks': 814392,\n                 'no_entities': 153706396,\n                 'no_labels': 154,\n                 'no_tagged_addresses': 15922605,\n                 'no_txs': 375322466,\n                 'timestamp': 1696920191},\n                {'name': 'ltc',\n                 'no_address_relations': 1791384781,\n                 'no_addresses': 208197279,\n                 'no_blocks': 2559542,\n                 'no_entities': 90713217,\n                 'no_labels': 242,\n                 'no_tagged_addresses': 27887723,\n                 'no_txs': 180238890,\n                 'timestamp': 1696915335},\n                {'name': 'zec',\n                 'no_address_relations': 116811906,\n                 'no_addresses': 7920368,\n                 'no_blocks': 2256294,\n                 'no_entities': 3986840,\n                 'no_labels': 26,\n                 'no_tagged_addresses': 1438321,\n                 'no_txs': 13514919,\n                 'timestamp': 1696917807},\n                {'name': 'eth',\n                 'no_address_relations': 1024142613,\n                 'no_addresses': 270965142,\n                 'no_blocks': 18318639,\n                 'no_entities': 0,\n                 'no_labels': 27966,\n                 'no_tagged_addresses': 250998,\n                 'no_txs': 2087361958,\n                 'timestamp': 1696923791}],\n 'request_timestamp': '2023-10-10 10:19:22',\n 'version': '1.4.0'}"
     },
     "metadata": {},
     "output_type": "display_data"
    }
   ],
   "source": [
    "with gs.ApiClient(configuration) as api_client:\n",
    "    api_instance = general_api.GeneralApi(api_client)\n",
    "    api_response = api_instance.get_statistics()\n",
    "    display(api_response)"
   ]
  },
  {
   "cell_type": "markdown",
   "metadata": {
    "id": "t0ouUKrTX_2d"
   },
   "source": [
    "# Read Address details for all seed addresses"
   ]
  },
  {
   "cell_type": "code",
   "execution_count": 5,
   "metadata": {
    "colab": {
     "base_uri": "https://localhost:8080/",
     "height": 488
    },
    "id": "p5MpTgT4QRjt",
    "outputId": "3d8b36cc-6518-4053-8a91-2b638a400909",
    "ExecuteTime": {
     "end_time": "2023-10-10T10:19:24.431183901Z",
     "start_time": "2023-10-10T10:19:22.700926602Z"
    }
   },
   "outputs": [
    {
     "data": {
      "text/plain": "     _error  _info                    _request_address  actors  \\\n0       NaN    NaN  1CnQxRTP5WeGmwaSriYdefDEHyjWpY7tjw     NaN   \n1       NaN    NaN  1GjZSJnpU4AfTS8vmre6rx7eQgeMUq8VYr     NaN   \n2       NaN    NaN  1FG7huiM8Jq8JdpULfvVDCHThZqVeKB96q     NaN   \n3       NaN    NaN  144CDUeBhcwoEUmA2B1cL5p5PqZrhJWCCt     NaN   \n4       NaN    NaN  139XY4ZjWYqHMJvGCySuzXq7o6tGccKKrJ     NaN   \n..      ...    ...                                 ...     ...   \n240     NaN    NaN  1GGhxKFqxvgdB6Qnqx9xhY9ZkpwMJ6mkR1     NaN   \n241     NaN    NaN  16FTEMtNaCEWzFRpkkBMqpuh18cbwU4KzM     NaN   \n242     NaN    NaN  17xWa327xRku1y2far9aaxsz46GrdaxjND     NaN   \n243     NaN    NaN  3Jy5Ag9WYya7XD7aVwmRnpcrkehqnFhp5G     NaN   \n244     NaN    NaN  1AjgBp2S3GuD9pyySTZWgqsBpixDNosbDU     NaN   \n\n                                address  balance_eur  balance_usd  \\\n0    1CnQxRTP5WeGmwaSriYdefDEHyjWpY7tjw          0.0          0.0   \n1    1GjZSJnpU4AfTS8vmre6rx7eQgeMUq8VYr          0.0          0.0   \n2    1FG7huiM8Jq8JdpULfvVDCHThZqVeKB96q          0.0          0.0   \n3    144CDUeBhcwoEUmA2B1cL5p5PqZrhJWCCt          0.0          0.0   \n4    139XY4ZjWYqHMJvGCySuzXq7o6tGccKKrJ          0.0          0.0   \n..                                  ...          ...          ...   \n240  1GGhxKFqxvgdB6Qnqx9xhY9ZkpwMJ6mkR1          0.0          0.0   \n241  16FTEMtNaCEWzFRpkkBMqpuh18cbwU4KzM          0.0          0.0   \n242  17xWa327xRku1y2far9aaxsz46GrdaxjND          0.0          0.0   \n243  3Jy5Ag9WYya7XD7aVwmRnpcrkehqnFhp5G          0.0          0.0   \n244  1AjgBp2S3GuD9pyySTZWgqsBpixDNosbDU          0.0          0.0   \n\n     balance_value currency     entity  ...  status  token_balances  \\\n0                0      btc  465259324  ...   clean             NaN   \n1                0      btc  466309838  ...   clean             NaN   \n2                0      btc  421412158  ...   clean             NaN   \n3                0      btc  430255406  ...   clean             NaN   \n4                0      btc  430255406  ...   clean             NaN   \n..             ...      ...        ...  ...     ...             ...   \n240              0      btc  446281043  ...   clean             NaN   \n241              0      btc  432567454  ...   clean             NaN   \n242              0      btc  449332789  ...   clean             NaN   \n243              0      btc  134568894  ...   clean             NaN   \n244              0      btc  440390220  ...   clean             NaN   \n\n    total_received_eur  total_received_usd  total_received_value  \\\n0               772.30              879.98              22836576   \n1             11617.30            13339.23             354892329   \n2               349.91              409.00               6249697   \n3             12783.10            15034.87             224736076   \n4               957.29             1119.91              17136703   \n..                 ...                 ...                   ...   \n240             711.05              816.78              12507839   \n241            1539.99             1796.71              28080000   \n242             827.01              944.53              21216462   \n243            6702.91             7649.68             128367789   \n244             638.31              727.23              18460000   \n\n     total_spent_eur  total_spent_usd total_spent_value  \\\n0             798.33           913.22          22836576   \n1           11434.20         13096.07         354892329   \n2             348.50           407.37           6249697   \n3           12320.83         14497.81         224736076   \n4             973.32          1123.50          17136703   \n..               ...              ...               ...   \n240           624.90           706.45          12507839   \n241          1574.69          1852.66          28080000   \n242           696.85           794.76          21216462   \n243          6578.79          7504.64         128367789   \n244           624.17           712.06          18460000   \n\n     total_tokens_received  total_tokens_spent  \n0                      NaN                 NaN  \n1                      NaN                 NaN  \n2                      NaN                 NaN  \n3                      NaN                 NaN  \n4                      NaN                 NaN  \n..                     ...                 ...  \n240                    NaN                 NaN  \n241                    NaN                 NaN  \n242                    NaN                 NaN  \n243                    NaN                 NaN  \n244                    NaN                 NaN  \n\n[245 rows x 31 columns]",
      "text/html": "<div>\n<style scoped>\n    .dataframe tbody tr th:only-of-type {\n        vertical-align: middle;\n    }\n\n    .dataframe tbody tr th {\n        vertical-align: top;\n    }\n\n    .dataframe thead th {\n        text-align: right;\n    }\n</style>\n<table border=\"1\" class=\"dataframe\">\n  <thead>\n    <tr style=\"text-align: right;\">\n      <th></th>\n      <th>_error</th>\n      <th>_info</th>\n      <th>_request_address</th>\n      <th>actors</th>\n      <th>address</th>\n      <th>balance_eur</th>\n      <th>balance_usd</th>\n      <th>balance_value</th>\n      <th>currency</th>\n      <th>entity</th>\n      <th>...</th>\n      <th>status</th>\n      <th>token_balances</th>\n      <th>total_received_eur</th>\n      <th>total_received_usd</th>\n      <th>total_received_value</th>\n      <th>total_spent_eur</th>\n      <th>total_spent_usd</th>\n      <th>total_spent_value</th>\n      <th>total_tokens_received</th>\n      <th>total_tokens_spent</th>\n    </tr>\n  </thead>\n  <tbody>\n    <tr>\n      <th>0</th>\n      <td>NaN</td>\n      <td>NaN</td>\n      <td>1CnQxRTP5WeGmwaSriYdefDEHyjWpY7tjw</td>\n      <td>NaN</td>\n      <td>1CnQxRTP5WeGmwaSriYdefDEHyjWpY7tjw</td>\n      <td>0.0</td>\n      <td>0.0</td>\n      <td>0</td>\n      <td>btc</td>\n      <td>465259324</td>\n      <td>...</td>\n      <td>clean</td>\n      <td>NaN</td>\n      <td>772.30</td>\n      <td>879.98</td>\n      <td>22836576</td>\n      <td>798.33</td>\n      <td>913.22</td>\n      <td>22836576</td>\n      <td>NaN</td>\n      <td>NaN</td>\n    </tr>\n    <tr>\n      <th>1</th>\n      <td>NaN</td>\n      <td>NaN</td>\n      <td>1GjZSJnpU4AfTS8vmre6rx7eQgeMUq8VYr</td>\n      <td>NaN</td>\n      <td>1GjZSJnpU4AfTS8vmre6rx7eQgeMUq8VYr</td>\n      <td>0.0</td>\n      <td>0.0</td>\n      <td>0</td>\n      <td>btc</td>\n      <td>466309838</td>\n      <td>...</td>\n      <td>clean</td>\n      <td>NaN</td>\n      <td>11617.30</td>\n      <td>13339.23</td>\n      <td>354892329</td>\n      <td>11434.20</td>\n      <td>13096.07</td>\n      <td>354892329</td>\n      <td>NaN</td>\n      <td>NaN</td>\n    </tr>\n    <tr>\n      <th>2</th>\n      <td>NaN</td>\n      <td>NaN</td>\n      <td>1FG7huiM8Jq8JdpULfvVDCHThZqVeKB96q</td>\n      <td>NaN</td>\n      <td>1FG7huiM8Jq8JdpULfvVDCHThZqVeKB96q</td>\n      <td>0.0</td>\n      <td>0.0</td>\n      <td>0</td>\n      <td>btc</td>\n      <td>421412158</td>\n      <td>...</td>\n      <td>clean</td>\n      <td>NaN</td>\n      <td>349.91</td>\n      <td>409.00</td>\n      <td>6249697</td>\n      <td>348.50</td>\n      <td>407.37</td>\n      <td>6249697</td>\n      <td>NaN</td>\n      <td>NaN</td>\n    </tr>\n    <tr>\n      <th>3</th>\n      <td>NaN</td>\n      <td>NaN</td>\n      <td>144CDUeBhcwoEUmA2B1cL5p5PqZrhJWCCt</td>\n      <td>NaN</td>\n      <td>144CDUeBhcwoEUmA2B1cL5p5PqZrhJWCCt</td>\n      <td>0.0</td>\n      <td>0.0</td>\n      <td>0</td>\n      <td>btc</td>\n      <td>430255406</td>\n      <td>...</td>\n      <td>clean</td>\n      <td>NaN</td>\n      <td>12783.10</td>\n      <td>15034.87</td>\n      <td>224736076</td>\n      <td>12320.83</td>\n      <td>14497.81</td>\n      <td>224736076</td>\n      <td>NaN</td>\n      <td>NaN</td>\n    </tr>\n    <tr>\n      <th>4</th>\n      <td>NaN</td>\n      <td>NaN</td>\n      <td>139XY4ZjWYqHMJvGCySuzXq7o6tGccKKrJ</td>\n      <td>NaN</td>\n      <td>139XY4ZjWYqHMJvGCySuzXq7o6tGccKKrJ</td>\n      <td>0.0</td>\n      <td>0.0</td>\n      <td>0</td>\n      <td>btc</td>\n      <td>430255406</td>\n      <td>...</td>\n      <td>clean</td>\n      <td>NaN</td>\n      <td>957.29</td>\n      <td>1119.91</td>\n      <td>17136703</td>\n      <td>973.32</td>\n      <td>1123.50</td>\n      <td>17136703</td>\n      <td>NaN</td>\n      <td>NaN</td>\n    </tr>\n    <tr>\n      <th>...</th>\n      <td>...</td>\n      <td>...</td>\n      <td>...</td>\n      <td>...</td>\n      <td>...</td>\n      <td>...</td>\n      <td>...</td>\n      <td>...</td>\n      <td>...</td>\n      <td>...</td>\n      <td>...</td>\n      <td>...</td>\n      <td>...</td>\n      <td>...</td>\n      <td>...</td>\n      <td>...</td>\n      <td>...</td>\n      <td>...</td>\n      <td>...</td>\n      <td>...</td>\n      <td>...</td>\n    </tr>\n    <tr>\n      <th>240</th>\n      <td>NaN</td>\n      <td>NaN</td>\n      <td>1GGhxKFqxvgdB6Qnqx9xhY9ZkpwMJ6mkR1</td>\n      <td>NaN</td>\n      <td>1GGhxKFqxvgdB6Qnqx9xhY9ZkpwMJ6mkR1</td>\n      <td>0.0</td>\n      <td>0.0</td>\n      <td>0</td>\n      <td>btc</td>\n      <td>446281043</td>\n      <td>...</td>\n      <td>clean</td>\n      <td>NaN</td>\n      <td>711.05</td>\n      <td>816.78</td>\n      <td>12507839</td>\n      <td>624.90</td>\n      <td>706.45</td>\n      <td>12507839</td>\n      <td>NaN</td>\n      <td>NaN</td>\n    </tr>\n    <tr>\n      <th>241</th>\n      <td>NaN</td>\n      <td>NaN</td>\n      <td>16FTEMtNaCEWzFRpkkBMqpuh18cbwU4KzM</td>\n      <td>NaN</td>\n      <td>16FTEMtNaCEWzFRpkkBMqpuh18cbwU4KzM</td>\n      <td>0.0</td>\n      <td>0.0</td>\n      <td>0</td>\n      <td>btc</td>\n      <td>432567454</td>\n      <td>...</td>\n      <td>clean</td>\n      <td>NaN</td>\n      <td>1539.99</td>\n      <td>1796.71</td>\n      <td>28080000</td>\n      <td>1574.69</td>\n      <td>1852.66</td>\n      <td>28080000</td>\n      <td>NaN</td>\n      <td>NaN</td>\n    </tr>\n    <tr>\n      <th>242</th>\n      <td>NaN</td>\n      <td>NaN</td>\n      <td>17xWa327xRku1y2far9aaxsz46GrdaxjND</td>\n      <td>NaN</td>\n      <td>17xWa327xRku1y2far9aaxsz46GrdaxjND</td>\n      <td>0.0</td>\n      <td>0.0</td>\n      <td>0</td>\n      <td>btc</td>\n      <td>449332789</td>\n      <td>...</td>\n      <td>clean</td>\n      <td>NaN</td>\n      <td>827.01</td>\n      <td>944.53</td>\n      <td>21216462</td>\n      <td>696.85</td>\n      <td>794.76</td>\n      <td>21216462</td>\n      <td>NaN</td>\n      <td>NaN</td>\n    </tr>\n    <tr>\n      <th>243</th>\n      <td>NaN</td>\n      <td>NaN</td>\n      <td>3Jy5Ag9WYya7XD7aVwmRnpcrkehqnFhp5G</td>\n      <td>NaN</td>\n      <td>3Jy5Ag9WYya7XD7aVwmRnpcrkehqnFhp5G</td>\n      <td>0.0</td>\n      <td>0.0</td>\n      <td>0</td>\n      <td>btc</td>\n      <td>134568894</td>\n      <td>...</td>\n      <td>clean</td>\n      <td>NaN</td>\n      <td>6702.91</td>\n      <td>7649.68</td>\n      <td>128367789</td>\n      <td>6578.79</td>\n      <td>7504.64</td>\n      <td>128367789</td>\n      <td>NaN</td>\n      <td>NaN</td>\n    </tr>\n    <tr>\n      <th>244</th>\n      <td>NaN</td>\n      <td>NaN</td>\n      <td>1AjgBp2S3GuD9pyySTZWgqsBpixDNosbDU</td>\n      <td>NaN</td>\n      <td>1AjgBp2S3GuD9pyySTZWgqsBpixDNosbDU</td>\n      <td>0.0</td>\n      <td>0.0</td>\n      <td>0</td>\n      <td>btc</td>\n      <td>440390220</td>\n      <td>...</td>\n      <td>clean</td>\n      <td>NaN</td>\n      <td>638.31</td>\n      <td>727.23</td>\n      <td>18460000</td>\n      <td>624.17</td>\n      <td>712.06</td>\n      <td>18460000</td>\n      <td>NaN</td>\n      <td>NaN</td>\n    </tr>\n  </tbody>\n</table>\n<p>245 rows × 31 columns</p>\n</div>"
     },
     "execution_count": 5,
     "metadata": {},
     "output_type": "execute_result"
    }
   ],
   "source": [
    "with gs.ApiClient(configuration) as api_client:\n",
    "  blkapi = bulk_api.BulkApi(api_client)\n",
    "  rcsv = blkapi.bulk_csv(\n",
    "                  \"btc\",\n",
    "                  \"get_address\", \n",
    "                  body = {\n",
    "                      \"address\": addresses['address'].to_list()\n",
    "                      },\n",
    "                  num_pages = 1,\n",
    "                  _preload_content=False\n",
    "                  )\n",
    "\n",
    "\n",
    "  df = pd.read_csv(rcsv)\n",
    "df"
   ]
  },
  {
   "cell_type": "markdown",
   "metadata": {
    "id": "KiqagQXNZ6dH"
   },
   "source": [
    "# Plot Data"
   ]
  },
  {
   "cell_type": "code",
   "execution_count": 6,
   "metadata": {
    "colab": {
     "base_uri": "https://localhost:8080/",
     "height": 467
    },
    "id": "BmZNXKDIQpnJ",
    "outputId": "572c08ef-7966-4e10-8e8d-26a134ec7748",
    "ExecuteTime": {
     "end_time": "2023-10-10T10:19:24.664666321Z",
     "start_time": "2023-10-10T10:19:24.430569403Z"
    }
   },
   "outputs": [
    {
     "data": {
      "text/plain": "<Figure size 640x480 with 1 Axes>",
      "image/png": "[encoded data removed]"
     },
     "metadata": {},
     "output_type": "display_data"
    }
   ],
   "source": [
    "p = sns.scatterplot(data=df, x=\"total_received_eur\", y=\"total_spent_eur\")\n",
    "plt.show(p)"
   ]
  }
 ],
 "metadata": {
  "colab": {
   "provenance": []
  },
  "kernelspec": {
   "display_name": "Python 3 (ipykernel)",
   "language": "python",
   "name": "python3"
  },
  "language_info": {
   "codemirror_mode": {
    "name": "ipython",
    "version": 3
   },
   "file_extension": ".py",
   "mimetype": "text/x-python",
   "name": "python",
   "nbconvert_exporter": "python",
   "pygments_lexer": "ipython3",
   "version": "3.11.5"
  }
 },
 "nbformat": 4,
 "nbformat_minor": 1
}
